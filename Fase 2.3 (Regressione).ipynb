{
 "cells": [
  {
   "cell_type": "code",
   "execution_count": 1,
   "metadata": {},
   "outputs": [],
   "source": [
    "#!pip install pandas\n",
    "#%matplotlib inline\n",
    "import math\n",
    "import numpy as np\n",
    "import pandas as pd\n",
    "import pandasql as ps\n",
    "import scipy.stats as stats\n",
    "import matplotlib.pyplot as plt\n",
    "import seaborn as sn\n",
    "from pandas.api.types import CategoricalDtype\n",
    "import IPython.display as ipd\n",
    "from tqdm.notebook import tqdm, trange\n",
    "from sklearn.decomposition import PCA\n",
    "from sklearn.model_selection import train_test_split, cross_val_score \n",
    "from sklearn.metrics import accuracy_score, f1_score, classification_report\n",
    "from sklearn.metrics import roc_curve, auc, roc_auc_score\n",
    "from sklearn.tree import DecisionTreeClassifier\n",
    "from sklearn import tree\n",
    "import random\n",
    "from collections import Counter\n",
    "from collections import defaultdict\n",
    "from sklearn.metrics import roc_curve, auc, roc_auc_score\n",
    "from scikitplot.metrics import plot_roc\n",
    "from scikitplot.metrics import plot_precision_recall\n",
    "from scikitplot.metrics import plot_cumulative_gain\n",
    "from scikitplot.metrics import plot_lift_curve\n",
    "\n",
    "import ast\n",
    "\n",
    "from collections import defaultdict\n",
    "from scipy.stats.stats import pearsonr\n",
    "\n",
    "plt.rcParams['axes.formatter.useoffset']=False\n",
    "pd.set_option('display.max_columns', None)\n",
    "plt.rcParams['figure.figsize'] = [20, 10]\n",
    "plt.rcParams['figure.dpi'] = 150\n",
    "\n",
    "def report(results, n_top=3):\n",
    "    for i in range(1, n_top + 1):\n",
    "        candidates = np.flatnonzero(results['rank_test_score'] == i)\n",
    "        for candidate in candidates:\n",
    "            print(\"Model with rank: {0}\".format(i))\n",
    "            print(\"Mean validation score: {0:.3f} (std: {1:.3f})\".format(\n",
    "                  results['mean_test_score'][candidate],\n",
    "                  results['std_test_score'][candidate]))\n",
    "            print(\"Parameters: {0}\".format(results['params'][candidate]))\n",
    "            print(\"\")"
   ]
  },
  {
   "cell_type": "code",
   "execution_count": 2,
   "metadata": {},
   "outputs": [],
   "source": [
    "df = pd.read_csv('flat_df_no_nulli.csv', index_col=0)"
   ]
  },
  {
   "cell_type": "code",
   "execution_count": 3,
   "metadata": {},
   "outputs": [],
   "source": [
    "features = [\n",
    " 'chroma_censkurtosis',\n",
    " 'chroma_censmax',\n",
    " 'chroma_censmean',\n",
    " 'chroma_censmedian',\n",
    " 'chroma_censmin',\n",
    " 'chroma_censskew',\n",
    " 'chroma_censstd',\n",
    " 'chroma_censcqtkurtosis',\n",
    " 'chroma_cqtmax',\n",
    " 'chroma_cqtmean',\n",
    " 'chroma_cqtmedian',\n",
    " 'chroma_cqtmin',\n",
    " 'chroma_cqtskew',\n",
    " 'chroma_cqtstd',\n",
    " 'chroma_stftkurtosis',\n",
    " 'chroma_stftmax',\n",
    " 'chroma_stftmean',\n",
    " 'chroma_stftmedian',\n",
    " 'chroma_stftmin',\n",
    " 'chroma_stftskew',\n",
    " 'chroma_stftstd',\n",
    " 'mfcckurtosis',\n",
    " 'mfccmax',\n",
    " 'mfccmean',\n",
    " 'mfccmedian',\n",
    " 'mfccmin',\n",
    " 'mfccskew',\n",
    " 'mfccstd',\n",
    " 'spectral_contrastkurtosis',\n",
    " 'spectral_contrastmax',\n",
    " 'spectral_contrastmean',\n",
    " 'spectral_contrastmedian',\n",
    " 'spectral_contrastmin',\n",
    " 'spectral_contrastskew',\n",
    " 'spectral_contraststd',\n",
    " 'tonnetzkurtosis',\n",
    " 'tonnetzmax',\n",
    " 'tonnetzmean',\n",
    " 'tonnetzmedian',\n",
    " 'tonnetzmin',\n",
    " 'tonnetzskew',\n",
    " 'tonnetzstd',\n",
    " 'rmsekurtosis01',\n",
    " 'rmsemax01',\n",
    " 'rmsemean01',\n",
    " 'rmsemedian01',\n",
    " 'rmsemin01',\n",
    " 'rmseskew01',\n",
    " 'rmsestd01',\n",
    " 'spectral_bandwidthkurtosis01',\n",
    " 'spectral_bandwidthmax01',\n",
    " 'spectral_bandwidthmean01',\n",
    " 'spectral_bandwidthmedian01',\n",
    " 'spectral_bandwidthmin01',\n",
    " 'spectral_bandwidthskew01',\n",
    " 'spectral_bandwidthstd01',\n",
    " 'spectral_centroidkurtosis01',\n",
    " 'spectral_centroidmax01',\n",
    " 'spectral_centroidmean01',\n",
    " 'spectral_centroidmedian01',\n",
    " 'spectral_centroidmin01',\n",
    " 'spectral_centroidskew01',\n",
    " 'spectral_centroidstd01',\n",
    " 'spectral_rolloffkurtosis01',\n",
    " 'spectral_rolloffmax01',\n",
    " 'spectral_rolloffmean01',\n",
    " 'spectral_rolloffmedian01',\n",
    " 'spectral_rolloffmin01',\n",
    " 'spectral_rolloffskew01',\n",
    " 'spectral_rolloffstd01',\n",
    " 'zcrkurtosis01',\n",
    " 'zcrmax01',\n",
    " 'zcrmean01',\n",
    " 'zcrmedian01',\n",
    " 'zcrmin01',\n",
    " 'zcrskew01',\n",
    " 'zcrstd01',\n",
    "]\n",
    "\n",
    "\n",
    "bitmap = [\n",
    "    'Blues',\n",
    " 'Classical',\n",
    " 'Country',\n",
    " 'Easy Listening',\n",
    " 'Electronic',\n",
    " 'Experimental',\n",
    " 'Folk',\n",
    " 'Hip-Hop',\n",
    " 'Instrumental',\n",
    " 'International',\n",
    " 'Jazz',\n",
    " 'Old-Time / Historic',\n",
    " 'Pop',\n",
    " 'Rock',\n",
    " 'Soul-RnB',\n",
    " 'Spoken',\n",
    "]\n",
    "\n",
    "nulli = [\n",
    "     'ALBUM_date_released_year',\n",
    "    'ALBUM_favorites',\n",
    "     'ALBUM_listens',\n",
    " 'ALBUM_tracks',\n",
    " 'ALBUM_type',\n",
    " 'ARTIST_favorites',\n",
    " 'ARTIST_location',\n",
    " 'TRACK_favorites',\n",
    "  'ARTIST_location_',\n",
    "    'TRACK_genres_soloTop'\n",
    "]\n",
    "\n",
    "nonNumerici = [\n",
    "    'ALBUM_tags',\n",
    "    'ALBUM_title',\n",
    "    'ARTIST_location_',\n",
    "    'ARTIST_name',\n",
    "    'ARTIST_tags',\n",
    "    'SET_subset',\n",
    "    'TRACK_genre_top',\n",
    "    'TRACK_genres',\n",
    "    'TRACK_genres_all',\n",
    "    'TRACK_genres_soloTop',\n",
    "    'TRACK_tags',\n",
    "    'TRACK_title',\n",
    "    'TRACK_genres_soloTop'\n",
    "]"
   ]
  },
  {
   "cell_type": "code",
   "execution_count": 4,
   "metadata": {},
   "outputs": [
    {
     "data": {
      "text/plain": [
       "['ALBUM_date_released_year_',\n",
       " 'ALBUM_favorites_',\n",
       " 'ALBUM_listens_',\n",
       " 'ALBUM_tracks_',\n",
       " 'ALBUM_type_',\n",
       " 'ARTIST_favorites_',\n",
       " 'TRACK_bitrate',\n",
       " 'TRACK_duration',\n",
       " 'TRACK_interest',\n",
       " 'TRACK_listens',\n",
       " 'TRACK_number']"
      ]
     },
     "execution_count": 4,
     "metadata": {},
     "output_type": "execute_result"
    }
   ],
   "source": [
    "def Diff(li1, li2):\n",
    "    return list(set(li1)-set(li2))\n",
    "\n",
    "tutti = list(df.columns)\n",
    "\n",
    "compl = Diff(tutti, features + bitmap + nonNumerici + nulli)\n",
    "\n",
    "compl.sort()\n",
    "\n",
    "compl"
   ]
  },
  {
   "cell_type": "code",
   "execution_count": 52,
   "metadata": {},
   "outputs": [],
   "source": [
    "df[bitmap] = df[bitmap].fillna(value=0)"
   ]
  },
  {
   "cell_type": "code",
   "execution_count": 5,
   "metadata": {},
   "outputs": [],
   "source": [
    "from sklearn.preprocessing import LabelEncoder\n",
    "\n",
    "label_encoders = dict()\n",
    "column2encode = ['ALBUM_type_']\n",
    "\n",
    "for col in column2encode:\n",
    "    le = LabelEncoder()\n",
    "    df[col] = le.fit_transform(df[col])\n",
    "    label_encoders[col] = le"
   ]
  },
  {
   "cell_type": "code",
   "execution_count": null,
   "metadata": {},
   "outputs": [],
   "source": []
  },
  {
   "cell_type": "markdown",
   "metadata": {},
   "source": [
    "# Data Partitioning"
   ]
  },
  {
   "cell_type": "code",
   "execution_count": null,
   "metadata": {},
   "outputs": [],
   "source": []
  },
  {
   "cell_type": "code",
   "execution_count": 122,
   "metadata": {},
   "outputs": [
    {
     "name": "stdout",
     "output_type": "stream",
     "text": [
      "chroma_censmax                 -0.281663\n",
      "tonnetzmin                     -0.235268\n",
      "spectral_contrastmin           -0.138952\n",
      "chroma_cqtmin                  -0.136705\n",
      "chroma_censmin                 -0.129294\n",
      "mfccskew                       -0.109305\n",
      "spectral_centroidmin01         -0.088400\n",
      "chroma_stftmin                 -0.086125\n",
      "spectral_rolloffmin01          -0.085629\n",
      "rmsemedian01                   -0.085163\n",
      "rmsemean01                     -0.084401\n",
      "Rock                           -0.083546\n",
      "Pop                            -0.082993\n",
      "spectral_bandwidthmin01        -0.071346\n",
      "ARTIST_favorites               -0.070964\n",
      "zcrmin01                       -0.070239\n",
      "rmsestd01                      -0.067366\n",
      "Hip-Hop                        -0.067142\n",
      "ALBUM_listens                  -0.065132\n",
      "ALBUM_favorites                -0.064627\n",
      "chroma_stftstd                 -0.063498\n",
      "ALBUM_tracks                   -0.057068\n",
      "ARTIST_favorites_              -0.051210\n",
      "mfccstd                        -0.049615\n",
      "chroma_censstd                 -0.049093\n",
      "mfccmin                        -0.046418\n",
      "spectral_rolloffmedian01       -0.045438\n",
      "spectral_rolloffmean01         -0.045426\n",
      "spectral_centroidmedian01      -0.044727\n",
      "spectral_centroidmean01        -0.043778\n",
      "spectral_bandwidthmedian01     -0.037427\n",
      "Folk                           -0.036561\n",
      "spectral_bandwidthmean01       -0.035404\n",
      "Country                        -0.033154\n",
      "zcrmedian01                    -0.031057\n",
      "spectral_contrastkurtosis      -0.030093\n",
      "TRACK_favorites                -0.028433\n",
      "ALBUM_favorites_               -0.028433\n",
      "mfccmax                        -0.024768\n",
      "Blues                          -0.024654\n",
      "Old-Time / Historic            -0.023485\n",
      "chroma_cqtmax                  -0.023061\n",
      "zcrmean01                      -0.021641\n",
      "chroma_stftmax                 -0.021299\n",
      "TRACK_interest                 -0.020644\n",
      "spectral_centroidstd01         -0.019702\n",
      "tonnetzkurtosis                -0.018327\n",
      "chroma_cqtstd                  -0.016501\n",
      "tonnetzskew                    -0.014996\n",
      "rmsemin01                      -0.014720\n",
      "ALBUM_listens_                 -0.013858\n",
      "TRACK_listens                  -0.013858\n",
      "chroma_censmean                -0.013595\n",
      "chroma_censmedian              -0.012152\n",
      "chroma_stftskew                -0.011536\n",
      "Easy Listening                 -0.011064\n",
      "chroma_cqtmean                 -0.009298\n",
      "mfcckurtosis                   -0.009160\n",
      "TRACK_number                   -0.007655\n",
      "ALBUM_tracks_                  -0.007655\n",
      "tonnetzmean                    -0.006873\n",
      "Soul-RnB                       -0.006775\n",
      "spectral_rolloffstd01          -0.006451\n",
      "chroma_cqtmedian               -0.005164\n",
      "spectral_centroidskew01        -0.004559\n",
      "chroma_stftmean                -0.003441\n",
      "Electronic                     -0.001645\n",
      "chroma_stftkurtosis            -0.001100\n",
      "chroma_stftmedian              -0.000365\n",
      "zcrstd01                        0.000220\n",
      "International                   0.000778\n",
      "chroma_censcqtkurtosis          0.002701\n",
      "TRACK_bitrate                   0.003118\n",
      "chroma_cqtskew                  0.005342\n",
      "tonnetzmedian                   0.007457\n",
      "spectral_rolloffskew01          0.008692\n",
      "spectral_bandwidthstd01         0.009771\n",
      "ALBUM_date_released_year_       0.013819\n",
      "spectral_centroidkurtosis01     0.013880\n",
      "spectral_rolloffkurtosis01      0.016856\n",
      "spectral_bandwidthskew01        0.018757\n",
      "spectral_bandwidthkurtosis01    0.021350\n",
      "zcrskew01                       0.021969\n",
      "spectral_contraststd            0.022611\n",
      "chroma_censkurtosis             0.025113\n",
      "Instrumental                    0.025204\n",
      "tonnetzstd                      0.030069\n",
      "ALBUM_date_released_year        0.030973\n",
      "zcrkurtosis01                   0.032314\n",
      "Classical                       0.032447\n",
      "chroma_censskew                 0.036988\n",
      "spectral_contrastmean           0.051356\n",
      "rmsemax01                       0.051362\n",
      "spectral_contrastmedian         0.055969\n",
      "spectral_rolloffmax01           0.060774\n",
      "Jazz                            0.066223\n",
      "ALBUM_type_                     0.067013\n",
      "spectral_centroidmax01          0.067039\n",
      "Spoken                          0.068644\n",
      "rmsekurtosis01                  0.073766\n",
      "mfccmean                        0.084134\n",
      "spectral_bandwidthmax01         0.090114\n",
      "spectral_contrastskew           0.090114\n",
      "mfccmedian                      0.092276\n",
      "zcrmax01                        0.095107\n",
      "rmseskew01                      0.123729\n",
      "Experimental                    0.141698\n",
      "tonnetzmax                      0.234097\n",
      "spectral_contrastmax            0.315419\n",
      "TRACK_duration                  1.000000\n",
      "dtype: float64\n"
     ]
    }
   ],
   "source": [
    "with pd.option_context('display.max_rows', None, 'display.max_columns', None):\n",
    "    print(df.corrwith(other=df[\"TRACK_duration\"]).sort_values())"
   ]
  },
  {
   "cell_type": "code",
   "execution_count": 143,
   "metadata": {
    "scrolled": false
   },
   "outputs": [],
   "source": [
    "class_name = 'TRACK_duration'\n",
    "\n",
    "attributes = bitmap + compl + features\n",
    "attributes.remove(\"ALBUM_type_\")\n",
    "attributes.remove(class_name)\n",
    "\n",
    "X = df[attributes].values\n",
    "y = df[class_name]\n",
    "\n",
    "X_train, X_test, y_train, y_test = train_test_split(X, y, test_size=0.3, random_state=100)"
   ]
  },
  {
   "cell_type": "markdown",
   "metadata": {},
   "source": [
    "# Linear Regression"
   ]
  },
  {
   "cell_type": "code",
   "execution_count": 55,
   "metadata": {},
   "outputs": [],
   "source": [
    "from sklearn.model_selection import train_test_split, cross_val_score \n",
    "from sklearn.metrics import r2_score, mean_squared_error, mean_absolute_error\n",
    "from sklearn.linear_model import LinearRegression, Ridge, Lasso"
   ]
  },
  {
   "cell_type": "code",
   "execution_count": 144,
   "metadata": {},
   "outputs": [
    {
     "data": {
      "text/plain": [
       "LinearRegression()"
      ]
     },
     "execution_count": 144,
     "metadata": {},
     "output_type": "execute_result"
    }
   ],
   "source": [
    "reg = LinearRegression()\n",
    "reg.fit(X_train, y_train)"
   ]
  },
  {
   "cell_type": "code",
   "execution_count": 145,
   "metadata": {},
   "outputs": [
    {
     "name": "stdout",
     "output_type": "stream",
     "text": [
      "Coefficients: \n",
      " [-3.70775773e+01 -1.69776141e+01 -3.78047411e+01 -4.21869206e+01\n",
      " -8.38725258e+00  2.38553161e+01 -3.20710238e+01 -2.62305086e+01\n",
      " -8.71114288e-01 -1.72542575e+01 -1.15814236e+01 -5.33065598e+01\n",
      " -3.17422227e+01 -3.13774534e+01 -2.50828114e+01  1.25819648e+02\n",
      "  1.62905182e+00 -2.44497004e+00  6.59967616e+00  1.59539328e-02\n",
      " -5.57923750e-02 -5.12040831e-05 -3.06260486e+00  6.59967616e+00\n",
      "  1.59539329e-02  1.89683208e-01 -2.51041970e+02  7.99690780e-01\n",
      "  3.32186767e+01  5.35467033e+02 -2.20678660e+01 -3.59506950e+02\n",
      "  5.68409533e-02  1.67707187e+02 -2.86017400e+02  1.00644824e+02\n",
      " -2.11847580e+02  1.75684649e+01  6.61938297e+02  2.04671675e-01\n",
      "  4.80381710e+01 -3.97936078e+01  2.87062151e+01 -2.24084381e+00\n",
      "  3.99189541e+00  2.20720047e+02  5.06566103e-01 -3.44307048e-01\n",
      "  1.27724968e+00 -5.50142897e-01 -2.50204771e-01 -5.16225294e+00\n",
      " -7.79690190e-01 -2.30849955e+00  8.40393244e+00 -1.43372030e+01\n",
      "  9.13569946e+00 -4.77499236e+00  7.43376240e+00 -2.06624590e+01\n",
      " -2.38873112e+00  6.21460711e+02  3.14853591e+01  1.29022237e+01\n",
      " -6.25472782e+02  3.66877127e+00 -2.16958702e+03  7.65258444e-01\n",
      "  7.87466167e+00 -1.95058377e+01  1.21859787e+01 -1.07603872e+01\n",
      " -2.11118898e+01 -2.57996285e+01  3.19013311e-01  6.95540383e-03\n",
      " -7.89948197e-02  8.11360357e-02  3.89229911e-02  2.51283040e+00\n",
      "  1.60847332e-01  1.64070027e-01 -1.31474814e-02  3.76512897e-02\n",
      " -5.94915530e-02 -5.99762353e-02 -1.14295223e+01 -3.53597765e-02\n",
      " -6.44698876e-02  1.14345383e-02 -8.99155399e-03  1.31055595e-02\n",
      "  1.04500047e-02  3.92790658e+00 -5.55625309e-02  2.19098912e-01\n",
      "  2.63400728e+02  9.76165712e+02 -7.77051001e+02 -6.77589628e+02\n",
      " -1.14963335e+01 -6.95756131e+02]\n",
      "Intercept: \n",
      " -3109.6161768031366\n"
     ]
    }
   ],
   "source": [
    "print('Coefficients: \\n', reg.coef_)\n",
    "print('Intercept: \\n', reg.intercept_)"
   ]
  },
  {
   "cell_type": "code",
   "execution_count": 146,
   "metadata": {},
   "outputs": [],
   "source": [
    "y_pred = reg.predict(X_test)"
   ]
  },
  {
   "cell_type": "code",
   "execution_count": 147,
   "metadata": {},
   "outputs": [
    {
     "name": "stdout",
     "output_type": "stream",
     "text": [
      "R2: 0.326\n",
      "MSE: 58304.998\n",
      "MAE: 127.199\n"
     ]
    }
   ],
   "source": [
    "print('R2: %.3f' % r2_score(y_test, y_pred))\n",
    "print('MSE: %.3f' % mean_squared_error(y_test, y_pred))\n",
    "print('MAE: %.3f' % mean_absolute_error(y_test, y_pred))"
   ]
  },
  {
   "cell_type": "markdown",
   "metadata": {},
   "source": [
    "## Linear Regression in 2 dimensions"
   ]
  },
  {
   "cell_type": "code",
   "execution_count": 136,
   "metadata": {},
   "outputs": [
    {
     "name": "stdout",
     "output_type": "stream",
     "text": [
      "R2: 0.000\n",
      "MSE: 86544.758\n",
      "MAE: 148.846\n"
     ]
    }
   ],
   "source": [
    "reg = LinearRegression()\n",
    "reg.fit(X_train.T[1].reshape(-1, 1), y_train)\n",
    "y_pred = reg.predict(X_test.T[1].reshape(-1, 1))\n",
    "\n",
    "print('R2: %.3f' % r2_score(y_test, y_pred))\n",
    "print('MSE: %.3f' % mean_squared_error(y_test, y_pred))\n",
    "print('MAE: %.3f' % mean_absolute_error(y_test, y_pred))"
   ]
  },
  {
   "cell_type": "code",
   "execution_count": 137,
   "metadata": {},
   "outputs": [],
   "source": [
    "x_values = sorted([v for v in X_test.T[1]])\n",
    "y_values = y_pred[np.argsort(X_test.T[1])]"
   ]
  },
  {
   "cell_type": "code",
   "execution_count": 192,
   "metadata": {},
   "outputs": [
    {
     "data": {
      "image/png": "[encoded data removed]",
      "text/plain": [
       "<Figure size 3000x1500 with 1 Axes>"
      ]
     },
     "metadata": {
      "needs_background": "light"
     },
     "output_type": "display_data"
    }
   ],
   "source": [
    "plt.scatter(X_test.T[1], y_test,  color='black')\n",
    "plt.plot(x_values, y_values, color='blue', linewidth=3)\n",
    "plt.show()"
   ]
  },
  {
   "cell_type": "markdown",
   "metadata": {},
   "source": [
    "# Lasso"
   ]
  },
  {
   "cell_type": "code",
   "execution_count": 139,
   "metadata": {},
   "outputs": [
    {
     "name": "stdout",
     "output_type": "stream",
     "text": [
      "Coefficients: \n",
      " [-0.00000000e+00  0.00000000e+00 -0.00000000e+00 -0.00000000e+00\n",
      " -0.00000000e+00  3.81593248e+01 -3.03482877e+01 -1.64153200e+01\n",
      "  4.56249765e-01 -0.00000000e+00  0.00000000e+00 -0.00000000e+00\n",
      " -2.64226026e+01 -2.28416167e+01 -0.00000000e+00  7.15119185e+01\n",
      "  1.43416887e+00 -1.52747998e+00  4.40504724e+00  2.52352146e-02\n",
      " -9.70306400e-02 -2.37973552e-06 -0.00000000e+00  2.33839810e+00\n",
      "  6.81897487e-03  1.12597530e-01 -2.72355229e+02  0.00000000e+00\n",
      "  0.00000000e+00  0.00000000e+00 -4.99179130e+00  0.00000000e+00\n",
      "  1.12133275e-02  0.00000000e+00 -1.88740039e+01 -9.58708954e+01\n",
      "  0.00000000e+00  1.08884121e+00  4.37373124e+02  6.50191619e-01\n",
      "  0.00000000e+00 -0.00000000e+00  6.89122938e+01  0.00000000e+00\n",
      " -0.00000000e+00  0.00000000e+00  5.05959420e-01 -4.77380133e-01\n",
      "  1.57521782e+00 -8.11764358e-01 -2.14688586e-01 -4.72368108e-01\n",
      " -8.29937815e-01 -2.89780050e+00  1.00346685e+01 -1.64247908e+01\n",
      "  1.01652001e+01 -5.57834345e+00  9.22262336e+00 -2.43102974e+01\n",
      " -7.19343392e-01  1.74556028e+02  0.00000000e+00 -0.00000000e+00\n",
      " -1.66256437e+02  0.00000000e+00 -0.00000000e+00  7.75114656e-01\n",
      "  8.45403149e+00 -5.54916775e+00  0.00000000e+00 -0.00000000e+00\n",
      " -1.74131199e+01 -3.65737788e+01  3.75586902e-01  2.97330214e-02\n",
      " -8.91041287e-02  8.57921247e-02  3.98569340e-02  2.28142402e+00\n",
      "  1.84310691e-01  1.72846183e-01  2.93848668e-03  1.68633991e-01\n",
      " -1.26034639e-01 -9.42005354e-02 -1.20277933e+01 -1.28155742e-01\n",
      " -6.12300486e-02 -9.94415073e-04 -3.47637104e-02  2.26662913e-02\n",
      "  2.02301230e-02  3.43359043e+00 -4.04890355e-02  1.58512576e-01\n",
      "  1.03534621e+02  0.00000000e+00  0.00000000e+00 -0.00000000e+00\n",
      " -5.99376057e+00  0.00000000e+00]\n",
      "Intercept: \n",
      " -2748.356962843911\n"
     ]
    },
    {
     "name": "stderr",
     "output_type": "stream",
     "text": [
      "C:\\Users\\falle\\anaconda3\\lib\\site-packages\\sklearn\\linear_model\\_coordinate_descent.py:530: ConvergenceWarning: Objective did not converge. You might want to increase the number of iterations. Duality gap: 1129019895.008282, tolerance: 705584.0090109119\n",
      "  model = cd_fast.enet_coordinate_descent(\n"
     ]
    }
   ],
   "source": [
    "reg = Lasso()\n",
    "reg.fit(X_train, y_train)\n",
    "print('Coefficients: \\n', reg.coef_)\n",
    "print('Intercept: \\n', reg.intercept_)"
   ]
  },
  {
   "cell_type": "code",
   "execution_count": 140,
   "metadata": {},
   "outputs": [
    {
     "name": "stdout",
     "output_type": "stream",
     "text": [
      "R2: 0.280\n",
      "MSE: 62270.945\n",
      "MAE: 126.714\n"
     ]
    }
   ],
   "source": [
    "y_pred = reg.predict(X_test)\n",
    "print('R2: %.3f' % r2_score(y_test, y_pred))\n",
    "print('MSE: %.3f' % mean_squared_error(y_test, y_pred))\n",
    "print('MAE: %.3f' % mean_absolute_error(y_test, y_pred))"
   ]
  },
  {
   "cell_type": "code",
   "execution_count": null,
   "metadata": {},
   "outputs": [],
   "source": []
  },
  {
   "cell_type": "markdown",
   "metadata": {},
   "source": [
    "# Ridge"
   ]
  },
  {
   "cell_type": "code",
   "execution_count": 189,
   "metadata": {},
   "outputs": [],
   "source": [
    "parameters=range(0, 100, 1)\n",
    "res = list()\n",
    "\n",
    "for a in parameters:\n",
    "    reg = Ridge(alpha=a/100)\n",
    "    reg.fit(X_train, y_train)\n",
    "    y_pred = reg.predict(X_test)\n",
    "    res.append([a, reg.intercept_, r2_score(y_test, y_pred), mean_squared_error(y_test, y_pred), mean_absolute_error(y_test, y_pred)])\n",
    "\n",
    "result = pd.DataFrame(res, columns=['alpha', 'intercept', 'r2', 'mse', 'mae'])"
   ]
  },
  {
   "cell_type": "code",
   "execution_count": 190,
   "metadata": {},
   "outputs": [
    {
     "data": {
      "text/html": [
       "<div>\n",
       "<style scoped>\n",
       "    .dataframe tbody tr th:only-of-type {\n",
       "        vertical-align: middle;\n",
       "    }\n",
       "\n",
       "    .dataframe tbody tr th {\n",
       "        vertical-align: top;\n",
       "    }\n",
       "\n",
       "    .dataframe thead th {\n",
       "        text-align: right;\n",
       "    }\n",
       "</style>\n",
       "<table border=\"1\" class=\"dataframe\">\n",
       "  <thead>\n",
       "    <tr style=\"text-align: right;\">\n",
       "      <th></th>\n",
       "      <th>alpha</th>\n",
       "      <th>intercept</th>\n",
       "      <th>r2</th>\n",
       "      <th>mse</th>\n",
       "      <th>mae</th>\n",
       "    </tr>\n",
       "  </thead>\n",
       "  <tbody>\n",
       "    <tr>\n",
       "      <th>0</th>\n",
       "      <td>0</td>\n",
       "      <td>-3109.777689</td>\n",
       "      <td>0.326313</td>\n",
       "      <td>58305.137134</td>\n",
       "      <td>127.198509</td>\n",
       "    </tr>\n",
       "    <tr>\n",
       "      <th>1</th>\n",
       "      <td>1</td>\n",
       "      <td>-3108.543869</td>\n",
       "      <td>0.326308</td>\n",
       "      <td>58305.570533</td>\n",
       "      <td>127.196426</td>\n",
       "    </tr>\n",
       "    <tr>\n",
       "      <th>2</th>\n",
       "      <td>2</td>\n",
       "      <td>-3107.509037</td>\n",
       "      <td>0.326301</td>\n",
       "      <td>58306.143647</td>\n",
       "      <td>127.194306</td>\n",
       "    </tr>\n",
       "    <tr>\n",
       "      <th>3</th>\n",
       "      <td>3</td>\n",
       "      <td>-3106.509680</td>\n",
       "      <td>0.326294</td>\n",
       "      <td>58306.716614</td>\n",
       "      <td>127.192216</td>\n",
       "    </tr>\n",
       "    <tr>\n",
       "      <th>4</th>\n",
       "      <td>4</td>\n",
       "      <td>-3105.543940</td>\n",
       "      <td>0.326288</td>\n",
       "      <td>58307.288674</td>\n",
       "      <td>127.190180</td>\n",
       "    </tr>\n",
       "    <tr>\n",
       "      <th>...</th>\n",
       "      <td>...</td>\n",
       "      <td>...</td>\n",
       "      <td>...</td>\n",
       "      <td>...</td>\n",
       "      <td>...</td>\n",
       "    </tr>\n",
       "    <tr>\n",
       "      <th>95</th>\n",
       "      <td>95</td>\n",
       "      <td>-3070.420921</td>\n",
       "      <td>0.325854</td>\n",
       "      <td>58344.872502</td>\n",
       "      <td>127.057643</td>\n",
       "    </tr>\n",
       "    <tr>\n",
       "      <th>96</th>\n",
       "      <td>96</td>\n",
       "      <td>-3070.255652</td>\n",
       "      <td>0.325850</td>\n",
       "      <td>58345.181377</td>\n",
       "      <td>127.056404</td>\n",
       "    </tr>\n",
       "    <tr>\n",
       "      <th>97</th>\n",
       "      <td>97</td>\n",
       "      <td>-3070.092227</td>\n",
       "      <td>0.325846</td>\n",
       "      <td>58345.489193</td>\n",
       "      <td>127.055169</td>\n",
       "    </tr>\n",
       "    <tr>\n",
       "      <th>98</th>\n",
       "      <td>98</td>\n",
       "      <td>-3069.930610</td>\n",
       "      <td>0.325843</td>\n",
       "      <td>58345.795974</td>\n",
       "      <td>127.053940</td>\n",
       "    </tr>\n",
       "    <tr>\n",
       "      <th>99</th>\n",
       "      <td>99</td>\n",
       "      <td>-3069.770764</td>\n",
       "      <td>0.325839</td>\n",
       "      <td>58346.101742</td>\n",
       "      <td>127.052712</td>\n",
       "    </tr>\n",
       "  </tbody>\n",
       "</table>\n",
       "<p>100 rows × 5 columns</p>\n",
       "</div>"
      ],
      "text/plain": [
       "    alpha    intercept        r2           mse         mae\n",
       "0       0 -3109.777689  0.326313  58305.137134  127.198509\n",
       "1       1 -3108.543869  0.326308  58305.570533  127.196426\n",
       "2       2 -3107.509037  0.326301  58306.143647  127.194306\n",
       "3       3 -3106.509680  0.326294  58306.716614  127.192216\n",
       "4       4 -3105.543940  0.326288  58307.288674  127.190180\n",
       "..    ...          ...       ...           ...         ...\n",
       "95     95 -3070.420921  0.325854  58344.872502  127.057643\n",
       "96     96 -3070.255652  0.325850  58345.181377  127.056404\n",
       "97     97 -3070.092227  0.325846  58345.489193  127.055169\n",
       "98     98 -3069.930610  0.325843  58345.795974  127.053940\n",
       "99     99 -3069.770764  0.325839  58346.101742  127.052712\n",
       "\n",
       "[100 rows x 5 columns]"
      ]
     },
     "execution_count": 190,
     "metadata": {},
     "output_type": "execute_result"
    }
   ],
   "source": [
    "result"
   ]
  },
  {
   "cell_type": "code",
   "execution_count": 165,
   "metadata": {},
   "outputs": [
    {
     "name": "stdout",
     "output_type": "stream",
     "text": [
      "R2: 0.323\n",
      "MSE: 58591.419\n",
      "MAE: 126.587\n"
     ]
    }
   ],
   "source": [
    "y_pred = reg.predict(X_test)\n",
    "print('R2: %.3f' % r2_score(y_test, y_pred))\n",
    "print('MSE: %.3f' % mean_squared_error(y_test, y_pred))\n",
    "print('MAE: %.3f' % mean_absolute_error(y_test, y_pred))"
   ]
  },
  {
   "cell_type": "code",
   "execution_count": 191,
   "metadata": {},
   "outputs": [
    {
     "data": {
      "text/plain": [
       "<matplotlib.axes._subplots.AxesSubplot at 0x26754a7ea60>"
      ]
     },
     "execution_count": 191,
     "metadata": {},
     "output_type": "execute_result"
    },
    {
     "data": {
      "image/png": "[encoded data removed]",
      "text/plain": [
       "<Figure size 3000x1500 with 1 Axes>"
      ]
     },
     "metadata": {
      "needs_background": "light"
     },
     "output_type": "display_data"
    }
   ],
   "source": [
    "result['r2'].plot.line()"
   ]
  }
 ],
 "metadata": {
  "kernelspec": {
   "display_name": "Python 3",
   "language": "python",
   "name": "python3"
  },
  "language_info": {
   "codemirror_mode": {
    "name": "ipython",
    "version": 3
   },
   "file_extension": ".py",
   "mimetype": "text/x-python",
   "name": "python",
   "nbconvert_exporter": "python",
   "pygments_lexer": "ipython3",
   "version": "3.8.3"
  }
 },
 "nbformat": 4,
 "nbformat_minor": 4
}
