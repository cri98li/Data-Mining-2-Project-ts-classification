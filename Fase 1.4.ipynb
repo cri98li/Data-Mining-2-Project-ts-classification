{
 "cells": [
  {
   "cell_type": "code",
   "execution_count": 31,
   "metadata": {},
   "outputs": [],
   "source": [
    "#!pip install pandas\n",
    "#%matplotlib inline\n",
    "import math\n",
    "import numpy as np\n",
    "import pandas as pd\n",
    "import pandasql as ps\n",
    "import scipy.stats as stats\n",
    "import matplotlib.pyplot as plt\n",
    "import seaborn as sns\n",
    "from pandas.api.types import CategoricalDtype\n",
    "import IPython.display as ipd\n",
    "from tqdm.notebook import tqdm, trange\n",
    "from sklearn.decomposition import PCA\n",
    "from sklearn.model_selection import train_test_split, cross_val_score \n",
    "from sklearn.metrics import accuracy_score, f1_score, classification_report\n",
    "from sklearn.metrics import roc_curve, auc, roc_auc_score\n",
    "from sklearn.tree import DecisionTreeClassifier\n",
    "from sklearn import tree\n",
    "import random\n",
    "from collections import Counter\n",
    "from collections import defaultdict\n",
    "from sklearn.metrics import roc_curve, auc, roc_auc_score\n",
    "\n",
    "import ast\n",
    "\n",
    "from collections import defaultdict\n",
    "from scipy.stats.stats import pearsonr\n",
    "\n",
    "plt.rcParams['axes.formatter.useoffset']=False\n",
    "pd.set_option('display.max_columns', None)\n",
    "plt.rcParams['figure.figsize'] = [20, 10]\n",
    "#plt.rcParams['figure.dpi'] = 50\n",
    "\n",
    "def report(results, n_top=3):\n",
    "    for i in range(1, n_top + 1):\n",
    "        candidates = np.flatnonzero(results['rank_test_score'] == i)\n",
    "        for candidate in candidates:\n",
    "            print(\"Model with rank: {0}\".format(i))\n",
    "            print(\"Mean validation score: {0:.3f} (std: {1:.3f})\".format(\n",
    "                  results['mean_test_score'][candidate],\n",
    "                  results['std_test_score'][candidate]))\n",
    "            print(\"Parameters: {0}\".format(results['params'][candidate]))\n",
    "            print(\"\")"
   ]
  },
  {
   "cell_type": "code",
   "execution_count": 2,
   "metadata": {},
   "outputs": [],
   "source": [
    "from scikitplot.metrics import plot_roc\n",
    "from scikitplot.metrics import plot_precision_recall\n",
    "from scikitplot.metrics import plot_cumulative_gain\n",
    "from scikitplot.metrics import plot_lift_curve"
   ]
  },
  {
   "cell_type": "code",
   "execution_count": 3,
   "metadata": {},
   "outputs": [],
   "source": [
    "df = pd.read_csv('flat_df_no_nulli.csv', index_col=0)"
   ]
  },
  {
   "cell_type": "code",
   "execution_count": 4,
   "metadata": {},
   "outputs": [],
   "source": [
    "features = [\n",
    " 'chroma_censkurtosis',\n",
    " 'chroma_censmax',\n",
    " 'chroma_censmean',\n",
    " 'chroma_censmedian',\n",
    " 'chroma_censmin',\n",
    " 'chroma_censskew',\n",
    " 'chroma_censstd',\n",
    " 'chroma_censcqtkurtosis',\n",
    " 'chroma_cqtmax',\n",
    " 'chroma_cqtmean',\n",
    " 'chroma_cqtmedian',\n",
    " 'chroma_cqtmin',\n",
    " 'chroma_cqtskew',\n",
    " 'chroma_cqtstd',\n",
    " 'chroma_stftkurtosis',\n",
    " 'chroma_stftmax',\n",
    " 'chroma_stftmean',\n",
    " 'chroma_stftmedian',\n",
    " 'chroma_stftmin',\n",
    " 'chroma_stftskew',\n",
    " 'chroma_stftstd',\n",
    " 'mfcckurtosis',\n",
    " 'mfccmax',\n",
    " 'mfccmean',\n",
    " 'mfccmedian',\n",
    " 'mfccmin',\n",
    " 'mfccskew',\n",
    " 'mfccstd',\n",
    " 'spectral_contrastkurtosis',\n",
    " 'spectral_contrastmax',\n",
    " 'spectral_contrastmean',\n",
    " 'spectral_contrastmedian',\n",
    " 'spectral_contrastmin',\n",
    " 'spectral_contrastskew',\n",
    " 'spectral_contraststd',\n",
    " 'tonnetzkurtosis',\n",
    " 'tonnetzmax',\n",
    " 'tonnetzmean',\n",
    " 'tonnetzmedian',\n",
    " 'tonnetzmin',\n",
    " 'tonnetzskew',\n",
    " 'tonnetzstd',\n",
    " 'rmsekurtosis01',\n",
    " 'rmsemax01',\n",
    " 'rmsemean01',\n",
    " 'rmsemedian01',\n",
    " 'rmsemin01',\n",
    " 'rmseskew01',\n",
    " 'rmsestd01',\n",
    " 'spectral_bandwidthkurtosis01',\n",
    " 'spectral_bandwidthmax01',\n",
    " 'spectral_bandwidthmean01',\n",
    " 'spectral_bandwidthmedian01',\n",
    " 'spectral_bandwidthmin01',\n",
    " 'spectral_bandwidthskew01',\n",
    " 'spectral_bandwidthstd01',\n",
    " 'spectral_centroidkurtosis01',\n",
    " 'spectral_centroidmax01',\n",
    " 'spectral_centroidmean01',\n",
    " 'spectral_centroidmedian01',\n",
    " 'spectral_centroidmin01',\n",
    " 'spectral_centroidskew01',\n",
    " 'spectral_centroidstd01',\n",
    " 'spectral_rolloffkurtosis01',\n",
    " 'spectral_rolloffmax01',\n",
    " 'spectral_rolloffmean01',\n",
    " 'spectral_rolloffmedian01',\n",
    " 'spectral_rolloffmin01',\n",
    " 'spectral_rolloffskew01',\n",
    " 'spectral_rolloffstd01',\n",
    " 'zcrkurtosis01',\n",
    " 'zcrmax01',\n",
    " 'zcrmean01',\n",
    " 'zcrmedian01',\n",
    " 'zcrmin01',\n",
    " 'zcrskew01',\n",
    " 'zcrstd01',\n",
    "]\n",
    "\n",
    "\n",
    "bitmap = [\n",
    "    'Blues',\n",
    " 'Classical',\n",
    " 'Country',\n",
    " 'Easy Listening',\n",
    " 'Electronic',\n",
    " 'Experimental',\n",
    " 'Folk',\n",
    " 'Hip-Hop',\n",
    " 'Instrumental',\n",
    " 'International',\n",
    " 'Jazz',\n",
    " 'Old-Time / Historic',\n",
    " 'Pop',\n",
    " 'Rock',\n",
    " 'Soul-RnB',\n",
    " 'Spoken',\n",
    "]\n",
    "\n",
    "nulli = [\n",
    "     'ALBUM_date_released_year',\n",
    "    'ALBUM_favorites',\n",
    "     'ALBUM_listens',\n",
    " 'ALBUM_tracks',\n",
    " 'ALBUM_type',\n",
    " 'ARTIST_favorites',\n",
    " 'ARTIST_location',\n",
    " 'TRACK_favorites',\n",
    "  'ARTIST_location_',\n",
    "    'TRACK_genres_soloTop'\n",
    "]\n",
    "\n",
    "nonNumerici = [\n",
    "    'ALBUM_tags',\n",
    "    'ALBUM_title',\n",
    "    'ARTIST_location_',\n",
    "    'ARTIST_name',\n",
    "    'ARTIST_tags',\n",
    "    'SET_subset',\n",
    "    'TRACK_genre_top',\n",
    "    'TRACK_genres',\n",
    "    'TRACK_genres_all',\n",
    "    'TRACK_genres_soloTop',\n",
    "    'TRACK_tags',\n",
    "    'TRACK_title',\n",
    "    'TRACK_genres_soloTop'\n",
    "]"
   ]
  },
  {
   "cell_type": "code",
   "execution_count": 5,
   "metadata": {},
   "outputs": [
    {
     "data": {
      "text/plain": [
       "['ALBUM_date_released_year_',\n",
       " 'ALBUM_favorites_',\n",
       " 'ALBUM_listens_',\n",
       " 'ALBUM_tracks_',\n",
       " 'ALBUM_type_',\n",
       " 'ARTIST_favorites_',\n",
       " 'TRACK_bitrate',\n",
       " 'TRACK_duration',\n",
       " 'TRACK_interest',\n",
       " 'TRACK_listens',\n",
       " 'TRACK_number']"
      ]
     },
     "execution_count": 5,
     "metadata": {},
     "output_type": "execute_result"
    }
   ],
   "source": [
    "def Diff(li1, li2):\n",
    "    return list(set(li1)-set(li2))\n",
    "\n",
    "tutti = list(df.columns)\n",
    "\n",
    "compl = Diff(tutti, features + bitmap + nonNumerici + nulli)\n",
    "\n",
    "compl.sort()\n",
    "\n",
    "compl"
   ]
  },
  {
   "cell_type": "code",
   "execution_count": 6,
   "metadata": {},
   "outputs": [],
   "source": [
    "from sklearn.preprocessing import LabelEncoder\n",
    "\n",
    "label_encoders = dict()\n",
    "column2encode = ['ALBUM_type_']\n",
    "\n",
    "for col in column2encode:\n",
    "    le = LabelEncoder()\n",
    "    df[col] = le.fit_transform(df[col])\n",
    "    label_encoders[col] = le"
   ]
  },
  {
   "cell_type": "code",
   "execution_count": 7,
   "metadata": {},
   "outputs": [],
   "source": [
    "df['target']=[1 if genre == 'Rock' else 0 for genre in df['TRACK_genre_top']]"
   ]
  },
  {
   "cell_type": "code",
   "execution_count": null,
   "metadata": {},
   "outputs": [],
   "source": []
  },
  {
   "cell_type": "code",
   "execution_count": 8,
   "metadata": {},
   "outputs": [],
   "source": [
    "df2 = df[df.TRACK_genre_top.isna() == False]"
   ]
  },
  {
   "cell_type": "code",
   "execution_count": 9,
   "metadata": {},
   "outputs": [
    {
     "data": {
      "text/plain": [
       "<AxesSubplot:>"
      ]
     },
     "execution_count": 9,
     "metadata": {},
     "output_type": "execute_result"
    },
    {
     "data": {
      "image/png": "[encoded data removed]",
      "text/plain": [
       "<Figure size 1440x720 with 1 Axes>"
      ]
     },
     "metadata": {
      "needs_background": "light"
     },
     "output_type": "display_data"
    }
   ],
   "source": [
    "df2.target.value_counts(dropna=False).apply(lambda x: x/49275*100).plot(kind='bar')"
   ]
  },
  {
   "cell_type": "code",
   "execution_count": 10,
   "metadata": {},
   "outputs": [
    {
     "data": {
      "text/plain": [
       "0    35120\n",
       "1    14155\n",
       "Name: target, dtype: int64"
      ]
     },
     "execution_count": 10,
     "metadata": {},
     "output_type": "execute_result"
    }
   ],
   "source": [
    "df2.target.value_counts(dropna=False)"
   ]
  },
  {
   "cell_type": "code",
   "execution_count": 11,
   "metadata": {},
   "outputs": [
    {
     "data": {
      "text/plain": [
       "Int64Index([   135,    136,    151,    152,    153,    154,    155,    169,\n",
       "               170,    171,\n",
       "            ...\n",
       "            155196, 155197, 155198, 155199, 155314, 155315, 155316, 155317,\n",
       "            155318, 155319],\n",
       "           dtype='int64', name='track_id', length=14155)"
      ]
     },
     "execution_count": 11,
     "metadata": {},
     "output_type": "execute_result"
    }
   ],
   "source": [
    "lista = df2[df2.target == 1].index\n",
    "lista"
   ]
  },
  {
   "cell_type": "code",
   "execution_count": 12,
   "metadata": {},
   "outputs": [],
   "source": [
    "to_remove = random.sample(list(lista), 10000)"
   ]
  },
  {
   "cell_type": "code",
   "execution_count": 13,
   "metadata": {},
   "outputs": [],
   "source": [
    "df_sbilanciato = df2.copy()"
   ]
  },
  {
   "cell_type": "code",
   "execution_count": 14,
   "metadata": {},
   "outputs": [],
   "source": [
    "df_sbilanciato = df_sbilanciato.drop(to_remove, axis=0)"
   ]
  },
  {
   "cell_type": "code",
   "execution_count": 15,
   "metadata": {},
   "outputs": [
    {
     "data": {
      "text/plain": [
       "<AxesSubplot:>"
      ]
     },
     "execution_count": 15,
     "metadata": {},
     "output_type": "execute_result"
    },
    {
     "data": {
      "image/png": "[encoded data removed]",
      "text/plain": [
       "<Figure size 1440x720 with 1 Axes>"
      ]
     },
     "metadata": {
      "needs_background": "light"
     },
     "output_type": "display_data"
    }
   ],
   "source": [
    "df_sbilanciato.target.value_counts(dropna=False).apply(lambda x: x/len(df_sbilanciato.index)*100).plot(kind='bar')"
   ]
  },
  {
   "cell_type": "code",
   "execution_count": null,
   "metadata": {},
   "outputs": [],
   "source": []
  },
  {
   "cell_type": "code",
   "execution_count": null,
   "metadata": {},
   "outputs": [],
   "source": []
  },
  {
   "cell_type": "code",
   "execution_count": 16,
   "metadata": {},
   "outputs": [],
   "source": [
    "compl = Diff(tutti, bitmap + nonNumerici + nulli)\n",
    "\n",
    "class_name = 'target'\n",
    "attributes = Diff(compl, list(['TRACK_genre_top']))\n",
    "\n",
    "\n",
    "X = df_sbilanciato[attributes].values\n",
    "y = df_sbilanciato[class_name]\n",
    "\n",
    "\n",
    "\n",
    "X_train, X_test, y_train, y_test = train_test_split(X, y, test_size=0.3, random_state=100, stratify=y)"
   ]
  },
  {
   "cell_type": "code",
   "execution_count": 17,
   "metadata": {},
   "outputs": [
    {
     "name": "stdout",
     "output_type": "stream",
     "text": [
      "Accuracy 0.9154714419078334\n",
      "F1-score [0.9537819  0.50595238]\n",
      "              precision    recall  f1-score   support\n",
      "\n",
      "           0       0.93      0.98      0.95     10536\n",
      "           1       0.66      0.41      0.51      1247\n",
      "\n",
      "    accuracy                           0.92     11783\n",
      "   macro avg       0.80      0.69      0.73     11783\n",
      "weighted avg       0.90      0.92      0.91     11783\n",
      "\n"
     ]
    }
   ],
   "source": [
    "clf = DecisionTreeClassifier(min_samples_leaf=10, max_depth=11, min_samples_split=124, criterion='gini', random_state=42)\n",
    "clf.fit(X_train, y_train)\n",
    "\n",
    "y_pred0 = clf.predict(X_test)\n",
    "\n",
    "print('Accuracy %s' % accuracy_score(y_test, y_pred0))\n",
    "print('F1-score %s' % f1_score(y_test, y_pred0, average=None))\n",
    "print(classification_report(y_test, y_pred0))"
   ]
  },
  {
   "cell_type": "code",
   "execution_count": 18,
   "metadata": {},
   "outputs": [],
   "source": [
    "y_score = clf.predict_proba(X_test)\n",
    "fpr0, tpr0, _ = roc_curve(y_test, y_score[:, 1])\n",
    "roc_auc0 = auc(fpr0, tpr0)"
   ]
  },
  {
   "cell_type": "code",
   "execution_count": 19,
   "metadata": {},
   "outputs": [
    {
     "data": {
      "image/png": "[encoded data removed]",
      "text/plain": [
       "<Figure size 1440x720 with 1 Axes>"
      ]
     },
     "metadata": {
      "needs_background": "light"
     },
     "output_type": "display_data"
    }
   ],
   "source": [
    "plt.plot(fpr0, tpr0, color='darkorange', lw=3, label='$AUC_0$ = %.3f' % (roc_auc0))\n",
    "\n",
    "plt.plot([0, 1], [0, 1], color='navy', lw=2, linestyle='--')\n",
    "plt.xlim([0.0, 1.0])\n",
    "plt.ylim([0.0, 1.05])\n",
    "plt.xlabel('False Positive Rate', fontsize=16)\n",
    "plt.ylabel('True Positive Rate', fontsize=16)\n",
    "plt.title('ROC curve', fontsize=16)\n",
    "plt.legend(loc=\"lower right\", fontsize=14, frameon=False)\n",
    "plt.tick_params(axis='both', which='major', labelsize=16)\n",
    "plt.show()"
   ]
  },
  {
   "cell_type": "markdown",
   "metadata": {},
   "source": [
    "# Undersampling"
   ]
  },
  {
   "cell_type": "markdown",
   "metadata": {},
   "source": [
    "### RandomUnderSampler"
   ]
  },
  {
   "cell_type": "code",
   "execution_count": 20,
   "metadata": {},
   "outputs": [],
   "source": [
    "from imblearn.under_sampling import RandomUnderSampler\n",
    "from imblearn.under_sampling import CondensedNearestNeighbour"
   ]
  },
  {
   "cell_type": "code",
   "execution_count": 21,
   "metadata": {},
   "outputs": [
    {
     "name": "stdout",
     "output_type": "stream",
     "text": [
      "Resampled dataset shape Counter({0: 2908, 1: 2908})\n"
     ]
    }
   ],
   "source": [
    "rus = RandomUnderSampler(random_state=42)\n",
    "X_res, y_res = rus.fit_resample(X_train, y_train)\n",
    "print('Resampled dataset shape %s' % Counter(y_res))"
   ]
  },
  {
   "cell_type": "raw",
   "metadata": {},
   "source": [
    "from sklearn.model_selection import GridSearchCV\n",
    "from sklearn.model_selection import ParameterGrid\n",
    "\n",
    "param_grid = {'max_depth': [None, 10],\n",
    "              'min_samples_split': range(20, 100 +1, 1),\n",
    "              'min_samples_leaf': [42]\n",
    "         }\n",
    "\n",
    "clf = DecisionTreeClassifier()\n",
    "grid_search = GridSearchCV(clf, param_grid, n_jobs=-1, verbose=10, cv=5, scoring='accuracy')\n",
    "grid_search.fit(X_res, y_res)\n",
    "\n",
    "\n",
    "#Model with rank: 1\n",
    "#Mean validation score: 0.760 (std: 0.008)\n",
    "#Parameters: {'max_depth': 10, 'min_samples_leaf': 42, 'min_samples_split': 90}"
   ]
  },
  {
   "cell_type": "raw",
   "metadata": {},
   "source": [
    "def report(results, n_top=3):\n",
    "    for i in range(1, n_top + 1):\n",
    "        candidates = np.flatnonzero(results['rank_test_score'] == i)\n",
    "        for candidate in candidates:\n",
    "            print(\"Model with rank: {0}\".format(i))\n",
    "            print(\"Mean validation score: {0:.3f} (std: {1:.3f})\".format(\n",
    "                  results['mean_test_score'][candidate],\n",
    "                  results['std_test_score'][candidate]))\n",
    "            print(\"Parameters: {0}\".format(results['params'][candidate]))\n",
    "            print(\"\")\n",
    "            \n",
    "report(grid_search.cv_results_, n_top=10)"
   ]
  },
  {
   "cell_type": "markdown",
   "metadata": {},
   "source": [
    "### CondensedNearestNeighbour"
   ]
  },
  {
   "cell_type": "code",
   "execution_count": 22,
   "metadata": {},
   "outputs": [],
   "source": [
    "import warnings\n",
    "warnings.simplefilter(\"ignore\")"
   ]
  },
  {
   "cell_type": "code",
   "execution_count": 23,
   "metadata": {},
   "outputs": [
    {
     "ename": "KeyboardInterrupt",
     "evalue": "",
     "output_type": "error",
     "traceback": [
      "\u001b[1;31m---------------------------------------------------------------------------\u001b[0m",
      "\u001b[1;31mKeyboardInterrupt\u001b[0m                         Traceback (most recent call last)",
      "\u001b[1;32m<ipython-input-23-367417c244ef>\u001b[0m in \u001b[0;36m<module>\u001b[1;34m\u001b[0m\n\u001b[0;32m      1\u001b[0m \u001b[0mcnn\u001b[0m \u001b[1;33m=\u001b[0m \u001b[0mCondensedNearestNeighbour\u001b[0m\u001b[1;33m(\u001b[0m\u001b[0mrandom_state\u001b[0m\u001b[1;33m=\u001b[0m\u001b[1;36m42\u001b[0m\u001b[1;33m,\u001b[0m \u001b[0mn_jobs\u001b[0m\u001b[1;33m=\u001b[0m\u001b[1;33m-\u001b[0m\u001b[1;36m1\u001b[0m\u001b[1;33m)\u001b[0m\u001b[1;33m\u001b[0m\u001b[1;33m\u001b[0m\u001b[0m\n\u001b[1;32m----> 2\u001b[1;33m \u001b[0mX_res\u001b[0m\u001b[1;33m,\u001b[0m \u001b[0my_res\u001b[0m \u001b[1;33m=\u001b[0m \u001b[0mcnn\u001b[0m\u001b[1;33m.\u001b[0m\u001b[0mfit_resample\u001b[0m\u001b[1;33m(\u001b[0m\u001b[0mX_train\u001b[0m\u001b[1;33m,\u001b[0m \u001b[0my_train\u001b[0m\u001b[1;33m)\u001b[0m\u001b[1;33m\u001b[0m\u001b[1;33m\u001b[0m\u001b[0m\n\u001b[0m\u001b[0;32m      3\u001b[0m \u001b[0mprint\u001b[0m\u001b[1;33m(\u001b[0m\u001b[1;34m'Resampled dataset shape %s'\u001b[0m \u001b[1;33m%\u001b[0m \u001b[0mCounter\u001b[0m\u001b[1;33m(\u001b[0m\u001b[0my_res\u001b[0m\u001b[1;33m)\u001b[0m\u001b[1;33m)\u001b[0m\u001b[1;33m\u001b[0m\u001b[1;33m\u001b[0m\u001b[0m\n",
      "\u001b[1;32m~\\anaconda3\\lib\\site-packages\\imblearn\\base.py\u001b[0m in \u001b[0;36mfit_resample\u001b[1;34m(self, X, y)\u001b[0m\n\u001b[0;32m     81\u001b[0m         )\n\u001b[0;32m     82\u001b[0m \u001b[1;33m\u001b[0m\u001b[0m\n\u001b[1;32m---> 83\u001b[1;33m         \u001b[0moutput\u001b[0m \u001b[1;33m=\u001b[0m \u001b[0mself\u001b[0m\u001b[1;33m.\u001b[0m\u001b[0m_fit_resample\u001b[0m\u001b[1;33m(\u001b[0m\u001b[0mX\u001b[0m\u001b[1;33m,\u001b[0m \u001b[0my\u001b[0m\u001b[1;33m)\u001b[0m\u001b[1;33m\u001b[0m\u001b[1;33m\u001b[0m\u001b[0m\n\u001b[0m\u001b[0;32m     84\u001b[0m \u001b[1;33m\u001b[0m\u001b[0m\n\u001b[0;32m     85\u001b[0m         y_ = (label_binarize(output[1], np.unique(y))\n",
      "\u001b[1;32m~\\anaconda3\\lib\\site-packages\\imblearn\\under_sampling\\_prototype_selection\\_condensed_nearest_neighbour.py\u001b[0m in \u001b[0;36m_fit_resample\u001b[1;34m(self, X, y)\u001b[0m\n\u001b[0;32m    199\u001b[0m                         \u001b[1;31m# Classify all the element in S and avoid to test the\u001b[0m\u001b[1;33m\u001b[0m\u001b[1;33m\u001b[0m\u001b[1;33m\u001b[0m\u001b[0m\n\u001b[0;32m    200\u001b[0m                         \u001b[1;31m# well classified elements\u001b[0m\u001b[1;33m\u001b[0m\u001b[1;33m\u001b[0m\u001b[1;33m\u001b[0m\u001b[0m\n\u001b[1;32m--> 201\u001b[1;33m                         \u001b[0mpred_S_y\u001b[0m \u001b[1;33m=\u001b[0m \u001b[0mself\u001b[0m\u001b[1;33m.\u001b[0m\u001b[0mestimator_\u001b[0m\u001b[1;33m.\u001b[0m\u001b[0mpredict\u001b[0m\u001b[1;33m(\u001b[0m\u001b[0mS_x\u001b[0m\u001b[1;33m)\u001b[0m\u001b[1;33m\u001b[0m\u001b[1;33m\u001b[0m\u001b[0m\n\u001b[0m\u001b[0;32m    202\u001b[0m                         good_classif_label = np.unique(\n\u001b[0;32m    203\u001b[0m                             np.append(\n",
      "\u001b[1;32m~\\anaconda3\\lib\\site-packages\\sklearn\\neighbors\\_classification.py\u001b[0m in \u001b[0;36mpredict\u001b[1;34m(self, X)\u001b[0m\n\u001b[0;32m    187\u001b[0m         \u001b[1;32mfor\u001b[0m \u001b[0mk\u001b[0m\u001b[1;33m,\u001b[0m \u001b[0mclasses_k\u001b[0m \u001b[1;32min\u001b[0m \u001b[0menumerate\u001b[0m\u001b[1;33m(\u001b[0m\u001b[0mclasses_\u001b[0m\u001b[1;33m)\u001b[0m\u001b[1;33m:\u001b[0m\u001b[1;33m\u001b[0m\u001b[1;33m\u001b[0m\u001b[0m\n\u001b[0;32m    188\u001b[0m             \u001b[1;32mif\u001b[0m \u001b[0mweights\u001b[0m \u001b[1;32mis\u001b[0m \u001b[1;32mNone\u001b[0m\u001b[1;33m:\u001b[0m\u001b[1;33m\u001b[0m\u001b[1;33m\u001b[0m\u001b[0m\n\u001b[1;32m--> 189\u001b[1;33m                 \u001b[0mmode\u001b[0m\u001b[1;33m,\u001b[0m \u001b[0m_\u001b[0m \u001b[1;33m=\u001b[0m \u001b[0mstats\u001b[0m\u001b[1;33m.\u001b[0m\u001b[0mmode\u001b[0m\u001b[1;33m(\u001b[0m\u001b[0m_y\u001b[0m\u001b[1;33m[\u001b[0m\u001b[0mneigh_ind\u001b[0m\u001b[1;33m,\u001b[0m \u001b[0mk\u001b[0m\u001b[1;33m]\u001b[0m\u001b[1;33m,\u001b[0m \u001b[0maxis\u001b[0m\u001b[1;33m=\u001b[0m\u001b[1;36m1\u001b[0m\u001b[1;33m)\u001b[0m\u001b[1;33m\u001b[0m\u001b[1;33m\u001b[0m\u001b[0m\n\u001b[0m\u001b[0;32m    190\u001b[0m             \u001b[1;32melse\u001b[0m\u001b[1;33m:\u001b[0m\u001b[1;33m\u001b[0m\u001b[1;33m\u001b[0m\u001b[0m\n\u001b[0;32m    191\u001b[0m                 \u001b[0mmode\u001b[0m\u001b[1;33m,\u001b[0m \u001b[0m_\u001b[0m \u001b[1;33m=\u001b[0m \u001b[0mweighted_mode\u001b[0m\u001b[1;33m(\u001b[0m\u001b[0m_y\u001b[0m\u001b[1;33m[\u001b[0m\u001b[0mneigh_ind\u001b[0m\u001b[1;33m,\u001b[0m \u001b[0mk\u001b[0m\u001b[1;33m]\u001b[0m\u001b[1;33m,\u001b[0m \u001b[0mweights\u001b[0m\u001b[1;33m,\u001b[0m \u001b[0maxis\u001b[0m\u001b[1;33m=\u001b[0m\u001b[1;36m1\u001b[0m\u001b[1;33m)\u001b[0m\u001b[1;33m\u001b[0m\u001b[1;33m\u001b[0m\u001b[0m\n",
      "\u001b[1;32m~\\anaconda3\\lib\\site-packages\\scipy\\stats\\stats.py\u001b[0m in \u001b[0;36mmode\u001b[1;34m(a, axis, nan_policy)\u001b[0m\n\u001b[0;32m    570\u001b[0m     \u001b[0mcounts\u001b[0m \u001b[1;33m=\u001b[0m \u001b[0mnp\u001b[0m\u001b[1;33m.\u001b[0m\u001b[0mzeros\u001b[0m\u001b[1;33m(\u001b[0m\u001b[0ma_view\u001b[0m\u001b[1;33m.\u001b[0m\u001b[0mshape\u001b[0m\u001b[1;33m[\u001b[0m\u001b[1;33m:\u001b[0m\u001b[1;33m-\u001b[0m\u001b[1;36m1\u001b[0m\u001b[1;33m]\u001b[0m\u001b[1;33m,\u001b[0m \u001b[0mdtype\u001b[0m\u001b[1;33m=\u001b[0m\u001b[0mnp\u001b[0m\u001b[1;33m.\u001b[0m\u001b[0mint_\u001b[0m\u001b[1;33m)\u001b[0m\u001b[1;33m\u001b[0m\u001b[1;33m\u001b[0m\u001b[0m\n\u001b[0;32m    571\u001b[0m     \u001b[1;32mfor\u001b[0m \u001b[0mind\u001b[0m \u001b[1;32min\u001b[0m \u001b[0minds\u001b[0m\u001b[1;33m:\u001b[0m\u001b[1;33m\u001b[0m\u001b[1;33m\u001b[0m\u001b[0m\n\u001b[1;32m--> 572\u001b[1;33m         \u001b[0mmodes\u001b[0m\u001b[1;33m[\u001b[0m\u001b[0mind\u001b[0m\u001b[1;33m]\u001b[0m\u001b[1;33m,\u001b[0m \u001b[0mcounts\u001b[0m\u001b[1;33m[\u001b[0m\u001b[0mind\u001b[0m\u001b[1;33m]\u001b[0m \u001b[1;33m=\u001b[0m \u001b[0m_mode1D\u001b[0m\u001b[1;33m(\u001b[0m\u001b[0ma_view\u001b[0m\u001b[1;33m[\u001b[0m\u001b[0mind\u001b[0m\u001b[1;33m]\u001b[0m\u001b[1;33m)\u001b[0m\u001b[1;33m\u001b[0m\u001b[1;33m\u001b[0m\u001b[0m\n\u001b[0m\u001b[0;32m    573\u001b[0m     \u001b[0mnewshape\u001b[0m \u001b[1;33m=\u001b[0m \u001b[0mlist\u001b[0m\u001b[1;33m(\u001b[0m\u001b[0ma\u001b[0m\u001b[1;33m.\u001b[0m\u001b[0mshape\u001b[0m\u001b[1;33m)\u001b[0m\u001b[1;33m\u001b[0m\u001b[1;33m\u001b[0m\u001b[0m\n\u001b[0;32m    574\u001b[0m     \u001b[0mnewshape\u001b[0m\u001b[1;33m[\u001b[0m\u001b[0maxis\u001b[0m\u001b[1;33m]\u001b[0m \u001b[1;33m=\u001b[0m \u001b[1;36m1\u001b[0m\u001b[1;33m\u001b[0m\u001b[1;33m\u001b[0m\u001b[0m\n",
      "\u001b[1;32m~\\anaconda3\\lib\\site-packages\\scipy\\stats\\stats.py\u001b[0m in \u001b[0;36m_mode1D\u001b[1;34m(a)\u001b[0m\n\u001b[0;32m    558\u001b[0m     \u001b[1;32mdef\u001b[0m \u001b[0m_mode1D\u001b[0m\u001b[1;33m(\u001b[0m\u001b[0ma\u001b[0m\u001b[1;33m)\u001b[0m\u001b[1;33m:\u001b[0m\u001b[1;33m\u001b[0m\u001b[1;33m\u001b[0m\u001b[0m\n\u001b[0;32m    559\u001b[0m         \u001b[0mvals\u001b[0m\u001b[1;33m,\u001b[0m \u001b[0mcnts\u001b[0m \u001b[1;33m=\u001b[0m \u001b[0mnp\u001b[0m\u001b[1;33m.\u001b[0m\u001b[0munique\u001b[0m\u001b[1;33m(\u001b[0m\u001b[0ma\u001b[0m\u001b[1;33m,\u001b[0m \u001b[0mreturn_counts\u001b[0m\u001b[1;33m=\u001b[0m\u001b[1;32mTrue\u001b[0m\u001b[1;33m)\u001b[0m\u001b[1;33m\u001b[0m\u001b[1;33m\u001b[0m\u001b[0m\n\u001b[1;32m--> 560\u001b[1;33m         \u001b[1;32mreturn\u001b[0m \u001b[0mvals\u001b[0m\u001b[1;33m[\u001b[0m\u001b[0mcnts\u001b[0m\u001b[1;33m.\u001b[0m\u001b[0margmax\u001b[0m\u001b[1;33m(\u001b[0m\u001b[1;33m)\u001b[0m\u001b[1;33m]\u001b[0m\u001b[1;33m,\u001b[0m \u001b[0mcnts\u001b[0m\u001b[1;33m.\u001b[0m\u001b[0mmax\u001b[0m\u001b[1;33m(\u001b[0m\u001b[1;33m)\u001b[0m\u001b[1;33m\u001b[0m\u001b[1;33m\u001b[0m\u001b[0m\n\u001b[0m\u001b[0;32m    561\u001b[0m \u001b[1;33m\u001b[0m\u001b[0m\n\u001b[0;32m    562\u001b[0m     \u001b[1;31m# np.apply_along_axis will convert the _mode1D tuples to a numpy array, casting types in the process\u001b[0m\u001b[1;33m\u001b[0m\u001b[1;33m\u001b[0m\u001b[1;33m\u001b[0m\u001b[0m\n",
      "\u001b[1;32m~\\anaconda3\\lib\\site-packages\\numpy\\core\\_methods.py\u001b[0m in \u001b[0;36m_amax\u001b[1;34m(a, axis, out, keepdims, initial, where)\u001b[0m\n\u001b[0;32m     37\u001b[0m def _amax(a, axis=None, out=None, keepdims=False,\n\u001b[0;32m     38\u001b[0m           initial=_NoValue, where=True):\n\u001b[1;32m---> 39\u001b[1;33m     \u001b[1;32mreturn\u001b[0m \u001b[0mumr_maximum\u001b[0m\u001b[1;33m(\u001b[0m\u001b[0ma\u001b[0m\u001b[1;33m,\u001b[0m \u001b[0maxis\u001b[0m\u001b[1;33m,\u001b[0m \u001b[1;32mNone\u001b[0m\u001b[1;33m,\u001b[0m \u001b[0mout\u001b[0m\u001b[1;33m,\u001b[0m \u001b[0mkeepdims\u001b[0m\u001b[1;33m,\u001b[0m \u001b[0minitial\u001b[0m\u001b[1;33m,\u001b[0m \u001b[0mwhere\u001b[0m\u001b[1;33m)\u001b[0m\u001b[1;33m\u001b[0m\u001b[1;33m\u001b[0m\u001b[0m\n\u001b[0m\u001b[0;32m     40\u001b[0m \u001b[1;33m\u001b[0m\u001b[0m\n\u001b[0;32m     41\u001b[0m def _amin(a, axis=None, out=None, keepdims=False,\n",
      "\u001b[1;31mKeyboardInterrupt\u001b[0m: "
     ]
    }
   ],
   "source": [
    "cnn = CondensedNearestNeighbour(random_state=42, n_jobs=-1)\n",
    "X_res, y_res = cnn.fit_resample(X_train, y_train)\n",
    "print('Resampled dataset shape %s' % Counter(y_res))"
   ]
  },
  {
   "cell_type": "raw",
   "metadata": {},
   "source": [
    "from sklearn.model_selection import GridSearchCV\n",
    "from sklearn.model_selection import ParameterGrid\n",
    "\n",
    "param_grid = {'max_depth': [None] + [range(1, 50 +1, 5)],\n",
    "              'min_samples_split': range(1, 1500, 10),\n",
    "              'min_samples_leaf': range(30, 200 +1, 1)\n",
    "         }\n",
    "\n",
    "clf = DecisionTreeClassifier()\n",
    "grid_search = GridSearchCV(clf, param_grid, n_jobs=-1, verbose=10, cv=5, scoring='accuracy')\n",
    "grid_search.fit(X_res, y_res)"
   ]
  },
  {
   "cell_type": "raw",
   "metadata": {},
   "source": [
    "def report(results, n_top=3):\n",
    "    for i in range(1, n_top + 1):\n",
    "        candidates = np.flatnonzero(results['rank_test_score'] == i)\n",
    "        for candidate in candidates:\n",
    "            print(\"Model with rank: {0}\".format(i))\n",
    "            print(\"Mean validation score: {0:.3f} (std: {1:.3f})\".format(\n",
    "                  results['mean_test_score'][candidate],\n",
    "                  results['std_test_score'][candidate]))\n",
    "            print(\"Parameters: {0}\".format(results['params'][candidate]))\n",
    "            print(\"\")\n",
    "            \n",
    "report(grid_search.cv_results_, n_top=10)\n",
    "#Model with rank: 1\n",
    "#Mean validation score: 0.760 (std: 0.011)\n",
    "#Parameters: {'max_depth': None, 'min_samples_leaf': 31, 'min_samples_split': 134}"
   ]
  },
  {
   "cell_type": "code",
   "execution_count": null,
   "metadata": {},
   "outputs": [],
   "source": []
  },
  {
   "cell_type": "code",
   "execution_count": null,
   "metadata": {},
   "outputs": [],
   "source": []
  },
  {
   "cell_type": "code",
   "execution_count": null,
   "metadata": {},
   "outputs": [],
   "source": []
  },
  {
   "cell_type": "markdown",
   "metadata": {},
   "source": [
    "# Oversampling"
   ]
  },
  {
   "cell_type": "markdown",
   "metadata": {},
   "source": [
    "### RandomOverSampler"
   ]
  },
  {
   "cell_type": "code",
   "execution_count": 24,
   "metadata": {},
   "outputs": [],
   "source": [
    "from imblearn.over_sampling import RandomOverSampler\n",
    "from imblearn.over_sampling import SMOTE"
   ]
  },
  {
   "cell_type": "code",
   "execution_count": 28,
   "metadata": {},
   "outputs": [
    {
     "name": "stdout",
     "output_type": "stream",
     "text": [
      "Resampled dataset shape Counter({0: 24584, 1: 24584})\n"
     ]
    }
   ],
   "source": [
    "ros = RandomOverSampler(random_state=42)\n",
    "X_res, y_res = ros.fit_resample(X_train, y_train)\n",
    "print('Resampled dataset shape %s' % Counter(y_res))"
   ]
  },
  {
   "cell_type": "raw",
   "metadata": {},
   "source": [
    "from sklearn.model_selection import GridSearchCV\n",
    "from sklearn.model_selection import ParameterGrid\n",
    "\n",
    "param_grid = {'max_depth': [None],\n",
    "              'min_samples_split': range(35, 105 +1, 1),\n",
    "              'min_samples_leaf': range(25, 45 +1, 1)\n",
    "         }\n",
    "\n",
    "clf = DecisionTreeClassifier()\n",
    "grid_search = GridSearchCV(clf, param_grid, n_jobs=-1, verbose=10, cv=5, scoring='accuracy')\n",
    "grid_search.fit(X_res, y_res)\n",
    "\n",
    "#Model with rank: 1\n",
    "#Mean validation score: 0.882 (std: 0.002)\n",
    "#Parameters: {'max_depth': None, 'min_samples_leaf': 25, 'min_samples_split': 39}"
   ]
  },
  {
   "cell_type": "raw",
   "metadata": {},
   "source": [
    "report(grid_search.cv_results_, n_top=10)"
   ]
  },
  {
   "cell_type": "markdown",
   "metadata": {},
   "source": [
    "### SMOTE"
   ]
  },
  {
   "cell_type": "code",
   "execution_count": 36,
   "metadata": {},
   "outputs": [
    {
     "name": "stdout",
     "output_type": "stream",
     "text": [
      "Resampled dataset shape Counter({0: 24584, 1: 24584})\n"
     ]
    }
   ],
   "source": [
    "sm = SMOTE(random_state=42)\n",
    "X_res, y_res = sm.fit_resample(X_train, y_train)\n",
    "print('Resampled dataset shape %s' % Counter(y_res))"
   ]
  },
  {
   "cell_type": "code",
   "execution_count": 42,
   "metadata": {},
   "outputs": [
    {
     "name": "stdout",
     "output_type": "stream",
     "text": [
      "Fitting 5 folds for each of 1352 candidates, totalling 6760 fits\n"
     ]
    },
    {
     "name": "stderr",
     "output_type": "stream",
     "text": [
      "[Parallel(n_jobs=-1)]: Using backend LokyBackend with 24 concurrent workers.\n",
      "[Parallel(n_jobs=-1)]: Done   2 tasks      | elapsed:    5.4s\n",
      "[Parallel(n_jobs=-1)]: Done  13 tasks      | elapsed:    5.6s\n",
      "[Parallel(n_jobs=-1)]: Done  24 tasks      | elapsed:    6.2s\n",
      "[Parallel(n_jobs=-1)]: Done  37 tasks      | elapsed:   11.1s\n",
      "[Parallel(n_jobs=-1)]: Done  50 tasks      | elapsed:   16.1s\n",
      "[Parallel(n_jobs=-1)]: Done  65 tasks      | elapsed:   17.0s\n",
      "[Parallel(n_jobs=-1)]: Done  80 tasks      | elapsed:   22.1s\n",
      "[Parallel(n_jobs=-1)]: Done  97 tasks      | elapsed:   26.6s\n",
      "[Parallel(n_jobs=-1)]: Done 114 tasks      | elapsed:   28.3s\n",
      "[Parallel(n_jobs=-1)]: Done 133 tasks      | elapsed:   33.3s\n",
      "[Parallel(n_jobs=-1)]: Done 152 tasks      | elapsed:   38.4s\n",
      "[Parallel(n_jobs=-1)]: Done 173 tasks      | elapsed:   43.5s\n",
      "[Parallel(n_jobs=-1)]: Done 194 tasks      | elapsed:   48.5s\n",
      "[Parallel(n_jobs=-1)]: Done 217 tasks      | elapsed:   53.3s\n",
      "[Parallel(n_jobs=-1)]: Done 240 tasks      | elapsed:   58.5s\n",
      "[Parallel(n_jobs=-1)]: Done 265 tasks      | elapsed:  1.1min\n",
      "[Parallel(n_jobs=-1)]: Done 290 tasks      | elapsed:  1.2min\n",
      "[Parallel(n_jobs=-1)]: Done 317 tasks      | elapsed:  1.3min\n",
      "[Parallel(n_jobs=-1)]: Done 344 tasks      | elapsed:  1.4min\n",
      "[Parallel(n_jobs=-1)]: Done 373 tasks      | elapsed:  1.5min\n",
      "[Parallel(n_jobs=-1)]: Done 402 tasks      | elapsed:  1.6min\n",
      "[Parallel(n_jobs=-1)]: Done 433 tasks      | elapsed:  1.7min\n",
      "[Parallel(n_jobs=-1)]: Done 464 tasks      | elapsed:  1.8min\n",
      "[Parallel(n_jobs=-1)]: Done 497 tasks      | elapsed:  1.9min\n",
      "[Parallel(n_jobs=-1)]: Done 530 tasks      | elapsed:  2.1min\n",
      "[Parallel(n_jobs=-1)]: Done 565 tasks      | elapsed:  2.2min\n",
      "[Parallel(n_jobs=-1)]: Done 600 tasks      | elapsed:  2.4min\n",
      "[Parallel(n_jobs=-1)]: Done 637 tasks      | elapsed:  2.5min\n",
      "[Parallel(n_jobs=-1)]: Done 674 tasks      | elapsed:  2.6min\n",
      "[Parallel(n_jobs=-1)]: Done 713 tasks      | elapsed:  2.8min\n",
      "[Parallel(n_jobs=-1)]: Done 752 tasks      | elapsed:  2.9min\n",
      "[Parallel(n_jobs=-1)]: Done 793 tasks      | elapsed:  3.1min\n",
      "[Parallel(n_jobs=-1)]: Done 834 tasks      | elapsed:  3.2min\n",
      "[Parallel(n_jobs=-1)]: Done 877 tasks      | elapsed:  3.4min\n",
      "[Parallel(n_jobs=-1)]: Done 920 tasks      | elapsed:  3.6min\n",
      "[Parallel(n_jobs=-1)]: Done 965 tasks      | elapsed:  3.7min\n",
      "[Parallel(n_jobs=-1)]: Done 1010 tasks      | elapsed:  3.9min\n",
      "[Parallel(n_jobs=-1)]: Done 1057 tasks      | elapsed:  4.1min\n",
      "[Parallel(n_jobs=-1)]: Done 1104 tasks      | elapsed:  4.2min\n",
      "[Parallel(n_jobs=-1)]: Done 1153 tasks      | elapsed:  4.4min\n",
      "[Parallel(n_jobs=-1)]: Done 1202 tasks      | elapsed:  4.6min\n",
      "[Parallel(n_jobs=-1)]: Done 1253 tasks      | elapsed:  4.8min\n",
      "[Parallel(n_jobs=-1)]: Done 1304 tasks      | elapsed:  5.0min\n",
      "[Parallel(n_jobs=-1)]: Done 1357 tasks      | elapsed:  5.2min\n",
      "[Parallel(n_jobs=-1)]: Done 1410 tasks      | elapsed:  5.4min\n",
      "[Parallel(n_jobs=-1)]: Done 1465 tasks      | elapsed:  5.6min\n",
      "[Parallel(n_jobs=-1)]: Done 1520 tasks      | elapsed:  5.8min\n",
      "[Parallel(n_jobs=-1)]: Done 1577 tasks      | elapsed:  6.0min\n",
      "[Parallel(n_jobs=-1)]: Done 1634 tasks      | elapsed:  6.2min\n",
      "[Parallel(n_jobs=-1)]: Done 1693 tasks      | elapsed:  6.5min\n",
      "[Parallel(n_jobs=-1)]: Done 1752 tasks      | elapsed:  6.7min\n",
      "[Parallel(n_jobs=-1)]: Done 1813 tasks      | elapsed:  6.9min\n",
      "[Parallel(n_jobs=-1)]: Done 1874 tasks      | elapsed:  7.2min\n",
      "[Parallel(n_jobs=-1)]: Done 1937 tasks      | elapsed:  7.4min\n",
      "[Parallel(n_jobs=-1)]: Done 2000 tasks      | elapsed:  7.7min\n",
      "[Parallel(n_jobs=-1)]: Done 2065 tasks      | elapsed:  7.9min\n",
      "[Parallel(n_jobs=-1)]: Done 2130 tasks      | elapsed:  8.1min\n",
      "[Parallel(n_jobs=-1)]: Done 2197 tasks      | elapsed:  8.4min\n",
      "[Parallel(n_jobs=-1)]: Done 2264 tasks      | elapsed:  8.6min\n",
      "[Parallel(n_jobs=-1)]: Done 2333 tasks      | elapsed:  8.9min\n",
      "[Parallel(n_jobs=-1)]: Done 2402 tasks      | elapsed:  9.1min\n",
      "[Parallel(n_jobs=-1)]: Done 2473 tasks      | elapsed:  9.4min\n",
      "[Parallel(n_jobs=-1)]: Done 2544 tasks      | elapsed:  9.6min\n",
      "[Parallel(n_jobs=-1)]: Done 2617 tasks      | elapsed:  9.9min\n",
      "[Parallel(n_jobs=-1)]: Done 2690 tasks      | elapsed: 10.1min\n",
      "[Parallel(n_jobs=-1)]: Done 2765 tasks      | elapsed: 10.4min\n",
      "[Parallel(n_jobs=-1)]: Done 2840 tasks      | elapsed: 10.7min\n",
      "[Parallel(n_jobs=-1)]: Done 2917 tasks      | elapsed: 10.9min\n",
      "[Parallel(n_jobs=-1)]: Done 2994 tasks      | elapsed: 11.2min\n",
      "[Parallel(n_jobs=-1)]: Done 3073 tasks      | elapsed: 11.5min\n",
      "[Parallel(n_jobs=-1)]: Done 3152 tasks      | elapsed: 11.8min\n",
      "[Parallel(n_jobs=-1)]: Done 3233 tasks      | elapsed: 12.1min\n",
      "[Parallel(n_jobs=-1)]: Done 3314 tasks      | elapsed: 12.4min\n",
      "[Parallel(n_jobs=-1)]: Done 3397 tasks      | elapsed: 12.7min\n",
      "[Parallel(n_jobs=-1)]: Done 3480 tasks      | elapsed: 13.0min\n",
      "[Parallel(n_jobs=-1)]: Done 3565 tasks      | elapsed: 13.3min\n",
      "[Parallel(n_jobs=-1)]: Done 3650 tasks      | elapsed: 13.6min\n",
      "[Parallel(n_jobs=-1)]: Done 3737 tasks      | elapsed: 13.9min\n",
      "[Parallel(n_jobs=-1)]: Done 3824 tasks      | elapsed: 14.2min\n",
      "[Parallel(n_jobs=-1)]: Done 3913 tasks      | elapsed: 14.5min\n",
      "[Parallel(n_jobs=-1)]: Done 4002 tasks      | elapsed: 14.8min\n",
      "[Parallel(n_jobs=-1)]: Done 4093 tasks      | elapsed: 15.2min\n",
      "[Parallel(n_jobs=-1)]: Done 4184 tasks      | elapsed: 15.5min\n",
      "[Parallel(n_jobs=-1)]: Done 4277 tasks      | elapsed: 15.8min\n",
      "[Parallel(n_jobs=-1)]: Done 4370 tasks      | elapsed: 16.1min\n",
      "[Parallel(n_jobs=-1)]: Done 4465 tasks      | elapsed: 16.5min\n",
      "[Parallel(n_jobs=-1)]: Done 4560 tasks      | elapsed: 16.8min\n",
      "[Parallel(n_jobs=-1)]: Done 4657 tasks      | elapsed: 17.1min\n",
      "[Parallel(n_jobs=-1)]: Done 4754 tasks      | elapsed: 17.5min\n",
      "[Parallel(n_jobs=-1)]: Done 4853 tasks      | elapsed: 17.8min\n",
      "[Parallel(n_jobs=-1)]: Done 4952 tasks      | elapsed: 18.2min\n",
      "[Parallel(n_jobs=-1)]: Done 5053 tasks      | elapsed: 18.5min\n",
      "[Parallel(n_jobs=-1)]: Done 5154 tasks      | elapsed: 18.9min\n",
      "[Parallel(n_jobs=-1)]: Done 5257 tasks      | elapsed: 19.2min\n",
      "[Parallel(n_jobs=-1)]: Done 5360 tasks      | elapsed: 19.6min\n",
      "[Parallel(n_jobs=-1)]: Done 5465 tasks      | elapsed: 20.0min\n",
      "[Parallel(n_jobs=-1)]: Done 5570 tasks      | elapsed: 20.3min\n",
      "[Parallel(n_jobs=-1)]: Done 5677 tasks      | elapsed: 20.7min\n",
      "[Parallel(n_jobs=-1)]: Done 5784 tasks      | elapsed: 21.1min\n",
      "[Parallel(n_jobs=-1)]: Done 5893 tasks      | elapsed: 21.5min\n",
      "[Parallel(n_jobs=-1)]: Done 6002 tasks      | elapsed: 21.9min\n",
      "[Parallel(n_jobs=-1)]: Done 6113 tasks      | elapsed: 22.3min\n",
      "[Parallel(n_jobs=-1)]: Done 6224 tasks      | elapsed: 22.6min\n",
      "[Parallel(n_jobs=-1)]: Done 6337 tasks      | elapsed: 23.0min\n",
      "[Parallel(n_jobs=-1)]: Done 6450 tasks      | elapsed: 23.4min\n",
      "[Parallel(n_jobs=-1)]: Done 6565 tasks      | elapsed: 23.8min\n",
      "[Parallel(n_jobs=-1)]: Done 6680 tasks      | elapsed: 24.2min\n",
      "[Parallel(n_jobs=-1)]: Done 6760 out of 6760 | elapsed: 24.5min finished\n"
     ]
    },
    {
     "data": {
      "text/plain": [
       "GridSearchCV(cv=5, estimator=DecisionTreeClassifier(), n_jobs=-1,\n",
       "             param_grid={'max_depth': [None], 'min_samples_leaf': range(20, 46),\n",
       "                         'min_samples_split': range(16, 120, 2)},\n",
       "             scoring='accuracy', verbose=10)"
      ]
     },
     "execution_count": 42,
     "metadata": {},
     "output_type": "execute_result"
    }
   ],
   "source": [
    "from sklearn.model_selection import GridSearchCV\n",
    "from sklearn.model_selection import ParameterGrid\n",
    "\n",
    "param_grid = {'max_depth': [None],\n",
    "              'min_samples_split': range(16, 120, 2),\n",
    "              'min_samples_leaf': range(20, 45 +1, 1)\n",
    "         }\n",
    "\n",
    "clf = DecisionTreeClassifier()\n",
    "grid_search = GridSearchCV(clf, param_grid, n_jobs=-1, verbose=10, cv=5, scoring='accuracy')\n",
    "grid_search.fit(X_res, y_res)\n",
    "\n",
    "#Model with rank: 1\n",
    "#Mean validation score: 0.876 (std: 0.026)\n",
    "#Parameters: {'max_depth': None, 'min_samples_leaf': 23, 'min_samples_split': 42}"
   ]
  },
  {
   "cell_type": "code",
   "execution_count": 43,
   "metadata": {},
   "outputs": [
    {
     "name": "stdout",
     "output_type": "stream",
     "text": [
      "Model with rank: 1\n",
      "Mean validation score: 0.876 (std: 0.026)\n",
      "Parameters: {'max_depth': None, 'min_samples_leaf': 23, 'min_samples_split': 42}\n",
      "\n",
      "Model with rank: 2\n",
      "Mean validation score: 0.876 (std: 0.026)\n",
      "Parameters: {'max_depth': None, 'min_samples_leaf': 23, 'min_samples_split': 24}\n",
      "\n",
      "Model with rank: 3\n",
      "Mean validation score: 0.876 (std: 0.026)\n",
      "Parameters: {'max_depth': None, 'min_samples_leaf': 22, 'min_samples_split': 30}\n",
      "\n",
      "Model with rank: 4\n",
      "Mean validation score: 0.876 (std: 0.026)\n",
      "Parameters: {'max_depth': None, 'min_samples_leaf': 23, 'min_samples_split': 32}\n",
      "\n",
      "Model with rank: 5\n",
      "Mean validation score: 0.876 (std: 0.026)\n",
      "Parameters: {'max_depth': None, 'min_samples_leaf': 22, 'min_samples_split': 28}\n",
      "\n",
      "Model with rank: 6\n",
      "Mean validation score: 0.876 (std: 0.026)\n",
      "Parameters: {'max_depth': None, 'min_samples_leaf': 23, 'min_samples_split': 16}\n",
      "\n",
      "Model with rank: 7\n",
      "Mean validation score: 0.876 (std: 0.026)\n",
      "Parameters: {'max_depth': None, 'min_samples_leaf': 23, 'min_samples_split': 28}\n",
      "\n",
      "Model with rank: 8\n",
      "Mean validation score: 0.876 (std: 0.026)\n",
      "Parameters: {'max_depth': None, 'min_samples_leaf': 22, 'min_samples_split': 36}\n",
      "\n",
      "Model with rank: 9\n",
      "Mean validation score: 0.876 (std: 0.026)\n",
      "Parameters: {'max_depth': None, 'min_samples_leaf': 23, 'min_samples_split': 46}\n",
      "\n",
      "Model with rank: 10\n",
      "Mean validation score: 0.876 (std: 0.026)\n",
      "Parameters: {'max_depth': None, 'min_samples_leaf': 23, 'min_samples_split': 22}\n",
      "\n"
     ]
    }
   ],
   "source": [
    "report(grid_search.cv_results_, n_top=10)"
   ]
  },
  {
   "cell_type": "code",
   "execution_count": null,
   "metadata": {},
   "outputs": [],
   "source": []
  },
  {
   "cell_type": "code",
   "execution_count": null,
   "metadata": {},
   "outputs": [],
   "source": []
  },
  {
   "cell_type": "code",
   "execution_count": null,
   "metadata": {},
   "outputs": [],
   "source": []
  },
  {
   "cell_type": "markdown",
   "metadata": {},
   "source": [
    "# Class Weight"
   ]
  },
  {
   "cell_type": "code",
   "execution_count": 39,
   "metadata": {},
   "outputs": [
    {
     "name": "stdout",
     "output_type": "stream",
     "text": [
      "Accuracy 0.7659339726724943\n",
      "F1-score [0.85387305 0.41219096]\n",
      "              precision    recall  f1-score   support\n",
      "\n",
      "           0       0.97      0.76      0.85     10536\n",
      "           1       0.28      0.78      0.41      1247\n",
      "\n",
      "    accuracy                           0.77     11783\n",
      "   macro avg       0.62      0.77      0.63     11783\n",
      "weighted avg       0.89      0.77      0.81     11783\n",
      "\n"
     ]
    },
    {
     "data": {
      "image/png": "[encoded data removed]",
      "text/plain": [
       "<Figure size 1440x720 with 1 Axes>"
      ]
     },
     "metadata": {
      "needs_background": "light"
     },
     "output_type": "display_data"
    }
   ],
   "source": [
    "clf = DecisionTreeClassifier(min_samples_leaf=10, max_depth=11, min_samples_split=124, criterion='gini',\n",
    "                                 class_weight={0:1, 1: 10}, random_state=42)\n",
    "clf.fit(X_train, y_train)\n",
    "\n",
    "y_pred = clf.predict(X_test)\n",
    "\n",
    "print('Accuracy %s' % accuracy_score(y_test, y_pred))\n",
    "print('F1-score %s' % f1_score(y_test, y_pred, average=None))\n",
    "print(classification_report(y_test, y_pred))\n",
    "\n",
    "y_score = clf.predict_proba(X_test)\n",
    "fpr, tpr, _ = roc_curve(y_test, y_score[:, 1])\n",
    "roc_auc = auc(fpr, tpr)\n",
    "\n",
    "plt.plot(fpr0, tpr0, color='darkorange', lw=3, label='$AUC_0$ = %.3f' % (roc_auc0))\n",
    "plt.plot(fpr, tpr, color='green', lw=3, label='$AUC_1$ = %.3f' % (roc_auc))\n",
    "\n",
    "plt.plot([0, 1], [0, 1], color='navy', lw=2, linestyle='--')\n",
    "plt.xlim([0.0, 1.0])\n",
    "plt.ylim([0.0, 1.05])\n",
    "plt.xlabel('False Positive Rate', fontsize=16)\n",
    "plt.ylabel('True Positive Rate', fontsize=16)\n",
    "plt.title('ROC curve', fontsize=16)\n",
    "plt.legend(loc=\"lower right\", fontsize=14, frameon=False)\n",
    "plt.tick_params(axis='both', which='major', labelsize=16)\n",
    "plt.show()"
   ]
  },
  {
   "cell_type": "code",
   "execution_count": 49,
   "metadata": {
    "scrolled": true
   },
   "outputs": [
    {
     "name": "stdout",
     "output_type": "stream",
     "text": [
      "Fitting 5 folds for each of 35 candidates, totalling 175 fits\n"
     ]
    },
    {
     "name": "stderr",
     "output_type": "stream",
     "text": [
      "[Parallel(n_jobs=-1)]: Using backend LokyBackend with 24 concurrent workers.\n",
      "[Parallel(n_jobs=-1)]: Done   2 tasks      | elapsed:    5.4s\n",
      "[Parallel(n_jobs=-1)]: Done  13 tasks      | elapsed:    5.5s\n",
      "[Parallel(n_jobs=-1)]: Done  24 tasks      | elapsed:    6.1s\n",
      "[Parallel(n_jobs=-1)]: Done  37 tasks      | elapsed:   10.9s\n",
      "[Parallel(n_jobs=-1)]: Done  50 tasks      | elapsed:   15.9s\n",
      "[Parallel(n_jobs=-1)]: Done  65 tasks      | elapsed:   16.3s\n",
      "[Parallel(n_jobs=-1)]: Done  80 tasks      | elapsed:   21.4s\n",
      "[Parallel(n_jobs=-1)]: Done  97 tasks      | elapsed:   26.2s\n",
      "[Parallel(n_jobs=-1)]: Done 114 tasks      | elapsed:   26.9s\n",
      "[Parallel(n_jobs=-1)]: Done 146 out of 175 | elapsed:   36.9s remaining:    7.2s\n",
      "[Parallel(n_jobs=-1)]: Done 164 out of 175 | elapsed:   37.5s remaining:    2.4s\n",
      "[Parallel(n_jobs=-1)]: Done 175 out of 175 | elapsed:   41.4s finished\n"
     ]
    },
    {
     "data": {
      "text/plain": [
       "GridSearchCV(cv=5, estimator=DecisionTreeClassifier(), n_jobs=-1,\n",
       "             param_grid={'max_depth': [None], 'min_samples_leaf': range(17, 24),\n",
       "                         'min_samples_split': range(34, 39)},\n",
       "             scoring='accuracy', verbose=10)"
      ]
     },
     "execution_count": 49,
     "metadata": {},
     "output_type": "execute_result"
    }
   ],
   "source": [
    "from sklearn.model_selection import GridSearchCV\n",
    "from sklearn.model_selection import ParameterGrid\n",
    "\n",
    "param_grid = {'max_depth': [None],\n",
    "              'min_samples_split': range(34, 39, 1),\n",
    "              'min_samples_leaf': range(17, 24, 1)\n",
    "         }\n",
    "\n",
    "clf = DecisionTreeClassifier()\n",
    "grid_search = GridSearchCV(clf, param_grid, n_jobs=-1, verbose=10, cv=5, scoring='accuracy')\n",
    "grid_search.fit(X_res, y_res)\n",
    "\n",
    "#Model with rank: 1\n",
    "#Mean validation score: 0.877 (std: 0.029)\n",
    "#Parameters: {'max_depth': None, 'min_samples_leaf': 17, 'min_samples_split': 34}"
   ]
  },
  {
   "cell_type": "code",
   "execution_count": 52,
   "metadata": {
    "scrolled": false
   },
   "outputs": [
    {
     "name": "stdout",
     "output_type": "stream",
     "text": [
      "Model with rank: 1\n",
      "Mean validation score: 0.877 (std: 0.029)\n",
      "Parameters: {'max_depth': None, 'min_samples_leaf': 17, 'min_samples_split': 34}\n",
      "\n",
      "Model with rank: 2\n",
      "Mean validation score: 0.877 (std: 0.029)\n",
      "Parameters: {'max_depth': None, 'min_samples_leaf': 17, 'min_samples_split': 35}\n",
      "\n",
      "Model with rank: 3\n",
      "Mean validation score: 0.877 (std: 0.029)\n",
      "Parameters: {'max_depth': None, 'min_samples_leaf': 17, 'min_samples_split': 36}\n",
      "\n",
      "Model with rank: 4\n",
      "Mean validation score: 0.876 (std: 0.029)\n",
      "Parameters: {'max_depth': None, 'min_samples_leaf': 17, 'min_samples_split': 38}\n",
      "\n",
      "Model with rank: 5\n",
      "Mean validation score: 0.876 (std: 0.029)\n",
      "Parameters: {'max_depth': None, 'min_samples_leaf': 17, 'min_samples_split': 37}\n",
      "\n",
      "Model with rank: 6\n",
      "Mean validation score: 0.876 (std: 0.029)\n",
      "Parameters: {'max_depth': None, 'min_samples_leaf': 19, 'min_samples_split': 35}\n",
      "\n",
      "Model with rank: 7\n",
      "Mean validation score: 0.876 (std: 0.026)\n",
      "Parameters: {'max_depth': None, 'min_samples_leaf': 23, 'min_samples_split': 34}\n",
      "\n",
      "Model with rank: 8\n",
      "Mean validation score: 0.876 (std: 0.026)\n",
      "Parameters: {'max_depth': None, 'min_samples_leaf': 22, 'min_samples_split': 37}\n",
      "\n",
      "Model with rank: 9\n",
      "Mean validation score: 0.876 (std: 0.026)\n",
      "Parameters: {'max_depth': None, 'min_samples_leaf': 23, 'min_samples_split': 36}\n",
      "\n",
      "Model with rank: 9\n",
      "Mean validation score: 0.876 (std: 0.026)\n",
      "Parameters: {'max_depth': None, 'min_samples_leaf': 23, 'min_samples_split': 37}\n",
      "\n"
     ]
    }
   ],
   "source": [
    "report(grid_search.cv_results_, n_top=10)"
   ]
  },
  {
   "cell_type": "code",
   "execution_count": null,
   "metadata": {},
   "outputs": [],
   "source": []
  },
  {
   "cell_type": "code",
   "execution_count": null,
   "metadata": {},
   "outputs": [],
   "source": []
  },
  {
   "cell_type": "code",
   "execution_count": null,
   "metadata": {},
   "outputs": [],
   "source": []
  }
 ],
 "metadata": {
  "kernelspec": {
   "display_name": "Python 3",
   "language": "python",
   "name": "python3"
  },
  "language_info": {
   "codemirror_mode": {
    "name": "ipython",
    "version": 3
   },
   "file_extension": ".py",
   "mimetype": "text/x-python",
   "name": "python",
   "nbconvert_exporter": "python",
   "pygments_lexer": "ipython3",
   "version": "3.8.5"
  }
 },
 "nbformat": 4,
 "nbformat_minor": 4
}
