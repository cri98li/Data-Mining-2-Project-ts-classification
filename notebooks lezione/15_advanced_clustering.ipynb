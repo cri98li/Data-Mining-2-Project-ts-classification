{
 "cells": [
  {
   "cell_type": "markdown",
   "metadata": {},
   "source": [
    "**Author:** [Riccardo Guidotti](http://kdd.isti.cnr.it/people/riccardo-guidotti)  \n",
    "**Python version:**  3.x"
   ]
  },
  {
   "cell_type": "code",
   "execution_count": 50,
   "metadata": {
    "ExecuteTime": {
     "end_time": "2021-05-24T15:38:28.632568Z",
     "start_time": "2021-05-24T15:38:28.614565Z"
    }
   },
   "outputs": [],
   "source": [
    "%matplotlib inline\n",
    "\n",
    "import numpy as np\n",
    "import pandas as pd\n",
    "import matplotlib.pyplot as plt\n",
    "\n",
    "from collections import defaultdict"
   ]
  },
  {
   "cell_type": "markdown",
   "metadata": {},
   "source": [
    "# Data Preparation"
   ]
  },
  {
   "cell_type": "code",
   "execution_count": 51,
   "metadata": {
    "ExecuteTime": {
     "end_time": "2021-05-24T15:38:29.127731Z",
     "start_time": "2021-05-24T15:38:29.104727Z"
    }
   },
   "outputs": [
    {
     "data": {
      "text/html": [
       "<div>\n",
       "<style scoped>\n",
       "    .dataframe tbody tr th:only-of-type {\n",
       "        vertical-align: middle;\n",
       "    }\n",
       "\n",
       "    .dataframe tbody tr th {\n",
       "        vertical-align: top;\n",
       "    }\n",
       "\n",
       "    .dataframe thead th {\n",
       "        text-align: right;\n",
       "    }\n",
       "</style>\n",
       "<table border=\"1\" class=\"dataframe\">\n",
       "  <thead>\n",
       "    <tr style=\"text-align: right;\">\n",
       "      <th></th>\n",
       "      <th>date</th>\n",
       "      <th>Temperature</th>\n",
       "      <th>Humidity</th>\n",
       "      <th>Light</th>\n",
       "      <th>CO2</th>\n",
       "      <th>HumidityRatio</th>\n",
       "      <th>Occupancy</th>\n",
       "    </tr>\n",
       "  </thead>\n",
       "  <tbody>\n",
       "    <tr>\n",
       "      <th>1</th>\n",
       "      <td>2015-02-04 17:51:00</td>\n",
       "      <td>23.18</td>\n",
       "      <td>27.2720</td>\n",
       "      <td>426.0</td>\n",
       "      <td>721.25</td>\n",
       "      <td>0.004793</td>\n",
       "      <td>1</td>\n",
       "    </tr>\n",
       "    <tr>\n",
       "      <th>2</th>\n",
       "      <td>2015-02-04 17:51:59</td>\n",
       "      <td>23.15</td>\n",
       "      <td>27.2675</td>\n",
       "      <td>429.5</td>\n",
       "      <td>714.00</td>\n",
       "      <td>0.004783</td>\n",
       "      <td>1</td>\n",
       "    </tr>\n",
       "    <tr>\n",
       "      <th>3</th>\n",
       "      <td>2015-02-04 17:53:00</td>\n",
       "      <td>23.15</td>\n",
       "      <td>27.2450</td>\n",
       "      <td>426.0</td>\n",
       "      <td>713.50</td>\n",
       "      <td>0.004779</td>\n",
       "      <td>1</td>\n",
       "    </tr>\n",
       "    <tr>\n",
       "      <th>4</th>\n",
       "      <td>2015-02-04 17:54:00</td>\n",
       "      <td>23.15</td>\n",
       "      <td>27.2000</td>\n",
       "      <td>426.0</td>\n",
       "      <td>708.25</td>\n",
       "      <td>0.004772</td>\n",
       "      <td>1</td>\n",
       "    </tr>\n",
       "    <tr>\n",
       "      <th>5</th>\n",
       "      <td>2015-02-04 17:55:00</td>\n",
       "      <td>23.10</td>\n",
       "      <td>27.2000</td>\n",
       "      <td>426.0</td>\n",
       "      <td>704.50</td>\n",
       "      <td>0.004757</td>\n",
       "      <td>1</td>\n",
       "    </tr>\n",
       "  </tbody>\n",
       "</table>\n",
       "</div>"
      ],
      "text/plain": [
       "                  date  Temperature  Humidity  Light     CO2  HumidityRatio  \\\n",
       "1  2015-02-04 17:51:00        23.18   27.2720  426.0  721.25       0.004793   \n",
       "2  2015-02-04 17:51:59        23.15   27.2675  429.5  714.00       0.004783   \n",
       "3  2015-02-04 17:53:00        23.15   27.2450  426.0  713.50       0.004779   \n",
       "4  2015-02-04 17:54:00        23.15   27.2000  426.0  708.25       0.004772   \n",
       "5  2015-02-04 17:55:00        23.10   27.2000  426.0  704.50       0.004757   \n",
       "\n",
       "   Occupancy  \n",
       "1          1  \n",
       "2          1  \n",
       "3          1  \n",
       "4          1  \n",
       "5          1  "
      ]
     },
     "execution_count": 51,
     "metadata": {},
     "output_type": "execute_result"
    }
   ],
   "source": [
    "class_name = 'Occupancy'\n",
    "df = pd.read_csv('occupancy_data/datatraining.txt', skipinitialspace=True, na_values='?', keep_default_na=True)\n",
    "df.head()"
   ]
  },
  {
   "cell_type": "code",
   "execution_count": 52,
   "metadata": {
    "ExecuteTime": {
     "end_time": "2021-05-24T15:38:30.070726Z",
     "start_time": "2021-05-24T15:38:30.035720Z"
    }
   },
   "outputs": [
    {
     "data": {
      "text/plain": [
       "Temperature       20.619084\n",
       "Humidity          25.731507\n",
       "Light            119.519375\n",
       "CO2              606.546243\n",
       "HumidityRatio      0.003863\n",
       "Occupancy          0.212330\n",
       "dtype: float64"
      ]
     },
     "execution_count": 52,
     "metadata": {},
     "output_type": "execute_result"
    }
   ],
   "source": [
    "df.mean()"
   ]
  },
  {
   "cell_type": "code",
   "execution_count": 54,
   "metadata": {
    "ExecuteTime": {
     "end_time": "2021-05-24T15:38:50.485416Z",
     "start_time": "2021-05-24T15:38:50.017834Z"
    }
   },
   "outputs": [
    {
     "data": {
      "text/html": [
       "<div>\n",
       "<style scoped>\n",
       "    .dataframe tbody tr th:only-of-type {\n",
       "        vertical-align: middle;\n",
       "    }\n",
       "\n",
       "    .dataframe tbody tr th {\n",
       "        vertical-align: top;\n",
       "    }\n",
       "\n",
       "    .dataframe thead th {\n",
       "        text-align: right;\n",
       "    }\n",
       "</style>\n",
       "<table border=\"1\" class=\"dataframe\">\n",
       "  <thead>\n",
       "    <tr style=\"text-align: right;\">\n",
       "      <th></th>\n",
       "      <th>Temperature</th>\n",
       "      <th>Humidity</th>\n",
       "      <th>Light</th>\n",
       "      <th>CO2</th>\n",
       "      <th>HumidityRatio</th>\n",
       "      <th>Occupancy</th>\n",
       "      <th>daytime</th>\n",
       "      <th>weekend</th>\n",
       "    </tr>\n",
       "  </thead>\n",
       "  <tbody>\n",
       "    <tr>\n",
       "      <th>1</th>\n",
       "      <td>23.18</td>\n",
       "      <td>27.2720</td>\n",
       "      <td>426.0</td>\n",
       "      <td>721.25</td>\n",
       "      <td>0.004793</td>\n",
       "      <td>1</td>\n",
       "      <td>1970-01-01 00:00:00.000000017</td>\n",
       "      <td>0</td>\n",
       "    </tr>\n",
       "    <tr>\n",
       "      <th>2</th>\n",
       "      <td>23.15</td>\n",
       "      <td>27.2675</td>\n",
       "      <td>429.5</td>\n",
       "      <td>714.00</td>\n",
       "      <td>0.004783</td>\n",
       "      <td>1</td>\n",
       "      <td>1970-01-01 00:00:00.000000017</td>\n",
       "      <td>0</td>\n",
       "    </tr>\n",
       "    <tr>\n",
       "      <th>3</th>\n",
       "      <td>23.15</td>\n",
       "      <td>27.2450</td>\n",
       "      <td>426.0</td>\n",
       "      <td>713.50</td>\n",
       "      <td>0.004779</td>\n",
       "      <td>1</td>\n",
       "      <td>1970-01-01 00:00:00.000000017</td>\n",
       "      <td>0</td>\n",
       "    </tr>\n",
       "    <tr>\n",
       "      <th>4</th>\n",
       "      <td>23.15</td>\n",
       "      <td>27.2000</td>\n",
       "      <td>426.0</td>\n",
       "      <td>708.25</td>\n",
       "      <td>0.004772</td>\n",
       "      <td>1</td>\n",
       "      <td>1970-01-01 00:00:00.000000017</td>\n",
       "      <td>0</td>\n",
       "    </tr>\n",
       "    <tr>\n",
       "      <th>5</th>\n",
       "      <td>23.10</td>\n",
       "      <td>27.2000</td>\n",
       "      <td>426.0</td>\n",
       "      <td>704.50</td>\n",
       "      <td>0.004757</td>\n",
       "      <td>1</td>\n",
       "      <td>1970-01-01 00:00:00.000000017</td>\n",
       "      <td>0</td>\n",
       "    </tr>\n",
       "  </tbody>\n",
       "</table>\n",
       "</div>"
      ],
      "text/plain": [
       "   Temperature  Humidity  Light     CO2  HumidityRatio  Occupancy  \\\n",
       "1        23.18   27.2720  426.0  721.25       0.004793          1   \n",
       "2        23.15   27.2675  429.5  714.00       0.004783          1   \n",
       "3        23.15   27.2450  426.0  713.50       0.004779          1   \n",
       "4        23.15   27.2000  426.0  708.25       0.004772          1   \n",
       "5        23.10   27.2000  426.0  704.50       0.004757          1   \n",
       "\n",
       "                        daytime  weekend  \n",
       "1 1970-01-01 00:00:00.000000017        0  \n",
       "2 1970-01-01 00:00:00.000000017        0  \n",
       "3 1970-01-01 00:00:00.000000017        0  \n",
       "4 1970-01-01 00:00:00.000000017        0  \n",
       "5 1970-01-01 00:00:00.000000017        0  "
      ]
     },
     "execution_count": 54,
     "metadata": {},
     "output_type": "execute_result"
    }
   ],
   "source": [
    "df['daytime'] = [pd.to_datetime(d.hour) for d in pd.to_datetime(df['date'])]\n",
    "df['weekend'] = [1 if d.weekday() >= 5 else 0 for d in pd.to_datetime(df['date'])]\n",
    "columns2remove = ['date']\n",
    "df.drop(columns2remove, inplace=True, axis=1)\n",
    "df.head()"
   ]
  },
  {
   "cell_type": "code",
   "execution_count": 5,
   "metadata": {
    "ExecuteTime": {
     "end_time": "2021-05-24T15:25:19.613567Z",
     "start_time": "2021-05-24T15:25:19.599065Z"
    }
   },
   "outputs": [],
   "source": [
    "df0 = df.copy()"
   ]
  },
  {
   "cell_type": "code",
   "execution_count": 6,
   "metadata": {
    "ExecuteTime": {
     "end_time": "2021-05-24T15:25:20.047632Z",
     "start_time": "2021-05-24T15:25:19.747079Z"
    }
   },
   "outputs": [
    {
     "data": {
      "text/html": [
       "<div>\n",
       "<style scoped>\n",
       "    .dataframe tbody tr th:only-of-type {\n",
       "        vertical-align: middle;\n",
       "    }\n",
       "\n",
       "    .dataframe tbody tr th {\n",
       "        vertical-align: top;\n",
       "    }\n",
       "\n",
       "    .dataframe thead th {\n",
       "        text-align: right;\n",
       "    }\n",
       "</style>\n",
       "<table border=\"1\" class=\"dataframe\">\n",
       "  <thead>\n",
       "    <tr style=\"text-align: right;\">\n",
       "      <th></th>\n",
       "      <th>Temperature</th>\n",
       "      <th>Humidity</th>\n",
       "      <th>Light</th>\n",
       "      <th>CO2</th>\n",
       "      <th>HumidityRatio</th>\n",
       "      <th>date=2015-02-04 17:51:00</th>\n",
       "      <th>date=2015-02-04 17:51:59</th>\n",
       "      <th>date=2015-02-04 17:53:00</th>\n",
       "      <th>date=2015-02-04 17:54:00</th>\n",
       "      <th>date=2015-02-04 17:55:00</th>\n",
       "      <th>...</th>\n",
       "      <th>date=2015-02-10 09:24:59</th>\n",
       "      <th>date=2015-02-10 09:26:00</th>\n",
       "      <th>date=2015-02-10 09:27:00</th>\n",
       "      <th>date=2015-02-10 09:28:00</th>\n",
       "      <th>date=2015-02-10 09:29:00</th>\n",
       "      <th>date=2015-02-10 09:29:59</th>\n",
       "      <th>date=2015-02-10 09:30:59</th>\n",
       "      <th>date=2015-02-10 09:32:00</th>\n",
       "      <th>date=2015-02-10 09:33:00</th>\n",
       "      <th>Occupancy</th>\n",
       "    </tr>\n",
       "  </thead>\n",
       "  <tbody>\n",
       "    <tr>\n",
       "      <th>1</th>\n",
       "      <td>23.18</td>\n",
       "      <td>27.2720</td>\n",
       "      <td>426.0</td>\n",
       "      <td>721.25</td>\n",
       "      <td>0.004793</td>\n",
       "      <td>1</td>\n",
       "      <td>0</td>\n",
       "      <td>0</td>\n",
       "      <td>0</td>\n",
       "      <td>0</td>\n",
       "      <td>...</td>\n",
       "      <td>0</td>\n",
       "      <td>0</td>\n",
       "      <td>0</td>\n",
       "      <td>0</td>\n",
       "      <td>0</td>\n",
       "      <td>0</td>\n",
       "      <td>0</td>\n",
       "      <td>0</td>\n",
       "      <td>0</td>\n",
       "      <td>1</td>\n",
       "    </tr>\n",
       "    <tr>\n",
       "      <th>2</th>\n",
       "      <td>23.15</td>\n",
       "      <td>27.2675</td>\n",
       "      <td>429.5</td>\n",
       "      <td>714.00</td>\n",
       "      <td>0.004783</td>\n",
       "      <td>0</td>\n",
       "      <td>1</td>\n",
       "      <td>0</td>\n",
       "      <td>0</td>\n",
       "      <td>0</td>\n",
       "      <td>...</td>\n",
       "      <td>0</td>\n",
       "      <td>0</td>\n",
       "      <td>0</td>\n",
       "      <td>0</td>\n",
       "      <td>0</td>\n",
       "      <td>0</td>\n",
       "      <td>0</td>\n",
       "      <td>0</td>\n",
       "      <td>0</td>\n",
       "      <td>1</td>\n",
       "    </tr>\n",
       "    <tr>\n",
       "      <th>3</th>\n",
       "      <td>23.15</td>\n",
       "      <td>27.2450</td>\n",
       "      <td>426.0</td>\n",
       "      <td>713.50</td>\n",
       "      <td>0.004779</td>\n",
       "      <td>0</td>\n",
       "      <td>0</td>\n",
       "      <td>1</td>\n",
       "      <td>0</td>\n",
       "      <td>0</td>\n",
       "      <td>...</td>\n",
       "      <td>0</td>\n",
       "      <td>0</td>\n",
       "      <td>0</td>\n",
       "      <td>0</td>\n",
       "      <td>0</td>\n",
       "      <td>0</td>\n",
       "      <td>0</td>\n",
       "      <td>0</td>\n",
       "      <td>0</td>\n",
       "      <td>1</td>\n",
       "    </tr>\n",
       "    <tr>\n",
       "      <th>4</th>\n",
       "      <td>23.15</td>\n",
       "      <td>27.2000</td>\n",
       "      <td>426.0</td>\n",
       "      <td>708.25</td>\n",
       "      <td>0.004772</td>\n",
       "      <td>0</td>\n",
       "      <td>0</td>\n",
       "      <td>0</td>\n",
       "      <td>1</td>\n",
       "      <td>0</td>\n",
       "      <td>...</td>\n",
       "      <td>0</td>\n",
       "      <td>0</td>\n",
       "      <td>0</td>\n",
       "      <td>0</td>\n",
       "      <td>0</td>\n",
       "      <td>0</td>\n",
       "      <td>0</td>\n",
       "      <td>0</td>\n",
       "      <td>0</td>\n",
       "      <td>1</td>\n",
       "    </tr>\n",
       "    <tr>\n",
       "      <th>5</th>\n",
       "      <td>23.10</td>\n",
       "      <td>27.2000</td>\n",
       "      <td>426.0</td>\n",
       "      <td>704.50</td>\n",
       "      <td>0.004757</td>\n",
       "      <td>0</td>\n",
       "      <td>0</td>\n",
       "      <td>0</td>\n",
       "      <td>0</td>\n",
       "      <td>1</td>\n",
       "      <td>...</td>\n",
       "      <td>0</td>\n",
       "      <td>0</td>\n",
       "      <td>0</td>\n",
       "      <td>0</td>\n",
       "      <td>0</td>\n",
       "      <td>0</td>\n",
       "      <td>0</td>\n",
       "      <td>0</td>\n",
       "      <td>0</td>\n",
       "      <td>1</td>\n",
       "    </tr>\n",
       "  </tbody>\n",
       "</table>\n",
       "<p>5 rows × 8149 columns</p>\n",
       "</div>"
      ],
      "text/plain": [
       "   Temperature  Humidity  Light     CO2  HumidityRatio  \\\n",
       "1        23.18   27.2720  426.0  721.25       0.004793   \n",
       "2        23.15   27.2675  429.5  714.00       0.004783   \n",
       "3        23.15   27.2450  426.0  713.50       0.004779   \n",
       "4        23.15   27.2000  426.0  708.25       0.004772   \n",
       "5        23.10   27.2000  426.0  704.50       0.004757   \n",
       "\n",
       "   date=2015-02-04 17:51:00  date=2015-02-04 17:51:59  \\\n",
       "1                         1                         0   \n",
       "2                         0                         1   \n",
       "3                         0                         0   \n",
       "4                         0                         0   \n",
       "5                         0                         0   \n",
       "\n",
       "   date=2015-02-04 17:53:00  date=2015-02-04 17:54:00  \\\n",
       "1                         0                         0   \n",
       "2                         0                         0   \n",
       "3                         1                         0   \n",
       "4                         0                         1   \n",
       "5                         0                         0   \n",
       "\n",
       "   date=2015-02-04 17:55:00  ...  date=2015-02-10 09:24:59  \\\n",
       "1                         0  ...                         0   \n",
       "2                         0  ...                         0   \n",
       "3                         0  ...                         0   \n",
       "4                         0  ...                         0   \n",
       "5                         1  ...                         0   \n",
       "\n",
       "   date=2015-02-10 09:26:00  date=2015-02-10 09:27:00  \\\n",
       "1                         0                         0   \n",
       "2                         0                         0   \n",
       "3                         0                         0   \n",
       "4                         0                         0   \n",
       "5                         0                         0   \n",
       "\n",
       "   date=2015-02-10 09:28:00  date=2015-02-10 09:29:00  \\\n",
       "1                         0                         0   \n",
       "2                         0                         0   \n",
       "3                         0                         0   \n",
       "4                         0                         0   \n",
       "5                         0                         0   \n",
       "\n",
       "   date=2015-02-10 09:29:59  date=2015-02-10 09:30:59  \\\n",
       "1                         0                         0   \n",
       "2                         0                         0   \n",
       "3                         0                         0   \n",
       "4                         0                         0   \n",
       "5                         0                         0   \n",
       "\n",
       "   date=2015-02-10 09:32:00  date=2015-02-10 09:33:00  Occupancy  \n",
       "1                         0                         0          1  \n",
       "2                         0                         0          1  \n",
       "3                         0                         0          1  \n",
       "4                         0                         0          1  \n",
       "5                         0                         0          1  \n",
       "\n",
       "[5 rows x 8149 columns]"
      ]
     },
     "execution_count": 6,
     "metadata": {},
     "output_type": "execute_result"
    }
   ],
   "source": [
    "dfX = pd.get_dummies(df[[c for c in df.columns if c != class_name]], prefix_sep='=')\n",
    "dfY = df[class_name]\n",
    "df = pd.concat([dfX, dfY], axis=1)\n",
    "df.head()"
   ]
  },
  {
   "cell_type": "code",
   "execution_count": 7,
   "metadata": {
    "ExecuteTime": {
     "end_time": "2021-05-24T15:25:20.574480Z",
     "start_time": "2021-05-24T15:25:20.560475Z"
    }
   },
   "outputs": [],
   "source": [
    "numeric_columns = ['Temperature', 'Humidity', 'Light', 'CO2', 'HumidityRatio']"
   ]
  },
  {
   "cell_type": "code",
   "execution_count": 8,
   "metadata": {
    "ExecuteTime": {
     "end_time": "2021-05-24T15:25:22.608331Z",
     "start_time": "2021-05-24T15:25:22.597329Z"
    }
   },
   "outputs": [],
   "source": [
    "X = df[numeric_columns].values"
   ]
  },
  {
   "cell_type": "code",
   "execution_count": 9,
   "metadata": {
    "ExecuteTime": {
     "end_time": "2021-05-24T15:25:22.902897Z",
     "start_time": "2021-05-24T15:25:22.894396Z"
    }
   },
   "outputs": [],
   "source": [
    "y = df[class_name]"
   ]
  },
  {
   "cell_type": "code",
   "execution_count": 10,
   "metadata": {
    "ExecuteTime": {
     "end_time": "2021-05-24T15:25:23.135222Z",
     "start_time": "2021-05-24T15:25:23.121220Z"
    }
   },
   "outputs": [
    {
     "data": {
      "text/plain": [
       "(8143, 5)"
      ]
     },
     "execution_count": 10,
     "metadata": {},
     "output_type": "execute_result"
    }
   ],
   "source": [
    "X.shape"
   ]
  },
  {
   "cell_type": "code",
   "execution_count": 11,
   "metadata": {
    "ExecuteTime": {
     "end_time": "2021-05-24T15:25:24.127397Z",
     "start_time": "2021-05-24T15:25:23.338258Z"
    }
   },
   "outputs": [],
   "source": [
    "from sklearn.metrics import accuracy_score, f1_score\n",
    "from sklearn.model_selection import train_test_split"
   ]
  },
  {
   "cell_type": "code",
   "execution_count": 12,
   "metadata": {
    "ExecuteTime": {
     "end_time": "2021-05-24T15:25:24.344436Z",
     "start_time": "2021-05-24T15:25:24.330432Z"
    }
   },
   "outputs": [],
   "source": [
    "X_train, X_test, y_train, y_test = train_test_split(X, y, test_size=0.3, random_state=100, stratify=y)"
   ]
  },
  {
   "cell_type": "code",
   "execution_count": 13,
   "metadata": {
    "ExecuteTime": {
     "end_time": "2021-05-24T15:25:24.576976Z",
     "start_time": "2021-05-24T15:25:24.562974Z"
    }
   },
   "outputs": [],
   "source": [
    "X1 = df0[[c for c in df0.columns if c not in numeric_columns]].values"
   ]
  },
  {
   "cell_type": "code",
   "execution_count": 14,
   "metadata": {
    "ExecuteTime": {
     "end_time": "2021-05-24T15:25:24.825020Z",
     "start_time": "2021-05-24T15:25:24.810517Z"
    }
   },
   "outputs": [
    {
     "data": {
      "text/plain": [
       "array([['2015-02-04 17:51:00', 1],\n",
       "       ['2015-02-04 17:51:59', 1],\n",
       "       ['2015-02-04 17:53:00', 1],\n",
       "       ...,\n",
       "       ['2015-02-10 09:30:59', 1],\n",
       "       ['2015-02-10 09:32:00', 1],\n",
       "       ['2015-02-10 09:33:00', 1]], dtype=object)"
      ]
     },
     "execution_count": 14,
     "metadata": {},
     "output_type": "execute_result"
    }
   ],
   "source": [
    "X1"
   ]
  },
  {
   "cell_type": "code",
   "execution_count": 15,
   "metadata": {
    "ExecuteTime": {
     "end_time": "2021-05-24T15:25:25.104002Z",
     "start_time": "2021-05-24T15:25:25.042989Z"
    }
   },
   "outputs": [],
   "source": [
    "X2 = df[[c for c in df.columns if c not in numeric_columns and c != class_name]].values"
   ]
  },
  {
   "cell_type": "code",
   "execution_count": 16,
   "metadata": {
    "ExecuteTime": {
     "end_time": "2021-05-24T15:25:25.305538Z",
     "start_time": "2021-05-24T15:25:25.291535Z"
    }
   },
   "outputs": [
    {
     "data": {
      "text/plain": [
       "array([[1, 0, 0, ..., 0, 0, 0],\n",
       "       [0, 1, 0, ..., 0, 0, 0],\n",
       "       [0, 0, 1, ..., 0, 0, 0],\n",
       "       ...,\n",
       "       [0, 0, 0, ..., 1, 0, 0],\n",
       "       [0, 0, 0, ..., 0, 1, 0],\n",
       "       [0, 0, 0, ..., 0, 0, 1]], dtype=uint8)"
      ]
     },
     "execution_count": 16,
     "metadata": {},
     "output_type": "execute_result"
    }
   ],
   "source": [
    "X2"
   ]
  },
  {
   "cell_type": "code",
   "execution_count": null,
   "metadata": {},
   "outputs": [],
   "source": []
  },
  {
   "cell_type": "code",
   "execution_count": null,
   "metadata": {},
   "outputs": [],
   "source": []
  },
  {
   "cell_type": "code",
   "execution_count": null,
   "metadata": {},
   "outputs": [],
   "source": []
  },
  {
   "cell_type": "code",
   "execution_count": null,
   "metadata": {},
   "outputs": [],
   "source": []
  },
  {
   "cell_type": "code",
   "execution_count": null,
   "metadata": {},
   "outputs": [],
   "source": []
  },
  {
   "cell_type": "code",
   "execution_count": null,
   "metadata": {},
   "outputs": [],
   "source": []
  },
  {
   "cell_type": "code",
   "execution_count": null,
   "metadata": {},
   "outputs": [],
   "source": []
  },
  {
   "cell_type": "code",
   "execution_count": null,
   "metadata": {},
   "outputs": [],
   "source": []
  },
  {
   "cell_type": "code",
   "execution_count": null,
   "metadata": {},
   "outputs": [],
   "source": []
  },
  {
   "cell_type": "markdown",
   "metadata": {},
   "source": [
    "# Gaussian Mixture"
   ]
  },
  {
   "cell_type": "code",
   "execution_count": 17,
   "metadata": {
    "ExecuteTime": {
     "end_time": "2021-05-24T15:25:26.064960Z",
     "start_time": "2021-05-24T15:25:25.930412Z"
    }
   },
   "outputs": [],
   "source": [
    "from sklearn.mixture import GaussianMixture"
   ]
  },
  {
   "cell_type": "markdown",
   "metadata": {},
   "source": [
    "covariance_type\n",
    "\n",
    "- 'full': each component has its own general covariance matrix\n",
    "- 'tied': all components share the same general covariance matrix\n",
    "- 'diag': each component has its own diagonal covariance matrix\n",
    "- 'spherical': each component has its own single variance"
   ]
  },
  {
   "cell_type": "code",
   "execution_count": 18,
   "metadata": {
    "ExecuteTime": {
     "end_time": "2021-05-24T15:25:26.389721Z",
     "start_time": "2021-05-24T15:25:26.291704Z"
    }
   },
   "outputs": [
    {
     "name": "stdout",
     "output_type": "stream",
     "text": [
      "Accuracy 0.787556283258289\n",
      "F1-score [0.88115411 0.        ]\n"
     ]
    }
   ],
   "source": [
    "gm = GaussianMixture(n_components=1, random_state=0, covariance_type='full')\n",
    "gm.fit(X_train)\n",
    "\n",
    "y_pred = gm.predict(X_test)\n",
    "\n",
    "print('Accuracy %s' % accuracy_score(y_test, y_pred))\n",
    "print('F1-score %s' % f1_score(y_test, y_pred, average=None))"
   ]
  },
  {
   "cell_type": "code",
   "execution_count": 19,
   "metadata": {
    "ExecuteTime": {
     "end_time": "2021-05-24T15:25:26.715278Z",
     "start_time": "2021-05-24T15:25:26.623764Z"
    }
   },
   "outputs": [
    {
     "name": "stdout",
     "output_type": "stream",
     "text": [
      "Accuracy 0.8100695865738846\n",
      "F1-score [0.86288416 0.69107856]\n"
     ]
    }
   ],
   "source": [
    "gm = GaussianMixture(n_components=2, random_state=0, covariance_type='full')\n",
    "gm.fit(X_train)\n",
    "\n",
    "y_pred = gm.predict(X_test)\n",
    "\n",
    "print('Accuracy %s' % accuracy_score(y_test, y_pred))\n",
    "print('F1-score %s' % f1_score(y_test, y_pred, average=None))"
   ]
  },
  {
   "cell_type": "code",
   "execution_count": 20,
   "metadata": {
    "ExecuteTime": {
     "end_time": "2021-05-24T15:25:26.994327Z",
     "start_time": "2021-05-24T15:25:26.949320Z"
    }
   },
   "outputs": [
    {
     "name": "stdout",
     "output_type": "stream",
     "text": [
      "Accuracy 0.8096602537863283\n",
      "F1-score [0.86254803 0.69061876]\n"
     ]
    }
   ],
   "source": [
    "gm = GaussianMixture(n_components=2, random_state=0, covariance_type='spherical')\n",
    "gm.fit(X_train)\n",
    "\n",
    "y_pred = gm.predict(X_test)\n",
    "\n",
    "print('Accuracy %s' % accuracy_score(y_test, y_pred))\n",
    "print('F1-score %s' % f1_score(y_test, y_pred, average=None))"
   ]
  },
  {
   "cell_type": "code",
   "execution_count": 21,
   "metadata": {
    "ExecuteTime": {
     "end_time": "2021-05-24T15:25:27.242244Z",
     "start_time": "2021-05-24T15:25:27.228232Z"
    }
   },
   "outputs": [
    {
     "data": {
      "text/plain": [
       "array([[2.00166235e+01, 2.52223062e+01, 2.08718770e+00, 4.46425013e+02,\n",
       "        3.63869985e-03],\n",
       "       [2.14923022e+01, 2.64064836e+01, 2.92345961e+02, 8.39651480e+02,\n",
       "        4.17810569e-03]])"
      ]
     },
     "execution_count": 21,
     "metadata": {},
     "output_type": "execute_result"
    }
   ],
   "source": [
    "gm.means_"
   ]
  },
  {
   "cell_type": "code",
   "execution_count": 22,
   "metadata": {
    "ExecuteTime": {
     "end_time": "2021-05-24T15:25:27.474179Z",
     "start_time": "2021-05-24T15:25:27.459677Z"
    }
   },
   "outputs": [
    {
     "data": {
      "text/plain": [
       "array([   55.7975903 , 38513.16303354])"
      ]
     },
     "execution_count": 22,
     "metadata": {},
     "output_type": "execute_result"
    }
   ],
   "source": [
    "gm.covariances_"
   ]
  },
  {
   "cell_type": "code",
   "execution_count": 23,
   "metadata": {
    "ExecuteTime": {
     "end_time": "2021-05-24T15:25:28.277670Z",
     "start_time": "2021-05-24T15:25:28.263167Z"
    }
   },
   "outputs": [
    {
     "data": {
      "text/plain": [
       "array([1.79219209e-02, 2.59651486e-05])"
      ]
     },
     "execution_count": 23,
     "metadata": {},
     "output_type": "execute_result"
    }
   ],
   "source": [
    "gm.precisions_"
   ]
  },
  {
   "cell_type": "markdown",
   "metadata": {},
   "source": [
    "# X-Means"
   ]
  },
  {
   "cell_type": "markdown",
   "metadata": {},
   "source": [
    "https://github.com/annoviko/pyclustering/"
   ]
  },
  {
   "cell_type": "code",
   "execution_count": 24,
   "metadata": {
    "ExecuteTime": {
     "end_time": "2021-05-24T15:25:42.605745Z",
     "start_time": "2021-05-24T15:25:28.803867Z"
    }
   },
   "outputs": [
    {
     "name": "stdout",
     "output_type": "stream",
     "text": [
      "Collecting pyclustering\n",
      "  Downloading pyclustering-0.10.1.2.tar.gz (2.6 MB)\n",
      "Requirement already satisfied: scipy>=1.1.0 in c:\\users\\cri98\\anaconda3\\lib\\site-packages (from pyclustering) (1.5.2)\n",
      "Requirement already satisfied: matplotlib>=3.0.0 in c:\\users\\cri98\\anaconda3\\lib\\site-packages (from pyclustering) (3.3.2)\n",
      "Requirement already satisfied: numpy>=1.15.2 in c:\\users\\cri98\\anaconda3\\lib\\site-packages (from pyclustering) (1.19.2)\n",
      "Requirement already satisfied: Pillow>=5.2.0 in c:\\users\\cri98\\anaconda3\\lib\\site-packages (from pyclustering) (8.0.1)\n",
      "Requirement already satisfied: kiwisolver>=1.0.1 in c:\\users\\cri98\\anaconda3\\lib\\site-packages (from matplotlib>=3.0.0->pyclustering) (1.3.0)\n",
      "Requirement already satisfied: python-dateutil>=2.1 in c:\\users\\cri98\\anaconda3\\lib\\site-packages (from matplotlib>=3.0.0->pyclustering) (2.8.1)\n",
      "Requirement already satisfied: pyparsing!=2.0.4,!=2.1.2,!=2.1.6,>=2.0.3 in c:\\users\\cri98\\anaconda3\\lib\\site-packages (from matplotlib>=3.0.0->pyclustering) (2.4.7)\n",
      "Requirement already satisfied: cycler>=0.10 in c:\\users\\cri98\\anaconda3\\lib\\site-packages (from matplotlib>=3.0.0->pyclustering) (0.10.0)\n",
      "Requirement already satisfied: certifi>=2020.06.20 in c:\\users\\cri98\\anaconda3\\lib\\site-packages (from matplotlib>=3.0.0->pyclustering) (2020.6.20)\n",
      "Requirement already satisfied: six>=1.5 in c:\\users\\cri98\\anaconda3\\lib\\site-packages (from python-dateutil>=2.1->matplotlib>=3.0.0->pyclustering) (1.15.0)\n",
      "Building wheels for collected packages: pyclustering\n",
      "  Building wheel for pyclustering (setup.py): started\n",
      "  Building wheel for pyclustering (setup.py): finished with status 'done'\n",
      "  Created wheel for pyclustering: filename=pyclustering-0.10.1.2-py3-none-any.whl size=2395109 sha256=495e6b35d0806fc9b2455718a418d096fb91d807a8a6213878fa5f42316aad2f\n",
      "  Stored in directory: c:\\users\\cri98\\appdata\\local\\pip\\cache\\wheels\\dc\\25\\8b\\072b221a5cff4f04e7999d39ca1b6cb5dad702cc3e1da951d4\n",
      "Successfully built pyclustering\n",
      "Installing collected packages: pyclustering\n",
      "Successfully installed pyclustering-0.10.1.2\n"
     ]
    }
   ],
   "source": [
    "!pip install pyclustering"
   ]
  },
  {
   "cell_type": "code",
   "execution_count": 25,
   "metadata": {
    "ExecuteTime": {
     "end_time": "2021-05-24T15:25:42.853788Z",
     "start_time": "2021-05-24T15:25:42.824786Z"
    }
   },
   "outputs": [],
   "source": [
    "from pyclustering.cluster import xmeans"
   ]
  },
  {
   "cell_type": "code",
   "execution_count": 26,
   "metadata": {
    "ExecuteTime": {
     "end_time": "2021-05-24T15:25:43.256839Z",
     "start_time": "2021-05-24T15:25:43.072828Z"
    }
   },
   "outputs": [
    {
     "data": {
      "text/plain": [
       "<pyclustering.cluster.xmeans.xmeans at 0x2a7d83d6880>"
      ]
     },
     "execution_count": 26,
     "metadata": {},
     "output_type": "execute_result"
    }
   ],
   "source": [
    "xm = xmeans.xmeans(X)\n",
    "xm.process()"
   ]
  },
  {
   "cell_type": "code",
   "execution_count": 27,
   "metadata": {
    "ExecuteTime": {
     "end_time": "2021-05-24T15:25:43.566841Z",
     "start_time": "2021-05-24T15:25:43.552891Z"
    }
   },
   "outputs": [],
   "source": [
    "clusters = xm.get_clusters()"
   ]
  },
  {
   "cell_type": "code",
   "execution_count": 28,
   "metadata": {
    "ExecuteTime": {
     "end_time": "2021-05-24T15:25:43.799381Z",
     "start_time": "2021-05-24T15:25:43.785379Z"
    }
   },
   "outputs": [],
   "source": [
    "centers = xm.get_centers()"
   ]
  },
  {
   "cell_type": "code",
   "execution_count": 29,
   "metadata": {
    "ExecuteTime": {
     "end_time": "2021-05-24T15:25:44.031922Z",
     "start_time": "2021-05-24T15:25:44.017921Z"
    }
   },
   "outputs": [],
   "source": [
    "i = df.columns.values.tolist().index('Temperature')\n",
    "j = df.columns.values.tolist().index('Humidity')"
   ]
  },
  {
   "cell_type": "code",
   "execution_count": 30,
   "metadata": {
    "ExecuteTime": {
     "end_time": "2021-05-24T15:25:44.605523Z",
     "start_time": "2021-05-24T15:25:44.250461Z"
    }
   },
   "outputs": [
    {
     "data": {
      "image/png": "[encoded data removed]",
      "text/plain": [
       "<Figure size 432x288 with 1 Axes>"
      ]
     },
     "metadata": {
      "needs_background": "light"
     },
     "output_type": "display_data"
    }
   ],
   "source": [
    "for indexes in clusters:\n",
    "    plt.scatter(X[indexes,i], X[indexes,j], alpha=0.4)\n",
    "for c in centers:\n",
    "    plt.scatter(c[i], c[j], s=100, edgecolors='k')"
   ]
  },
  {
   "cell_type": "markdown",
   "metadata": {},
   "source": [
    "# OPTICS"
   ]
  },
  {
   "cell_type": "code",
   "execution_count": 31,
   "metadata": {
    "ExecuteTime": {
     "end_time": "2021-05-24T15:25:44.838064Z",
     "start_time": "2021-05-24T15:25:44.824062Z"
    }
   },
   "outputs": [],
   "source": [
    "from sklearn.cluster import OPTICS"
   ]
  },
  {
   "cell_type": "code",
   "execution_count": 32,
   "metadata": {
    "ExecuteTime": {
     "end_time": "2021-05-24T15:25:54.821821Z",
     "start_time": "2021-05-24T15:25:45.056603Z"
    }
   },
   "outputs": [
    {
     "name": "stderr",
     "output_type": "stream",
     "text": [
      "C:\\Users\\cri98\\anaconda3\\lib\\site-packages\\sklearn\\cluster\\_optics.py:804: RuntimeWarning: divide by zero encountered in true_divide\n",
      "  ratio = reachability_plot[:-1] / reachability_plot[1:]\n"
     ]
    },
    {
     "data": {
      "text/plain": [
       "OPTICS()"
      ]
     },
     "execution_count": 32,
     "metadata": {},
     "output_type": "execute_result"
    }
   ],
   "source": [
    "optics = OPTICS(min_samples=5, max_eps=np.inf)\n",
    "optics.fit(X)"
   ]
  },
  {
   "cell_type": "code",
   "execution_count": 34,
   "metadata": {
    "ExecuteTime": {
     "end_time": "2021-05-24T15:26:11.224302Z",
     "start_time": "2021-05-24T15:26:11.206800Z"
    }
   },
   "outputs": [
    {
     "data": {
      "text/plain": [
       "array([-1, -1, -1, -1, -1, -1, -1, -1,  1,  1])"
      ]
     },
     "execution_count": 34,
     "metadata": {},
     "output_type": "execute_result"
    }
   ],
   "source": [
    "optics.labels_[:10]"
   ]
  },
  {
   "cell_type": "code",
   "execution_count": 36,
   "metadata": {
    "ExecuteTime": {
     "end_time": "2021-05-24T15:26:25.802285Z",
     "start_time": "2021-05-24T15:26:25.788783Z"
    }
   },
   "outputs": [
    {
     "data": {
      "text/plain": [
       "array([ -1,   0,   1,   2,   3,   4,   5,   6,   7,   8,   9,  10,  11,\n",
       "        12,  13,  14,  15,  16,  17,  18,  19,  20,  21,  22,  23,  24,\n",
       "        25,  26,  27,  28,  29,  30,  31,  32,  33,  34,  35,  36,  37,\n",
       "        38,  39,  40,  41,  42,  43,  44,  45,  46,  47,  48,  49,  50,\n",
       "        51,  52,  53,  54,  55,  56,  57,  58,  59,  60,  61,  62,  63,\n",
       "        64,  65,  66,  67,  68,  69,  70,  71,  72,  73,  74,  75,  76,\n",
       "        77,  78,  79,  80,  81,  82,  83,  84,  85,  86,  87,  88,  89,\n",
       "        90,  91,  92,  93,  94,  95,  96,  97,  98,  99, 100, 101, 102,\n",
       "       103, 104, 105, 106, 107, 108, 109, 110, 111, 112, 113, 114, 115,\n",
       "       116, 117, 118, 119, 120, 121, 122, 123, 124, 125, 126, 127, 128,\n",
       "       129, 130, 131, 132, 133, 134, 135, 136, 137, 138, 139, 140, 141,\n",
       "       142, 143, 144, 145, 146, 147, 148, 149, 150, 151, 152, 153, 154,\n",
       "       155, 156, 157, 158, 159, 160, 161, 162, 163, 164, 165, 166, 167,\n",
       "       168, 169, 170, 171, 172, 173, 174, 175, 176, 177, 178, 179, 180,\n",
       "       181, 182, 183, 184, 185, 186, 187, 188, 189, 190, 191, 192, 193,\n",
       "       194, 195, 196, 197, 198, 199, 200, 201, 202, 203, 204, 205, 206,\n",
       "       207, 208, 209, 210, 211, 212, 213, 214, 215, 216, 217, 218, 219,\n",
       "       220, 221, 222, 223, 224, 225, 226, 227, 228, 229, 230, 231, 232,\n",
       "       233, 234, 235, 236, 237, 238, 239, 240, 241, 242, 243, 244, 245,\n",
       "       246, 247, 248, 249, 250, 251, 252, 253, 254, 255, 256, 257, 258,\n",
       "       259, 260, 261, 262, 263, 264, 265, 266, 267, 268, 269, 270, 271,\n",
       "       272, 273, 274, 275, 276, 277, 278, 279, 280, 281, 282, 283, 284,\n",
       "       285, 286, 287, 288, 289, 290, 291, 292, 293, 294, 295, 296, 297,\n",
       "       298, 299, 300, 301, 302, 303, 304, 305, 306, 307, 308, 309, 310,\n",
       "       311, 312, 313, 314, 315, 316, 317, 318, 319, 320, 321, 322, 323,\n",
       "       324, 325, 326, 327, 328, 329, 330, 331, 332, 333, 334, 335, 336,\n",
       "       337, 338, 339, 340, 341, 342, 343, 344, 345, 346, 347, 348, 349,\n",
       "       350, 351, 352, 353, 354, 355, 356, 357, 358, 359, 360, 361, 362,\n",
       "       363, 364, 365, 366, 367, 368, 369, 370, 371, 372, 373, 374, 375,\n",
       "       376, 377, 378, 379, 380, 381, 382, 383, 384, 385, 386, 387, 388,\n",
       "       389, 390, 391, 392, 393, 394, 395, 396, 397, 398, 399, 400, 401,\n",
       "       402, 403, 404, 405, 406, 407, 408, 409, 410, 411, 412, 413, 414,\n",
       "       415, 416, 417, 418, 419, 420, 421, 422, 423, 424, 425, 426, 427,\n",
       "       428, 429, 430, 431, 432, 433, 434, 435, 436, 437, 438, 439, 440,\n",
       "       441, 442, 443, 444, 445, 446, 447, 448, 449, 450, 451, 452, 453,\n",
       "       454, 455, 456, 457, 458, 459, 460, 461, 462, 463, 464, 465, 466,\n",
       "       467, 468, 469, 470, 471, 472, 473, 474, 475, 476, 477, 478, 479,\n",
       "       480, 481, 482, 483, 484, 485, 486, 487, 488, 489, 490, 491, 492,\n",
       "       493, 494, 495, 496, 497, 498, 499, 500, 501, 502, 503, 504, 505,\n",
       "       506, 507, 508, 509, 510, 511, 512, 513, 514, 515, 516, 517, 518,\n",
       "       519, 520, 521, 522, 523, 524, 525, 526, 527, 528, 529, 530, 531,\n",
       "       532, 533, 534, 535, 536, 537, 538, 539, 540, 541, 542, 543, 544,\n",
       "       545, 546, 547, 548, 549, 550, 551, 552, 553, 554, 555, 556, 557,\n",
       "       558, 559, 560, 561, 562, 563, 564, 565, 566, 567, 568, 569, 570,\n",
       "       571, 572, 573, 574, 575, 576, 577, 578, 579, 580, 581, 582, 583,\n",
       "       584, 585, 586, 587, 588, 589, 590, 591, 592, 593, 594, 595, 596,\n",
       "       597, 598, 599, 600, 601, 602, 603, 604, 605, 606, 607, 608, 609,\n",
       "       610, 611, 612, 613, 614, 615, 616, 617, 618, 619, 620, 621, 622,\n",
       "       623, 624, 625, 626, 627, 628, 629, 630, 631, 632, 633])"
      ]
     },
     "execution_count": 36,
     "metadata": {},
     "output_type": "execute_result"
    }
   ],
   "source": [
    "np.unique(optics.labels_)"
   ]
  },
  {
   "cell_type": "code",
   "execution_count": 38,
   "metadata": {
    "ExecuteTime": {
     "end_time": "2021-05-24T15:26:30.412162Z",
     "start_time": "2021-05-24T15:26:30.204126Z"
    }
   },
   "outputs": [
    {
     "data": {
      "image/png": "[encoded data removed]",
      "text/plain": [
       "<Figure size 432x288 with 1 Axes>"
      ]
     },
     "metadata": {
      "needs_background": "light"
     },
     "output_type": "display_data"
    }
   ],
   "source": [
    "for cluster_id in np.unique(optics.labels_)[:20]:\n",
    "    indexes = np.where(optics.labels_==cluster_id)\n",
    "    plt.scatter(X[indexes,i], X[indexes,j], alpha=0.4)"
   ]
  },
  {
   "cell_type": "code",
   "execution_count": null,
   "metadata": {},
   "outputs": [],
   "source": []
  },
  {
   "cell_type": "markdown",
   "metadata": {},
   "source": [
    "# K-Mode"
   ]
  },
  {
   "cell_type": "markdown",
   "metadata": {},
   "source": [
    "https://github.com/nicodv/kmodes"
   ]
  },
  {
   "cell_type": "code",
   "execution_count": 39,
   "metadata": {
    "ExecuteTime": {
     "end_time": "2021-05-24T15:26:36.367478Z",
     "start_time": "2021-05-24T15:26:33.650750Z"
    }
   },
   "outputs": [
    {
     "name": "stdout",
     "output_type": "stream",
     "text": [
      "Collecting kmodes\n",
      "  Downloading kmodes-0.11.0-py2.py3-none-any.whl (18 kB)\n",
      "Requirement already satisfied: joblib>=0.11 in c:\\users\\cri98\\anaconda3\\lib\\site-packages (from kmodes) (0.17.0)\n",
      "Requirement already satisfied: numpy>=1.10.4 in c:\\users\\cri98\\anaconda3\\lib\\site-packages (from kmodes) (1.19.2)\n",
      "Requirement already satisfied: scikit-learn>=0.22.0 in c:\\users\\cri98\\anaconda3\\lib\\site-packages (from kmodes) (0.23.2)\n",
      "Requirement already satisfied: scipy>=0.13.3 in c:\\users\\cri98\\anaconda3\\lib\\site-packages (from kmodes) (1.5.2)\n",
      "Requirement already satisfied: threadpoolctl>=2.0.0 in c:\\users\\cri98\\anaconda3\\lib\\site-packages (from scikit-learn>=0.22.0->kmodes) (2.1.0)\n",
      "Installing collected packages: kmodes\n",
      "Successfully installed kmodes-0.11.0\n"
     ]
    }
   ],
   "source": [
    "!pip install kmodes"
   ]
  },
  {
   "cell_type": "code",
   "execution_count": 40,
   "metadata": {
    "ExecuteTime": {
     "end_time": "2021-05-24T15:26:36.600031Z",
     "start_time": "2021-05-24T15:26:36.586023Z"
    }
   },
   "outputs": [],
   "source": [
    "from kmodes.kmodes import KModes"
   ]
  },
  {
   "cell_type": "code",
   "execution_count": 41,
   "metadata": {
    "ExecuteTime": {
     "end_time": "2021-05-24T15:26:39.049480Z",
     "start_time": "2021-05-24T15:26:36.818587Z"
    }
   },
   "outputs": [
    {
     "name": "stdout",
     "output_type": "stream",
     "text": [
      "Init: initializing centroids\n",
      "Init: initializing clusters\n",
      "Starting iterations...\n",
      "Run 1, iteration: 1/100, moves: 0, cost: 9868.0\n",
      "Init: initializing centroids\n",
      "Init: initializing clusters\n",
      "Starting iterations...\n",
      "Run 2, iteration: 1/100, moves: 0, cost: 8139.0\n",
      "Init: initializing centroids\n",
      "Init: initializing clusters\n",
      "Starting iterations...\n",
      "Run 3, iteration: 1/100, moves: 0, cost: 8139.0\n",
      "Init: initializing centroids\n",
      "Init: initializing clusters\n",
      "Starting iterations...\n",
      "Run 4, iteration: 1/100, moves: 0, cost: 8139.0\n",
      "Init: initializing centroids\n",
      "Init: initializing clusters\n",
      "Starting iterations...\n",
      "Run 5, iteration: 1/100, moves: 0, cost: 9868.0\n",
      "Best run was number 2\n"
     ]
    }
   ],
   "source": [
    "km = KModes(n_clusters=4, init='Huang', n_init=5, verbose=1)\n",
    "\n",
    "clusters = km.fit_predict(X1)"
   ]
  },
  {
   "cell_type": "code",
   "execution_count": 42,
   "metadata": {
    "ExecuteTime": {
     "end_time": "2021-05-24T15:26:39.282021Z",
     "start_time": "2021-05-24T15:26:39.268019Z"
    }
   },
   "outputs": [
    {
     "data": {
      "text/plain": [
       "array([['2015-02-04 18:07:00', '0'],\n",
       "       ['2015-02-07 20:10:59', '0'],\n",
       "       ['2015-02-04 17:51:00', '1'],\n",
       "       ['2015-02-07 20:12:00', '0']], dtype='<U19')"
      ]
     },
     "execution_count": 42,
     "metadata": {},
     "output_type": "execute_result"
    }
   ],
   "source": [
    "km.cluster_centroids_"
   ]
  },
  {
   "cell_type": "code",
   "execution_count": 43,
   "metadata": {
    "ExecuteTime": {
     "end_time": "2021-05-24T15:26:39.514571Z",
     "start_time": "2021-05-24T15:26:39.501067Z"
    }
   },
   "outputs": [
    {
     "data": {
      "text/plain": [
       "array([2, 2, 2, ..., 2, 2, 2], dtype=uint16)"
      ]
     },
     "execution_count": 43,
     "metadata": {},
     "output_type": "execute_result"
    }
   ],
   "source": [
    "km.labels_"
   ]
  },
  {
   "cell_type": "markdown",
   "metadata": {},
   "source": [
    "# Rock"
   ]
  },
  {
   "cell_type": "markdown",
   "metadata": {},
   "source": [
    "https://github.com/annoviko/pyclustering/"
   ]
  },
  {
   "cell_type": "code",
   "execution_count": 44,
   "metadata": {
    "ExecuteTime": {
     "end_time": "2021-05-24T15:26:39.747122Z",
     "start_time": "2021-05-24T15:26:39.733615Z"
    }
   },
   "outputs": [],
   "source": [
    "from pyclustering.cluster import rock"
   ]
  },
  {
   "cell_type": "code",
   "execution_count": 45,
   "metadata": {
    "ExecuteTime": {
     "end_time": "2021-05-24T15:28:36.094588Z",
     "start_time": "2021-05-24T15:26:39.965665Z"
    }
   },
   "outputs": [
    {
     "name": "stderr",
     "output_type": "stream",
     "text": [
      "C:\\Users\\cri98\\anaconda3\\lib\\site-packages\\pyclustering\\utils\\__init__.py:303: RuntimeWarning: overflow encountered in ubyte_scalars\n",
      "  distance += (a[i] - b[i])**2.0;\n"
     ]
    },
    {
     "data": {
      "text/plain": [
       "<pyclustering.cluster.rock.rock at 0x2a7d861b760>"
      ]
     },
     "execution_count": 45,
     "metadata": {},
     "output_type": "execute_result"
    }
   ],
   "source": [
    "rc = rock.rock(X2[:100], eps=0.7, number_clusters=4, threshold=0.5)\n",
    "rc.process()"
   ]
  },
  {
   "cell_type": "code",
   "execution_count": 46,
   "metadata": {
    "ExecuteTime": {
     "end_time": "2021-05-24T15:28:36.295842Z",
     "start_time": "2021-05-24T15:28:36.282121Z"
    }
   },
   "outputs": [],
   "source": [
    "clusters = rc.get_clusters()"
   ]
  },
  {
   "cell_type": "code",
   "execution_count": 47,
   "metadata": {
    "ExecuteTime": {
     "end_time": "2021-05-24T15:28:36.512972Z",
     "start_time": "2021-05-24T15:28:36.498970Z"
    }
   },
   "outputs": [
    {
     "data": {
      "text/plain": [
       "[[0],\n",
       " [1],\n",
       " [2],\n",
       " [3],\n",
       " [4],\n",
       " [5],\n",
       " [6],\n",
       " [7],\n",
       " [8],\n",
       " [9],\n",
       " [10],\n",
       " [11],\n",
       " [12],\n",
       " [13],\n",
       " [14],\n",
       " [15],\n",
       " [16],\n",
       " [17],\n",
       " [18],\n",
       " [19],\n",
       " [20],\n",
       " [21],\n",
       " [22],\n",
       " [23],\n",
       " [24],\n",
       " [25],\n",
       " [26],\n",
       " [27],\n",
       " [28],\n",
       " [29],\n",
       " [30],\n",
       " [31],\n",
       " [32],\n",
       " [33],\n",
       " [34],\n",
       " [35],\n",
       " [36],\n",
       " [37],\n",
       " [38],\n",
       " [39],\n",
       " [40],\n",
       " [41],\n",
       " [42],\n",
       " [43],\n",
       " [44],\n",
       " [45],\n",
       " [46],\n",
       " [47],\n",
       " [48],\n",
       " [49],\n",
       " [50],\n",
       " [51],\n",
       " [52],\n",
       " [53],\n",
       " [54],\n",
       " [55],\n",
       " [56],\n",
       " [57],\n",
       " [58],\n",
       " [59],\n",
       " [60],\n",
       " [61],\n",
       " [62],\n",
       " [63],\n",
       " [64],\n",
       " [65],\n",
       " [66],\n",
       " [67],\n",
       " [68],\n",
       " [69],\n",
       " [70],\n",
       " [71],\n",
       " [72],\n",
       " [73],\n",
       " [74],\n",
       " [75],\n",
       " [76],\n",
       " [77],\n",
       " [78],\n",
       " [79],\n",
       " [80],\n",
       " [81],\n",
       " [82],\n",
       " [83],\n",
       " [84],\n",
       " [85],\n",
       " [86],\n",
       " [87],\n",
       " [88],\n",
       " [89],\n",
       " [90],\n",
       " [91],\n",
       " [92],\n",
       " [93],\n",
       " [94],\n",
       " [95],\n",
       " [96],\n",
       " [97],\n",
       " [98],\n",
       " [99]]"
      ]
     },
     "execution_count": 47,
     "metadata": {},
     "output_type": "execute_result"
    }
   ],
   "source": [
    "clusters"
   ]
  },
  {
   "cell_type": "code",
   "execution_count": 48,
   "metadata": {
    "ExecuteTime": {
     "end_time": "2021-05-24T15:28:36.730018Z",
     "start_time": "2021-05-24T15:28:36.700505Z"
    }
   },
   "outputs": [
    {
     "name": "stdout",
     "output_type": "stream",
     "text": [
      "0 [[1 0 0 ... 0 0 0]]\n",
      "1 [[0 1 0 ... 0 0 0]]\n",
      "2 [[0 0 1 ... 0 0 0]]\n",
      "3 [[0 0 0 ... 0 0 0]]\n",
      "4 [[0 0 0 ... 0 0 0]]\n",
      "5 [[0 0 0 ... 0 0 0]]\n",
      "6 [[0 0 0 ... 0 0 0]]\n",
      "7 [[0 0 0 ... 0 0 0]]\n",
      "8 [[0 0 0 ... 0 0 0]]\n",
      "9 [[0 0 0 ... 0 0 0]]\n",
      "10 [[0 0 0 ... 0 0 0]]\n",
      "11 [[0 0 0 ... 0 0 0]]\n",
      "12 [[0 0 0 ... 0 0 0]]\n",
      "13 [[0 0 0 ... 0 0 0]]\n",
      "14 [[0 0 0 ... 0 0 0]]\n",
      "15 [[0 0 0 ... 0 0 0]]\n",
      "16 [[0 0 0 ... 0 0 0]]\n",
      "17 [[0 0 0 ... 0 0 0]]\n",
      "18 [[0 0 0 ... 0 0 0]]\n",
      "19 [[0 0 0 ... 0 0 0]]\n",
      "20 [[0 0 0 ... 0 0 0]]\n",
      "21 [[0 0 0 ... 0 0 0]]\n",
      "22 [[0 0 0 ... 0 0 0]]\n",
      "23 [[0 0 0 ... 0 0 0]]\n",
      "24 [[0 0 0 ... 0 0 0]]\n",
      "25 [[0 0 0 ... 0 0 0]]\n",
      "26 [[0 0 0 ... 0 0 0]]\n",
      "27 [[0 0 0 ... 0 0 0]]\n",
      "28 [[0 0 0 ... 0 0 0]]\n",
      "29 [[0 0 0 ... 0 0 0]]\n",
      "30 [[0 0 0 ... 0 0 0]]\n",
      "31 [[0 0 0 ... 0 0 0]]\n",
      "32 [[0 0 0 ... 0 0 0]]\n",
      "33 [[0 0 0 ... 0 0 0]]\n",
      "34 [[0 0 0 ... 0 0 0]]\n",
      "35 [[0 0 0 ... 0 0 0]]\n",
      "36 [[0 0 0 ... 0 0 0]]\n",
      "37 [[0 0 0 ... 0 0 0]]\n",
      "38 [[0 0 0 ... 0 0 0]]\n",
      "39 [[0 0 0 ... 0 0 0]]\n",
      "40 [[0 0 0 ... 0 0 0]]\n",
      "41 [[0 0 0 ... 0 0 0]]\n",
      "42 [[0 0 0 ... 0 0 0]]\n",
      "43 [[0 0 0 ... 0 0 0]]\n",
      "44 [[0 0 0 ... 0 0 0]]\n",
      "45 [[0 0 0 ... 0 0 0]]\n",
      "46 [[0 0 0 ... 0 0 0]]\n",
      "47 [[0 0 0 ... 0 0 0]]\n",
      "48 [[0 0 0 ... 0 0 0]]\n",
      "49 [[0 0 0 ... 0 0 0]]\n",
      "50 [[0 0 0 ... 0 0 0]]\n",
      "51 [[0 0 0 ... 0 0 0]]\n",
      "52 [[0 0 0 ... 0 0 0]]\n",
      "53 [[0 0 0 ... 0 0 0]]\n",
      "54 [[0 0 0 ... 0 0 0]]\n",
      "55 [[0 0 0 ... 0 0 0]]\n",
      "56 [[0 0 0 ... 0 0 0]]\n",
      "57 [[0 0 0 ... 0 0 0]]\n",
      "58 [[0 0 0 ... 0 0 0]]\n",
      "59 [[0 0 0 ... 0 0 0]]\n",
      "60 [[0 0 0 ... 0 0 0]]\n",
      "61 [[0 0 0 ... 0 0 0]]\n",
      "62 [[0 0 0 ... 0 0 0]]\n",
      "63 [[0 0 0 ... 0 0 0]]\n",
      "64 [[0 0 0 ... 0 0 0]]\n",
      "65 [[0 0 0 ... 0 0 0]]\n",
      "66 [[0 0 0 ... 0 0 0]]\n",
      "67 [[0 0 0 ... 0 0 0]]\n",
      "68 [[0 0 0 ... 0 0 0]]\n",
      "69 [[0 0 0 ... 0 0 0]]\n",
      "70 [[0 0 0 ... 0 0 0]]\n",
      "71 [[0 0 0 ... 0 0 0]]\n",
      "72 [[0 0 0 ... 0 0 0]]\n",
      "73 [[0 0 0 ... 0 0 0]]\n",
      "74 [[0 0 0 ... 0 0 0]]\n",
      "75 [[0 0 0 ... 0 0 0]]\n",
      "76 [[0 0 0 ... 0 0 0]]\n",
      "77 [[0 0 0 ... 0 0 0]]\n",
      "78 [[0 0 0 ... 0 0 0]]\n",
      "79 [[0 0 0 ... 0 0 0]]\n",
      "80 [[0 0 0 ... 0 0 0]]\n",
      "81 [[0 0 0 ... 0 0 0]]\n",
      "82 [[0 0 0 ... 0 0 0]]\n",
      "83 [[0 0 0 ... 0 0 0]]\n",
      "84 [[0 0 0 ... 0 0 0]]\n",
      "85 [[0 0 0 ... 0 0 0]]\n",
      "86 [[0 0 0 ... 0 0 0]]\n",
      "87 [[0 0 0 ... 0 0 0]]\n",
      "88 [[0 0 0 ... 0 0 0]]\n",
      "89 [[0 0 0 ... 0 0 0]]\n",
      "90 [[0 0 0 ... 0 0 0]]\n",
      "91 [[0 0 0 ... 0 0 0]]\n",
      "92 [[0 0 0 ... 0 0 0]]\n",
      "93 [[0 0 0 ... 0 0 0]]\n",
      "94 [[0 0 0 ... 0 0 0]]\n",
      "95 [[0 0 0 ... 0 0 0]]\n",
      "96 [[0 0 0 ... 0 0 0]]\n",
      "97 [[0 0 0 ... 0 0 0]]\n",
      "98 [[0 0 0 ... 0 0 0]]\n",
      "99 [[0 0 0 ... 0 0 0]]\n"
     ]
    }
   ],
   "source": [
    "for i, indexes in enumerate(clusters):\n",
    "    print(i, X2[indexes[:5]])\n",
    "    #plt.scatter(X2[indexes,1], X2[indexes,2], alpha=0.4)"
   ]
  },
  {
   "cell_type": "code",
   "execution_count": null,
   "metadata": {},
   "outputs": [],
   "source": []
  },
  {
   "cell_type": "markdown",
   "metadata": {},
   "source": [
    "# Transactional Clustering Algorithms in Python 2.7"
   ]
  },
  {
   "cell_type": "markdown",
   "metadata": {},
   "source": [
    "https://github.com/riccotti/TX-Means"
   ]
  },
  {
   "cell_type": "code",
   "execution_count": null,
   "metadata": {},
   "outputs": [],
   "source": []
  }
 ],
 "metadata": {
  "kernelspec": {
   "display_name": "Python 3",
   "language": "python",
   "name": "python3"
  },
  "language_info": {
   "codemirror_mode": {
    "name": "ipython",
    "version": 3
   },
   "file_extension": ".py",
   "mimetype": "text/x-python",
   "name": "python",
   "nbconvert_exporter": "python",
   "pygments_lexer": "ipython3",
   "version": "3.8.5"
  },
  "toc": {
   "base_numbering": 1,
   "nav_menu": {},
   "number_sections": false,
   "sideBar": true,
   "skip_h1_title": false,
   "title_cell": "Table of Contents",
   "title_sidebar": "Contents",
   "toc_cell": false,
   "toc_position": {},
   "toc_section_display": true,
   "toc_window_display": true
  },
  "varInspector": {
   "cols": {
    "lenName": 16,
    "lenType": 16,
    "lenVar": 40
   },
   "kernels_config": {
    "python": {
     "delete_cmd_postfix": "",
     "delete_cmd_prefix": "del ",
     "library": "var_list.py",
     "varRefreshCmd": "print(var_dic_list())"
    },
    "r": {
     "delete_cmd_postfix": ") ",
     "delete_cmd_prefix": "rm(",
     "library": "var_list.r",
     "varRefreshCmd": "cat(var_dic_list()) "
    }
   },
   "types_to_exclude": [
    "module",
    "function",
    "builtin_function_or_method",
    "instance",
    "_Feature"
   ],
   "window_display": false
  }
 },
 "nbformat": 4,
 "nbformat_minor": 2
}
