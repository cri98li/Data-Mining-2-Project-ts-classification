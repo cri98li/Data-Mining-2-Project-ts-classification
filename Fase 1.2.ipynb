{
 "cells": [
  {
   "cell_type": "code",
   "execution_count": 1,
   "metadata": {},
   "outputs": [],
   "source": [
    "#!pip install pandas\n",
    "#%matplotlib inline\n",
    "import math\n",
    "import numpy as np\n",
    "import pandas as pd\n",
    "import pandasql as ps\n",
    "import scipy.stats as stats\n",
    "import matplotlib.pyplot as plt\n",
    "from pandas.api.types import CategoricalDtype\n",
    "import IPython.display as ipd\n",
    "from tqdm.notebook import tqdm, trange\n",
    "from sklearn.decomposition import PCA\n",
    "from sklearn.model_selection import train_test_split, cross_val_score \n",
    "from sklearn.metrics import accuracy_score, f1_score, classification_report\n",
    "from sklearn.metrics import roc_curve, auc, roc_auc_score\n",
    "\n",
    "import ast\n",
    "\n",
    "import utils\n",
    "\n",
    "from collections import defaultdict\n",
    "from scipy.stats.stats import pearsonr\n",
    "\n",
    "plt.rcParams['axes.formatter.useoffset']=False\n",
    "pd.set_option('display.max_columns', None)\n",
    "plt.rcParams['figure.figsize'] = [20, 10]"
   ]
  },
  {
   "cell_type": "code",
   "execution_count": 13,
   "metadata": {},
   "outputs": [],
   "source": [
    "df = pd.read_csv('flat_df_no_nulli.csv', index_col=0)"
   ]
  },
  {
   "cell_type": "code",
   "execution_count": 9,
   "metadata": {},
   "outputs": [
    {
     "data": {
      "text/plain": [
       "<matplotlib.axes._subplots.AxesSubplot at 0x24a522c3460>"
      ]
     },
     "execution_count": 9,
     "metadata": {},
     "output_type": "execute_result"
    },
    {
     "data": {
      "image/png": "[encoded data removed]",
      "text/plain": [
       "<Figure size 1440x720 with 1 Axes>"
      ]
     },
     "metadata": {
      "needs_background": "light"
     },
     "output_type": "display_data"
    }
   ],
   "source": [
    "df['ALBUM_listens'].hist()"
   ]
  },
  {
   "cell_type": "code",
   "execution_count": 10,
   "metadata": {},
   "outputs": [],
   "source": [
    "df['ALBUM_listens'] = df['ALBUM_listens'].apply(lambda x: np.log(x))"
   ]
  },
  {
   "cell_type": "code",
   "execution_count": 11,
   "metadata": {},
   "outputs": [
    {
     "data": {
      "text/plain": [
       "<matplotlib.axes._subplots.AxesSubplot at 0x24a5242a190>"
      ]
     },
     "execution_count": 11,
     "metadata": {},
     "output_type": "execute_result"
    },
    {
     "data": {
      "image/png": "[encoded data removed]",
      "text/plain": [
       "<Figure size 1440x720 with 1 Axes>"
      ]
     },
     "metadata": {
      "needs_background": "light"
     },
     "output_type": "display_data"
    }
   ],
   "source": [
    "df['ALBUM_listens'].hist()"
   ]
  },
  {
   "cell_type": "code",
   "execution_count": 14,
   "metadata": {
    "scrolled": false
   },
   "outputs": [
    {
     "data": {
      "text/plain": [
       "['ALBUM_date_released_year',\n",
       " 'ALBUM_favorites',\n",
       " 'ALBUM_type',\n",
       " 'ALBUM_tags',\n",
       " 'ALBUM_tracks',\n",
       " 'ALBUM_listens',\n",
       " 'ALBUM_title',\n",
       " 'SET_subset',\n",
       " 'ARTIST_favorites',\n",
       " 'ARTIST_location',\n",
       " 'ARTIST_tags',\n",
       " 'ARTIST_name',\n",
       " 'TRACK_duration',\n",
       " 'TRACK_favorites',\n",
       " 'TRACK_genre_top',\n",
       " 'TRACK_genres_all',\n",
       " 'TRACK_genres',\n",
       " 'TRACK_interest',\n",
       " 'TRACK_listens',\n",
       " 'TRACK_tags',\n",
       " 'TRACK_title',\n",
       " 'TRACK_bitrate',\n",
       " 'TRACK_number',\n",
       " 'rmsekurtosis01',\n",
       " 'rmsemax01',\n",
       " 'rmsemean01',\n",
       " 'rmsemedian01',\n",
       " 'rmsemin01',\n",
       " 'rmseskew01',\n",
       " 'rmsestd01',\n",
       " 'spectral_bandwidthkurtosis01',\n",
       " 'spectral_bandwidthmax01',\n",
       " 'spectral_bandwidthmean01',\n",
       " 'spectral_bandwidthmedian01',\n",
       " 'spectral_bandwidthmin01',\n",
       " 'spectral_bandwidthskew01',\n",
       " 'spectral_bandwidthstd01',\n",
       " 'spectral_centroidkurtosis01',\n",
       " 'spectral_centroidmax01',\n",
       " 'spectral_centroidmean01',\n",
       " 'spectral_centroidmedian01',\n",
       " 'spectral_centroidmin01',\n",
       " 'spectral_centroidskew01',\n",
       " 'spectral_centroidstd01',\n",
       " 'spectral_rolloffkurtosis01',\n",
       " 'spectral_rolloffmax01',\n",
       " 'spectral_rolloffmean01',\n",
       " 'spectral_rolloffmedian01',\n",
       " 'spectral_rolloffmin01',\n",
       " 'spectral_rolloffskew01',\n",
       " 'spectral_rolloffstd01',\n",
       " 'zcrkurtosis01',\n",
       " 'zcrmax01',\n",
       " 'zcrmean01',\n",
       " 'zcrmedian01',\n",
       " 'zcrmin01',\n",
       " 'zcrskew01',\n",
       " 'zcrstd01',\n",
       " 'TRACK_genres_soloTop',\n",
       " 'ARTIST_favorites_',\n",
       " 'ALBUM_tracks_',\n",
       " 'ALBUM_listens_',\n",
       " 'ALBUM_favorites_',\n",
       " 'ALBUM_type_',\n",
       " 'ALBUM_date_released_year_',\n",
       " 'Blues',\n",
       " 'Classical',\n",
       " 'Country',\n",
       " 'Easy Listening',\n",
       " 'Electronic',\n",
       " 'Experimental',\n",
       " 'Folk',\n",
       " 'Hip-Hop',\n",
       " 'Instrumental',\n",
       " 'International',\n",
       " 'Jazz',\n",
       " 'Old-Time / Historic',\n",
       " 'Pop',\n",
       " 'Rock',\n",
       " 'Soul-RnB',\n",
       " 'Spoken',\n",
       " 'chroma_censkurtosis',\n",
       " 'chroma_censmax',\n",
       " 'chroma_censmean',\n",
       " 'chroma_censmedian',\n",
       " 'chroma_censmin',\n",
       " 'chroma_censskew',\n",
       " 'chroma_censstd',\n",
       " 'chroma_censcqtkurtosis',\n",
       " 'chroma_cqtmax',\n",
       " 'chroma_cqtmean',\n",
       " 'chroma_cqtmedian',\n",
       " 'chroma_cqtmin',\n",
       " 'chroma_cqtskew',\n",
       " 'chroma_cqtstd',\n",
       " 'chroma_stftkurtosis',\n",
       " 'chroma_stftmax',\n",
       " 'chroma_stftmean',\n",
       " 'chroma_stftmedian',\n",
       " 'chroma_stftmin',\n",
       " 'chroma_stftskew',\n",
       " 'chroma_stftstd',\n",
       " 'mfcckurtosis',\n",
       " 'mfccmax',\n",
       " 'mfccmean',\n",
       " 'mfccmedian',\n",
       " 'mfccmin',\n",
       " 'mfccskew',\n",
       " 'mfccstd',\n",
       " 'spectral_contrastkurtosis',\n",
       " 'spectral_contrastmax',\n",
       " 'spectral_contrastmean',\n",
       " 'spectral_contrastmedian',\n",
       " 'spectral_contrastmin',\n",
       " 'spectral_contrastskew',\n",
       " 'spectral_contraststd',\n",
       " 'tonnetzkurtosis',\n",
       " 'tonnetzmax',\n",
       " 'tonnetzmean',\n",
       " 'tonnetzmedian',\n",
       " 'tonnetzmin',\n",
       " 'tonnetzskew',\n",
       " 'tonnetzstd',\n",
       " 'ARTIST_location_']"
      ]
     },
     "execution_count": 14,
     "metadata": {},
     "output_type": "execute_result"
    }
   ],
   "source": [
    "tutti = list(df.columns)\n",
    "\n",
    "tutti"
   ]
  },
  {
   "cell_type": "code",
   "execution_count": 18,
   "metadata": {},
   "outputs": [],
   "source": [
    "from sklearn.preprocessing import LabelEncoder\n",
    "\n",
    "label_encoders = dict()\n",
    "column2encode = ['ALBUM_type_']\n",
    "\n",
    "for col in column2encode:\n",
    "    le = LabelEncoder()\n",
    "    df[col] = le.fit_transform(df[col])\n",
    "    label_encoders[col] = le"
   ]
  },
  {
   "cell_type": "code",
   "execution_count": 19,
   "metadata": {},
   "outputs": [],
   "source": [
    "class_name = 'TRACK_genre_top'\n",
    "attributes = [\n",
    "              'TRACK_duration',\n",
    "             'ALBUM_type_',\n",
    "              'TRACK_favorites',\n",
    "              'TRACK_interest',\n",
    "              'TRACK_listens',\n",
    "              'TRACK_bitrate',\n",
    "                'TRACK_number',\n",
    "             'ARTIST_favorites_',\n",
    "             'ALBUM_tracks_',\n",
    "             'ALBUM_listens_',\n",
    "             'ALBUM_favorites_',\n",
    "             'ALBUM_date_released_year_',\n",
    "'chroma_censkurtosis',\n",
    " 'chroma_censmax',\n",
    " 'chroma_censmean',\n",
    " 'chroma_censmedian',\n",
    " 'chroma_censmin',\n",
    " 'chroma_censskew',\n",
    " 'chroma_censstd',\n",
    " 'chroma_censcqtkurtosis',\n",
    " 'chroma_cqtmax',\n",
    " 'chroma_cqtmean',\n",
    " 'chroma_cqtmedian',\n",
    " 'chroma_cqtmin',\n",
    " 'chroma_cqtskew',\n",
    " 'chroma_cqtstd',\n",
    " 'chroma_stftkurtosis',\n",
    " 'chroma_stftmax',\n",
    " 'chroma_stftmean',\n",
    " 'chroma_stftmedian',\n",
    " 'chroma_stftmin',\n",
    " 'chroma_stftskew',\n",
    " 'chroma_stftstd',\n",
    " 'mfcckurtosis',\n",
    " 'mfccmax',\n",
    " 'mfccmean',\n",
    " 'mfccmedian',\n",
    " 'mfccmin',\n",
    " 'mfccskew',\n",
    " 'mfccstd',\n",
    " 'spectral_contrastkurtosis',\n",
    " 'spectral_contrastmax',\n",
    " 'spectral_contrastmean',\n",
    " 'spectral_contrastmedian',\n",
    " 'spectral_contrastmin',\n",
    " 'spectral_contrastskew',\n",
    " 'spectral_contraststd',\n",
    " 'tonnetzkurtosis',\n",
    " 'tonnetzmax',\n",
    " 'tonnetzmean',\n",
    " 'tonnetzmedian',\n",
    " 'tonnetzmin',\n",
    " 'tonnetzskew',\n",
    " 'tonnetzstd',\n",
    "'rmsemax01',\n",
    " 'rmsemean01',\n",
    " 'rmsemedian01',\n",
    " 'rmsemin01',\n",
    " 'rmseskew01',\n",
    " 'rmsestd01',\n",
    " 'spectral_bandwidthkurtosis01',\n",
    " 'spectral_bandwidthmax01',\n",
    " 'spectral_bandwidthmean01',\n",
    " 'spectral_bandwidthmedian01',\n",
    " 'spectral_bandwidthmin01',\n",
    " 'spectral_bandwidthskew01',\n",
    " 'spectral_bandwidthstd01',\n",
    " 'spectral_centroidkurtosis01',\n",
    " 'spectral_centroidmax01',\n",
    " 'spectral_centroidmean01',\n",
    " 'spectral_centroidmedian01',\n",
    " 'spectral_centroidmin01',\n",
    " 'spectral_centroidskew01',\n",
    " 'spectral_centroidstd01',\n",
    " 'spectral_rolloffkurtosis01',\n",
    " 'spectral_rolloffmax01',\n",
    " 'spectral_rolloffmean01',\n",
    " 'spectral_rolloffmedian01',\n",
    " 'spectral_rolloffmin01',\n",
    " 'spectral_rolloffskew01',\n",
    " 'spectral_rolloffstd01',\n",
    " 'zcrkurtosis01',\n",
    " 'zcrmax01',\n",
    " 'zcrmean01',\n",
    " 'zcrmedian01',\n",
    " 'zcrmin01',\n",
    " 'zcrskew01',\n",
    " 'zcrstd01',]\n",
    "\n",
    "df2 = df[df.TRACK_genre_top.isna() == False]\n",
    "\n",
    "X = df2[attributes].values\n",
    "y = df2[class_name]\n",
    "\n",
    "\n",
    "\n",
    "\n",
    "X_train, X_test, y_train, y_test = train_test_split(X, y, test_size=0.3, random_state=100, stratify=y)"
   ]
  },
  {
   "cell_type": "code",
   "execution_count": null,
   "metadata": {},
   "outputs": [],
   "source": []
  },
  {
   "cell_type": "code",
   "execution_count": 22,
   "metadata": {},
   "outputs": [],
   "source": [
    "from sklearn.tree import DecisionTreeClassifier\n",
    "from sklearn import tree"
   ]
  },
  {
   "cell_type": "code",
   "execution_count": 6,
   "metadata": {
    "scrolled": false
   },
   "outputs": [
    {
     "name": "stdout",
     "output_type": "stream",
     "text": [
      "Accuracy 0.5361563958601095\n",
      "F1-score [0.         0.69012179 0.         0.         0.53700919 0.55840619\n",
      " 0.30372493 0.40058766 0.36983471 0.25942685 0.04060914 0.7816092\n",
      " 0.09090909 0.67130089 0.         0.0989011 ]\n",
      "                     precision    recall  f1-score   support\n",
      "\n",
      "              Blues       0.00      0.00      0.00        31\n",
      "          Classical       0.68      0.70      0.69       364\n",
      "            Country       0.00      0.00      0.00        58\n",
      "     Easy Listening       0.00      0.00      0.00         7\n",
      "         Electronic       0.50      0.58      0.54      2778\n",
      "       Experimental       0.51      0.62      0.56      3163\n",
      "               Folk       0.38      0.25      0.30       832\n",
      "            Hip-Hop       0.42      0.39      0.40      1061\n",
      "       Instrumental       0.52      0.29      0.37       621\n",
      "      International       0.34      0.21      0.26       410\n",
      "               Jazz       0.14      0.02      0.04       169\n",
      "Old-Time / Historic       0.75      0.82      0.78       166\n",
      "                Pop       0.24      0.06      0.09       698\n",
      "               Rock       0.63      0.72      0.67      4247\n",
      "           Soul-RnB       0.00      0.00      0.00        52\n",
      "             Spoken       0.16      0.07      0.10       126\n",
      "\n",
      "           accuracy                           0.54     14783\n",
      "          macro avg       0.33      0.29      0.30     14783\n",
      "       weighted avg       0.51      0.54      0.51     14783\n",
      "\n"
     ]
    },
    {
     "name": "stderr",
     "output_type": "stream",
     "text": [
      "C:\\Users\\cri98\\anaconda3\\lib\\site-packages\\sklearn\\metrics\\_classification.py:1221: UndefinedMetricWarning: Precision and F-score are ill-defined and being set to 0.0 in labels with no predicted samples. Use `zero_division` parameter to control this behavior.\n",
      "  _warn_prf(average, modifier, msg_start, len(result))\n"
     ]
    }
   ],
   "source": [
    "clf = DecisionTreeClassifier(min_samples_leaf=30, random_state=42)\n",
    "clf.fit(X_train, y_train)\n",
    "\n",
    "y_pred0 = clf.predict(X_test)\n",
    "\n",
    "print('Accuracy %s' % accuracy_score(y_test, y_pred0))\n",
    "print('F1-score %s' % f1_score(y_test, y_pred0, average=None))\n",
    "print(classification_report(y_test, y_pred0))"
   ]
  },
  {
   "cell_type": "code",
   "execution_count": 30,
   "metadata": {
    "scrolled": false
   },
   "outputs": [
    {
     "name": "stdout",
     "output_type": "stream",
     "text": [
      "Fitting 5 folds for each of 1 candidates, totalling 5 fits\n"
     ]
    },
    {
     "name": "stderr",
     "output_type": "stream",
     "text": [
      "[Parallel(n_jobs=-1)]: Using backend LokyBackend with 8 concurrent workers.\n",
      "[Parallel(n_jobs=-1)]: Done   2 out of   5 | elapsed:    3.9s remaining:    5.9s\n",
      "[Parallel(n_jobs=-1)]: Done   3 out of   5 | elapsed:    3.9s remaining:    2.6s\n",
      "[Parallel(n_jobs=-1)]: Done   5 out of   5 | elapsed:    3.9s remaining:    0.0s\n",
      "[Parallel(n_jobs=-1)]: Done   5 out of   5 | elapsed:    3.9s finished\n"
     ]
    },
    {
     "name": "stdout",
     "output_type": "stream",
     "text": [
      "Model with rank: 1\n",
      "Mean validation score: 0.519 (std: 0.005)\n",
      "Parameters: {'max_depth': 20, 'min_samples_leaf': 9, 'min_samples_split': 2}\n",
      "\n"
     ]
    }
   ],
   "source": [
    "from sklearn.model_selection import GridSearchCV\n",
    "from sklearn.model_selection import ParameterGrid\n",
    "\n",
    "param_grid = {'max_depth': [20], # + [10, 20, 30, 40, 50],\n",
    "              'min_samples_split': [2], #, 2, 5, 10, 20, 30, 40, 50],\n",
    "              'min_samples_leaf': [9] #range(10, 50, 10),\n",
    "             }\n",
    "\n",
    "scores = ['accuracy', 'f1']\n",
    "\n",
    "#combinations = list(ParameterGrid(param_grid)) #all combinations\n",
    "\n",
    "clf = DecisionTreeClassifier()\n",
    "grid_search = GridSearchCV(clf, param_grid, n_jobs=-1, verbose=10, scoring='accuracy')\n",
    "grid_search.fit(X_train, y_train)\n",
    "\n",
    "report(grid_search.cv_results_, n_top=3)\n",
    "\n",
    "#clf.cv_results_"
   ]
  },
  {
   "cell_type": "code",
   "execution_count": 28,
   "metadata": {},
   "outputs": [],
   "source": [
    "def report(results, n_top=3):\n",
    "    for i in range(1, n_top + 1):\n",
    "        candidates = np.flatnonzero(results['rank_test_score'] == i)\n",
    "        for candidate in candidates:\n",
    "            print(\"Model with rank: {0}\".format(i))\n",
    "            print(\"Mean validation score: {0:.3f} (std: {1:.3f})\".format(\n",
    "                  results['mean_test_score'][candidate],\n",
    "                  results['std_test_score'][candidate]))\n",
    "            print(\"Parameters: {0}\".format(results['params'][candidate]))\n",
    "            print(\"\")"
   ]
  },
  {
   "cell_type": "code",
   "execution_count": 43,
   "metadata": {
    "scrolled": false
   },
   "outputs": [
    {
     "name": "stdout",
     "output_type": "stream",
     "text": [
      "Fitting 5 folds for each of 10 candidates, totalling 50 fits\n"
     ]
    },
    {
     "name": "stderr",
     "output_type": "stream",
     "text": [
      "[Parallel(n_jobs=-1)]: Using backend LokyBackend with 8 concurrent workers.\n",
      "[Parallel(n_jobs=-1)]: Done   2 tasks      | elapsed:    2.6s\n",
      "[Parallel(n_jobs=-1)]: Done   9 tasks      | elapsed:   13.0s\n",
      "[Parallel(n_jobs=-1)]: Done  16 tasks      | elapsed:   21.4s\n",
      "[Parallel(n_jobs=-1)]: Done  25 tasks      | elapsed:   28.6s\n",
      "[Parallel(n_jobs=-1)]: Done  34 tasks      | elapsed:   39.6s\n",
      "[Parallel(n_jobs=-1)]: Done  41 out of  50 | elapsed:   51.2s remaining:   11.2s\n",
      "[Parallel(n_jobs=-1)]: Done  47 out of  50 | elapsed:  1.1min remaining:    4.0s\n",
      "[Parallel(n_jobs=-1)]: Done  50 out of  50 | elapsed:  1.1min finished\n"
     ]
    },
    {
     "name": "stdout",
     "output_type": "stream",
     "text": [
      "Model with rank: 1\n",
      "Mean validation score: 0.493 (std: 0.026)\n",
      "Parameters: {'min_samples_split': 2, 'min_samples_leaf': 100, 'max_depth': 19}\n",
      "\n",
      "Model with rank: 2\n",
      "Mean validation score: 0.493 (std: 0.030)\n",
      "Parameters: {'min_samples_split': 2, 'min_samples_leaf': 50, 'max_depth': 19}\n",
      "\n",
      "Model with rank: 3\n",
      "Mean validation score: 0.492 (std: 0.029)\n",
      "Parameters: {'min_samples_split': 100, 'min_samples_leaf': 50, 'max_depth': 12}\n",
      "\n"
     ]
    }
   ],
   "source": [
    "param_list = {'max_depth': [None] + list(np.arange(2, 40, 2)),\n",
    "              'min_samples_split': [2, 5, 10, 20, 30, 50, 100],\n",
    "              'min_samples_leaf': [1, 5, 10, 20, 30, 50, 100],\n",
    "             }\n",
    "\n",
    "clf = DecisionTreeClassifier()\n",
    "\n",
    "random_search = RandomizedSearchCV(clf, param_distributions=param_list, n_iter=10, n_jobs=-1, verbose=10)\n",
    "random_search.fit(X, y)\n",
    "report(random_search.cv_results_, n_top=3)"
   ]
  },
  {
   "cell_type": "code",
   "execution_count": 9,
   "metadata": {},
   "outputs": [
    {
     "data": {
      "text/plain": [
       "'Source.gv.pdf'"
      ]
     },
     "execution_count": 9,
     "metadata": {},
     "output_type": "execute_result"
    }
   ],
   "source": [
    "import graphviz \n",
    "dot_data = tree.export_graphviz(clf, out_file=None, feature_names=attributes) \n",
    "graph = graphviz.Source(dot_data) \n",
    "\n",
    "\n",
    "graph.render() "
   ]
  },
  {
   "cell_type": "code",
   "execution_count": 28,
   "metadata": {},
   "outputs": [
    {
     "data": {
      "application/vnd.jupyter.widget-view+json": {
       "model_id": "9537a377769b4d7f88d34a76457762c8",
       "version_major": 2,
       "version_minor": 0
      },
      "text/plain": [
       "HBox(children=(HTML(value=''), FloatProgress(value=0.0, max=178288.0), HTML(value='')))"
      ]
     },
     "metadata": {},
     "output_type": "display_data"
    },
    {
     "name": "stdout",
     "output_type": "stream",
     "text": [
      "\n"
     ]
    }
   ],
   "source": [
    "def trasformaLista(stringa):\n",
    "    result = list()\n",
    "    tmp = stringa[1 : len(stringa)-1]\n",
    "    \n",
    "    splitted = tmp.split(\", \")\n",
    "    \n",
    "    for s in splitted:\n",
    "        result.append(s)\n",
    "    \n",
    "    return result\n",
    "\n",
    "\n",
    "tmp = list();\n",
    "\n",
    "for index in tqdm(df.index):\n",
    "    #print(df[df.index == index].TRACK_genres.iloc[0])\n",
    "    daTrasformare = df[df.index == index].TRACK_genres_soloTop.iloc[0]\n",
    "    try:\n",
    "        tmp.append(trasformaLista(daTrasformare))\n",
    "    except:\n",
    "        tmp.append(np.NaN)\n",
    "    \n",
    "df[\"TRACK_genres_soloTop\"] = tmp"
   ]
  },
  {
   "cell_type": "code",
   "execution_count": 60,
   "metadata": {},
   "outputs": [
    {
     "data": {
      "application/vnd.jupyter.widget-view+json": {
       "model_id": "729f952e8dc64ae2b0d7d5bd3e60ed19",
       "version_major": 2,
       "version_minor": 0
      },
      "text/plain": [
       "HBox(children=(HTML(value=''), FloatProgress(value=0.0, max=4.0), HTML(value='')))"
      ]
     },
     "metadata": {},
     "output_type": "display_data"
    },
    {
     "name": "stdout",
     "output_type": "stream",
     "text": [
      "\n"
     ]
    }
   ],
   "source": [
    "d = dict();\n",
    "for i in tqdm(range(28, 32, 1)):\n",
    "    clf = DecisionTreeClassifier(min_samples_leaf=i, random_state=42)\n",
    "    clf.fit(X_train, y_train)\n",
    "\n",
    "    y_pred0 = clf.predict(X_test)\n",
    "\n",
    "    d[i] = accuracy_score(y_test, y_pred0)"
   ]
  },
  {
   "cell_type": "code",
   "execution_count": 61,
   "metadata": {
    "scrolled": false
   },
   "outputs": [
    {
     "data": {
      "image/png": "[encoded data removed]",
      "text/plain": [
       "<Figure size 1440x720 with 1 Axes>"
      ]
     },
     "metadata": {
      "needs_background": "light"
     },
     "output_type": "display_data"
    }
   ],
   "source": [
    "lists = sorted(d.items()) # sorted by key, return a list of tuples\n",
    "\n",
    "x, y = zip(*lists) # unpack a list of pairs into two tuples\n",
    "\n",
    "plt.plot(x, y)\n",
    "plt.show()"
   ]
  },
  {
   "cell_type": "code",
   "execution_count": null,
   "metadata": {},
   "outputs": [],
   "source": []
  }
 ],
 "metadata": {
  "kernelspec": {
   "display_name": "Python 3",
   "language": "python",
   "name": "python3"
  },
  "language_info": {
   "codemirror_mode": {
    "name": "ipython",
    "version": 3
   },
   "file_extension": ".py",
   "mimetype": "text/x-python",
   "name": "python",
   "nbconvert_exporter": "python",
   "pygments_lexer": "ipython3",
   "version": "3.8.3"
  }
 },
 "nbformat": 4,
 "nbformat_minor": 4
}
