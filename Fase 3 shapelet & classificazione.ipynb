{
 "cells": [
  {
   "cell_type": "code",
   "execution_count": 1,
   "metadata": {
    "ExecuteTime": {
     "end_time": "2021-04-28T09:20:12.822529Z",
     "start_time": "2021-04-28T09:20:11.330763Z"
    }
   },
   "outputs": [],
   "source": [
    "%matplotlib inline\n",
    "\n",
    "import numpy as np\n",
    "import pandas as pd\n",
    "import matplotlib.pyplot as plt\n",
    "from sklearn.model_selection import train_test_split, cross_val_score\n",
    "from sklearn.model_selection import train_test_split, cross_val_score \n",
    "from imblearn.under_sampling import RandomUnderSampler\n",
    "from collections import Counter\n",
    "from tslearn.preprocessing import TimeSeriesScalerMinMax, TimeSeriesScalerMeanVariance\n",
    "from sklearn.model_selection import GridSearchCV\n",
    "from sklearn.tree import DecisionTreeClassifier\n",
    "\n",
    "\n",
    "from sklearn.metrics import accuracy_score, f1_score, classification_report\n",
    "from sklearn.metrics import roc_curve, auc, roc_auc_score\n",
    "from collections import defaultdict\n",
    "\n",
    "\n",
    "def report(results, n_top=3):\n",
    "    for i in range(1, n_top + 1):\n",
    "        candidates = np.flatnonzero(results['rank_test_score'] == i)\n",
    "        for candidate in candidates:\n",
    "            print(\"Model with rank: {0}\".format(i))\n",
    "            print(\"Mean validation score: {0:.3f} (std: {1:.3f})\".format(\n",
    "                  results['mean_test_score'][candidate],\n",
    "                  results['std_test_score'][candidate]))\n",
    "            print(\"Parameters: {0}\".format(results['params'][candidate]))\n",
    "            print(\"\")"
   ]
  },
  {
   "cell_type": "code",
   "execution_count": 2,
   "metadata": {
    "ExecuteTime": {
     "end_time": "2021-04-28T09:20:29.859310Z",
     "start_time": "2021-04-28T09:20:12.839531Z"
    }
   },
   "outputs": [],
   "source": [
    "dateparse = lambda dates: pd.datetime.strptime(dates, '%Y-%m')\n",
    "df0 = pd.read_csv('complessivo_rms_finale.csv', index_col='id')\n",
    "df1 = pd.read_csv('flat_df_no_nulli.csv', index_col=0)"
   ]
  },
  {
   "cell_type": "markdown",
   "metadata": {},
   "source": [
    "### Multiclasse"
   ]
  },
  {
   "cell_type": "raw",
   "metadata": {},
   "source": [
    "#--------------------------------------- Codifico i generi\n",
    "from sklearn.preprocessing import LabelEncoder\n",
    "\n",
    "label_encoders = dict()\n",
    "column2encode = ['ALBUM_type_']\n",
    "\n",
    "for col in column2encode:\n",
    "    le = LabelEncoder()\n",
    "    df1[col] = le.fit_transform(df1[col])\n",
    "    label_encoders[col] = le\n",
    "    \n",
    "df1 = df1[df1.TRACK_genre_top.isna() == False] #droppo i nulli\n",
    "\n",
    "label_encoders = dict()\n",
    "column2encode = ['TRACK_genre_top']\n",
    "\n",
    "for col in column2encode:\n",
    "    le = LabelEncoder()\n",
    "    df1['TRACK_genre_top_num'] = le.fit_transform(df1[col])\n",
    "    label_encoders[col] = le\n",
    "\n",
    "    \n",
    "df1['TRACK_genre_top_num']=[0 if genre == 3 else genre for genre in df1['TRACK_genre_top_num']]\n",
    "df1['TRACK_genre_top_num']=[0 if genre == 0 else genre for genre in df1['TRACK_genre_top_num']]\n",
    "df1['TRACK_genre_top_num']=[0 if genre == 14 else genre for genre in df1['TRACK_genre_top_num']]\n",
    "df1['TRACK_genre_top_num']=[0 if genre == 2 else genre for genre in df1['TRACK_genre_top_num']]\n",
    "\n",
    "df1['TRACK_genre_top_num']=[0 if genre == 15 else genre for genre in df1['TRACK_genre_top_num']]\n",
    "df1['TRACK_genre_top_num']=[0 if genre == 11 else genre for genre in df1['TRACK_genre_top_num']]\n",
    "df1['TRACK_genre_top_num']=[0 if genre == 10 else genre for genre in df1['TRACK_genre_top_num']]\n",
    "\n",
    "df1['TRACK_genre_top_num']=[3 if genre == 13 else genre for genre in df1['TRACK_genre_top_num']] #rock 13 --> 3\n",
    "df1['TRACK_genre_top_num']=[2 if genre == 12 else genre for genre in df1['TRACK_genre_top_num']] #pop 12 --> 2"
   ]
  },
  {
   "cell_type": "markdown",
   "metadata": {},
   "source": [
    "### Binario"
   ]
  },
  {
   "cell_type": "code",
   "execution_count": 3,
   "metadata": {
    "ExecuteTime": {
     "end_time": "2021-04-28T09:20:30.045335Z",
     "start_time": "2021-04-28T09:20:29.938821Z"
    }
   },
   "outputs": [],
   "source": [
    "df1 = df1.drop(columns=[col if col != 'TRACK_genre_top' else \"TRACK_genres_all\" for col in df1.columns]).dropna()\n",
    "\n",
    "df1['TRACK_genre_top_num'] = [1 if genre == \"Rock\" else 0 for genre in df1[\"TRACK_genre_top\"]]"
   ]
  },
  {
   "cell_type": "code",
   "execution_count": null,
   "metadata": {},
   "outputs": [],
   "source": []
  },
  {
   "cell_type": "code",
   "execution_count": 4,
   "metadata": {
    "ExecuteTime": {
     "end_time": "2021-04-28T09:20:30.479403Z",
     "start_time": "2021-04-28T09:20:30.077844Z"
    }
   },
   "outputs": [
    {
     "data": {
      "text/html": [
       "<div>\n",
       "<style scoped>\n",
       "    .dataframe tbody tr th:only-of-type {\n",
       "        vertical-align: middle;\n",
       "    }\n",
       "\n",
       "    .dataframe tbody tr th {\n",
       "        vertical-align: top;\n",
       "    }\n",
       "\n",
       "    .dataframe thead th {\n",
       "        text-align: right;\n",
       "    }\n",
       "</style>\n",
       "<table border=\"1\" class=\"dataframe\">\n",
       "  <thead>\n",
       "    <tr style=\"text-align: right;\">\n",
       "      <th></th>\n",
       "      <th>TRACK_genre_top_num</th>\n",
       "      <th>0</th>\n",
       "      <th>1</th>\n",
       "      <th>2</th>\n",
       "      <th>3</th>\n",
       "      <th>4</th>\n",
       "      <th>5</th>\n",
       "      <th>6</th>\n",
       "      <th>7</th>\n",
       "      <th>8</th>\n",
       "      <th>...</th>\n",
       "      <th>1282</th>\n",
       "      <th>1283</th>\n",
       "      <th>1284</th>\n",
       "      <th>1285</th>\n",
       "      <th>1286</th>\n",
       "      <th>1287</th>\n",
       "      <th>1288</th>\n",
       "      <th>1289</th>\n",
       "      <th>1290</th>\n",
       "      <th>1291</th>\n",
       "    </tr>\n",
       "  </thead>\n",
       "  <tbody>\n",
       "    <tr>\n",
       "      <th>2</th>\n",
       "      <td>0</td>\n",
       "      <td>0.005965</td>\n",
       "      <td>0.030530</td>\n",
       "      <td>0.038409</td>\n",
       "      <td>0.052510</td>\n",
       "      <td>0.081335</td>\n",
       "      <td>0.096664</td>\n",
       "      <td>0.092021</td>\n",
       "      <td>0.083451</td>\n",
       "      <td>0.083296</td>\n",
       "      <td>...</td>\n",
       "      <td>0.167174</td>\n",
       "      <td>0.126127</td>\n",
       "      <td>0.111858</td>\n",
       "      <td>0.095006</td>\n",
       "      <td>0.099327</td>\n",
       "      <td>0.097803</td>\n",
       "      <td>0.107587</td>\n",
       "      <td>0.152822</td>\n",
       "      <td>0.177150</td>\n",
       "      <td>0.000000</td>\n",
       "    </tr>\n",
       "    <tr>\n",
       "      <th>3</th>\n",
       "      <td>0</td>\n",
       "      <td>0.009710</td>\n",
       "      <td>0.088201</td>\n",
       "      <td>0.120011</td>\n",
       "      <td>0.128533</td>\n",
       "      <td>0.150989</td>\n",
       "      <td>0.169258</td>\n",
       "      <td>0.205793</td>\n",
       "      <td>0.261233</td>\n",
       "      <td>0.279276</td>\n",
       "      <td>...</td>\n",
       "      <td>0.126499</td>\n",
       "      <td>0.103162</td>\n",
       "      <td>0.147984</td>\n",
       "      <td>0.207548</td>\n",
       "      <td>0.256682</td>\n",
       "      <td>0.254089</td>\n",
       "      <td>0.194205</td>\n",
       "      <td>0.146202</td>\n",
       "      <td>0.119663</td>\n",
       "      <td>0.121850</td>\n",
       "    </tr>\n",
       "    <tr>\n",
       "      <th>5</th>\n",
       "      <td>0</td>\n",
       "      <td>0.004292</td>\n",
       "      <td>0.036312</td>\n",
       "      <td>0.051975</td>\n",
       "      <td>0.046670</td>\n",
       "      <td>0.203390</td>\n",
       "      <td>0.283229</td>\n",
       "      <td>0.314644</td>\n",
       "      <td>0.322023</td>\n",
       "      <td>0.293859</td>\n",
       "      <td>...</td>\n",
       "      <td>0.318426</td>\n",
       "      <td>0.312173</td>\n",
       "      <td>0.305558</td>\n",
       "      <td>0.281919</td>\n",
       "      <td>0.234308</td>\n",
       "      <td>0.178978</td>\n",
       "      <td>0.163058</td>\n",
       "      <td>0.143980</td>\n",
       "      <td>0.120217</td>\n",
       "      <td>0.107188</td>\n",
       "    </tr>\n",
       "    <tr>\n",
       "      <th>10</th>\n",
       "      <td>0</td>\n",
       "      <td>0.110271</td>\n",
       "      <td>0.142744</td>\n",
       "      <td>0.156790</td>\n",
       "      <td>0.131847</td>\n",
       "      <td>0.125279</td>\n",
       "      <td>0.129176</td>\n",
       "      <td>0.128395</td>\n",
       "      <td>0.171358</td>\n",
       "      <td>0.298087</td>\n",
       "      <td>...</td>\n",
       "      <td>0.296138</td>\n",
       "      <td>0.217364</td>\n",
       "      <td>0.184314</td>\n",
       "      <td>0.176318</td>\n",
       "      <td>0.161866</td>\n",
       "      <td>0.158079</td>\n",
       "      <td>0.158619</td>\n",
       "      <td>0.148111</td>\n",
       "      <td>0.146005</td>\n",
       "      <td>0.000000</td>\n",
       "    </tr>\n",
       "    <tr>\n",
       "      <th>134</th>\n",
       "      <td>0</td>\n",
       "      <td>0.030768</td>\n",
       "      <td>0.152135</td>\n",
       "      <td>0.199774</td>\n",
       "      <td>0.269876</td>\n",
       "      <td>0.375679</td>\n",
       "      <td>0.391104</td>\n",
       "      <td>0.359060</td>\n",
       "      <td>0.326591</td>\n",
       "      <td>0.276587</td>\n",
       "      <td>...</td>\n",
       "      <td>0.085308</td>\n",
       "      <td>0.058013</td>\n",
       "      <td>0.057826</td>\n",
       "      <td>0.070345</td>\n",
       "      <td>0.089812</td>\n",
       "      <td>0.085378</td>\n",
       "      <td>0.086922</td>\n",
       "      <td>0.105205</td>\n",
       "      <td>0.105316</td>\n",
       "      <td>0.090875</td>\n",
       "    </tr>\n",
       "    <tr>\n",
       "      <th>...</th>\n",
       "      <td>...</td>\n",
       "      <td>...</td>\n",
       "      <td>...</td>\n",
       "      <td>...</td>\n",
       "      <td>...</td>\n",
       "      <td>...</td>\n",
       "      <td>...</td>\n",
       "      <td>...</td>\n",
       "      <td>...</td>\n",
       "      <td>...</td>\n",
       "      <td>...</td>\n",
       "      <td>...</td>\n",
       "      <td>...</td>\n",
       "      <td>...</td>\n",
       "      <td>...</td>\n",
       "      <td>...</td>\n",
       "      <td>...</td>\n",
       "      <td>...</td>\n",
       "      <td>...</td>\n",
       "      <td>...</td>\n",
       "      <td>...</td>\n",
       "    </tr>\n",
       "    <tr>\n",
       "      <th>155315</th>\n",
       "      <td>1</td>\n",
       "      <td>0.158557</td>\n",
       "      <td>0.158167</td>\n",
       "      <td>0.145906</td>\n",
       "      <td>0.162589</td>\n",
       "      <td>0.188191</td>\n",
       "      <td>0.173111</td>\n",
       "      <td>0.155064</td>\n",
       "      <td>0.165688</td>\n",
       "      <td>0.173078</td>\n",
       "      <td>...</td>\n",
       "      <td>0.026859</td>\n",
       "      <td>0.027577</td>\n",
       "      <td>0.024202</td>\n",
       "      <td>0.023801</td>\n",
       "      <td>0.025244</td>\n",
       "      <td>0.025122</td>\n",
       "      <td>0.021450</td>\n",
       "      <td>0.018870</td>\n",
       "      <td>0.017375</td>\n",
       "      <td>0.018515</td>\n",
       "    </tr>\n",
       "    <tr>\n",
       "      <th>155316</th>\n",
       "      <td>1</td>\n",
       "      <td>0.127192</td>\n",
       "      <td>0.209792</td>\n",
       "      <td>0.245813</td>\n",
       "      <td>0.218415</td>\n",
       "      <td>0.202730</td>\n",
       "      <td>0.186682</td>\n",
       "      <td>0.181166</td>\n",
       "      <td>0.170364</td>\n",
       "      <td>0.171622</td>\n",
       "      <td>...</td>\n",
       "      <td>0.177781</td>\n",
       "      <td>0.196609</td>\n",
       "      <td>0.196542</td>\n",
       "      <td>0.175911</td>\n",
       "      <td>0.152180</td>\n",
       "      <td>0.142664</td>\n",
       "      <td>0.140520</td>\n",
       "      <td>0.136186</td>\n",
       "      <td>0.171844</td>\n",
       "      <td>0.185346</td>\n",
       "    </tr>\n",
       "    <tr>\n",
       "      <th>155317</th>\n",
       "      <td>1</td>\n",
       "      <td>0.124034</td>\n",
       "      <td>0.126594</td>\n",
       "      <td>0.129472</td>\n",
       "      <td>0.126551</td>\n",
       "      <td>0.120213</td>\n",
       "      <td>0.125967</td>\n",
       "      <td>0.148710</td>\n",
       "      <td>0.156304</td>\n",
       "      <td>0.137944</td>\n",
       "      <td>...</td>\n",
       "      <td>0.068987</td>\n",
       "      <td>0.070163</td>\n",
       "      <td>0.073941</td>\n",
       "      <td>0.072122</td>\n",
       "      <td>0.074395</td>\n",
       "      <td>0.076910</td>\n",
       "      <td>0.077558</td>\n",
       "      <td>0.078151</td>\n",
       "      <td>0.076024</td>\n",
       "      <td>0.077503</td>\n",
       "    </tr>\n",
       "    <tr>\n",
       "      <th>155318</th>\n",
       "      <td>1</td>\n",
       "      <td>0.106511</td>\n",
       "      <td>0.103265</td>\n",
       "      <td>0.105738</td>\n",
       "      <td>0.119232</td>\n",
       "      <td>0.133367</td>\n",
       "      <td>0.139314</td>\n",
       "      <td>0.132606</td>\n",
       "      <td>0.124244</td>\n",
       "      <td>0.125047</td>\n",
       "      <td>...</td>\n",
       "      <td>0.205924</td>\n",
       "      <td>0.127026</td>\n",
       "      <td>0.125577</td>\n",
       "      <td>0.114014</td>\n",
       "      <td>0.104968</td>\n",
       "      <td>0.097456</td>\n",
       "      <td>0.094659</td>\n",
       "      <td>0.112066</td>\n",
       "      <td>0.122239</td>\n",
       "      <td>0.115811</td>\n",
       "    </tr>\n",
       "    <tr>\n",
       "      <th>155319</th>\n",
       "      <td>1</td>\n",
       "      <td>0.114174</td>\n",
       "      <td>0.109436</td>\n",
       "      <td>0.127783</td>\n",
       "      <td>0.124033</td>\n",
       "      <td>0.089186</td>\n",
       "      <td>0.107159</td>\n",
       "      <td>0.125980</td>\n",
       "      <td>0.124494</td>\n",
       "      <td>0.129173</td>\n",
       "      <td>...</td>\n",
       "      <td>0.078126</td>\n",
       "      <td>0.083256</td>\n",
       "      <td>0.077798</td>\n",
       "      <td>0.070611</td>\n",
       "      <td>0.071213</td>\n",
       "      <td>0.073995</td>\n",
       "      <td>0.073004</td>\n",
       "      <td>0.075254</td>\n",
       "      <td>0.081455</td>\n",
       "      <td>0.069464</td>\n",
       "    </tr>\n",
       "  </tbody>\n",
       "</table>\n",
       "<p>49229 rows × 1293 columns</p>\n",
       "</div>"
      ],
      "text/plain": [
       "        TRACK_genre_top_num         0         1         2         3         4  \\\n",
       "2                         0  0.005965  0.030530  0.038409  0.052510  0.081335   \n",
       "3                         0  0.009710  0.088201  0.120011  0.128533  0.150989   \n",
       "5                         0  0.004292  0.036312  0.051975  0.046670  0.203390   \n",
       "10                        0  0.110271  0.142744  0.156790  0.131847  0.125279   \n",
       "134                       0  0.030768  0.152135  0.199774  0.269876  0.375679   \n",
       "...                     ...       ...       ...       ...       ...       ...   \n",
       "155315                    1  0.158557  0.158167  0.145906  0.162589  0.188191   \n",
       "155316                    1  0.127192  0.209792  0.245813  0.218415  0.202730   \n",
       "155317                    1  0.124034  0.126594  0.129472  0.126551  0.120213   \n",
       "155318                    1  0.106511  0.103265  0.105738  0.119232  0.133367   \n",
       "155319                    1  0.114174  0.109436  0.127783  0.124033  0.089186   \n",
       "\n",
       "               5         6         7         8  ...      1282      1283  \\\n",
       "2       0.096664  0.092021  0.083451  0.083296  ...  0.167174  0.126127   \n",
       "3       0.169258  0.205793  0.261233  0.279276  ...  0.126499  0.103162   \n",
       "5       0.283229  0.314644  0.322023  0.293859  ...  0.318426  0.312173   \n",
       "10      0.129176  0.128395  0.171358  0.298087  ...  0.296138  0.217364   \n",
       "134     0.391104  0.359060  0.326591  0.276587  ...  0.085308  0.058013   \n",
       "...          ...       ...       ...       ...  ...       ...       ...   \n",
       "155315  0.173111  0.155064  0.165688  0.173078  ...  0.026859  0.027577   \n",
       "155316  0.186682  0.181166  0.170364  0.171622  ...  0.177781  0.196609   \n",
       "155317  0.125967  0.148710  0.156304  0.137944  ...  0.068987  0.070163   \n",
       "155318  0.139314  0.132606  0.124244  0.125047  ...  0.205924  0.127026   \n",
       "155319  0.107159  0.125980  0.124494  0.129173  ...  0.078126  0.083256   \n",
       "\n",
       "            1284      1285      1286      1287      1288      1289      1290  \\\n",
       "2       0.111858  0.095006  0.099327  0.097803  0.107587  0.152822  0.177150   \n",
       "3       0.147984  0.207548  0.256682  0.254089  0.194205  0.146202  0.119663   \n",
       "5       0.305558  0.281919  0.234308  0.178978  0.163058  0.143980  0.120217   \n",
       "10      0.184314  0.176318  0.161866  0.158079  0.158619  0.148111  0.146005   \n",
       "134     0.057826  0.070345  0.089812  0.085378  0.086922  0.105205  0.105316   \n",
       "...          ...       ...       ...       ...       ...       ...       ...   \n",
       "155315  0.024202  0.023801  0.025244  0.025122  0.021450  0.018870  0.017375   \n",
       "155316  0.196542  0.175911  0.152180  0.142664  0.140520  0.136186  0.171844   \n",
       "155317  0.073941  0.072122  0.074395  0.076910  0.077558  0.078151  0.076024   \n",
       "155318  0.125577  0.114014  0.104968  0.097456  0.094659  0.112066  0.122239   \n",
       "155319  0.077798  0.070611  0.071213  0.073995  0.073004  0.075254  0.081455   \n",
       "\n",
       "            1291  \n",
       "2       0.000000  \n",
       "3       0.121850  \n",
       "5       0.107188  \n",
       "10      0.000000  \n",
       "134     0.090875  \n",
       "...          ...  \n",
       "155315  0.018515  \n",
       "155316  0.185346  \n",
       "155317  0.077503  \n",
       "155318  0.115811  \n",
       "155319  0.069464  \n",
       "\n",
       "[49229 rows x 1293 columns]"
      ]
     },
     "execution_count": 4,
     "metadata": {},
     "output_type": "execute_result"
    }
   ],
   "source": [
    "df = pd.merge(df1.TRACK_genre_top_num, df0, left_index=True, right_index=True)\n",
    "\n",
    "#per la ram\n",
    "df0 = None\n",
    "df1  =None\n",
    "\n",
    "df"
   ]
  },
  {
   "cell_type": "code",
   "execution_count": null,
   "metadata": {},
   "outputs": [],
   "source": []
  },
  {
   "cell_type": "code",
   "execution_count": 5,
   "metadata": {
    "ExecuteTime": {
     "end_time": "2021-04-28T09:20:30.541413Z",
     "start_time": "2021-04-28T09:20:30.527410Z"
    }
   },
   "outputs": [
    {
     "data": {
      "text/plain": [
       "88"
      ]
     },
     "execution_count": 5,
     "metadata": {},
     "output_type": "execute_result"
    }
   ],
   "source": [
    "#Ho 1292 sample estratti facendo la media ogni 512 posizioni di 1024 valori.\n",
    "#I sample originali erano 22050*30s\n",
    "#Ogni sample estratto rappresenta 23.22 ms di canzone\n",
    "#Con shapelet lunghe 44 rappresento 1,02s di canzone, di conseguenza definisco:\n",
    "\n",
    "LEN_S = list()\n",
    "\n",
    "for i in range(30):\n",
    "    LEN_S.append(44*i)\n",
    "\n",
    "#Si usa mettendo nelle [] il numero di secondi\n",
    "LEN_S[2]"
   ]
  },
  {
   "cell_type": "code",
   "execution_count": null,
   "metadata": {},
   "outputs": [],
   "source": []
  },
  {
   "cell_type": "code",
   "execution_count": null,
   "metadata": {},
   "outputs": [],
   "source": []
  },
  {
   "cell_type": "code",
   "execution_count": 6,
   "metadata": {
    "ExecuteTime": {
     "end_time": "2021-04-28T09:20:40.059827Z",
     "start_time": "2021-04-28T09:20:30.573918Z"
    }
   },
   "outputs": [
    {
     "name": "stdout",
     "output_type": "stream",
     "text": [
      "Resampled dataset shape Counter({0: 12730, 1: 12730})\n"
     ]
    }
   ],
   "source": [
    "class_name = 'TRACK_genre_top_num'\n",
    "\n",
    "X = df.drop(columns=[\"TRACK_genre_top_num\"]).values\n",
    "y = df[class_name]\n",
    "\n",
    "scaler = TimeSeriesScalerMeanVariance(mu=0, std=1.)\n",
    "X = scaler.fit_transform(X).reshape(X.shape[0], X.shape[1])\n",
    "\n",
    "scaler = TimeSeriesScalerMinMax()\n",
    "X = scaler.fit_transform(X).reshape(X.shape[0], X.shape[1])\n",
    "\n",
    "X_train, X_test, y_train, y_test = train_test_split(X, y, test_size=0.1, random_state=100, stratify=y)\n",
    "#X_train, X_val, y_train, y_val = train_test_split(X_train, y_train, test_size=0.1)\n",
    "\n",
    "rus = RandomUnderSampler(random_state=42)\n",
    "X_res, y_res = rus.fit_resample(X_train, y_train)\n",
    "print('Resampled dataset shape %s' % Counter(y_res))"
   ]
  },
  {
   "cell_type": "code",
   "execution_count": null,
   "metadata": {},
   "outputs": [],
   "source": []
  },
  {
   "cell_type": "code",
   "execution_count": null,
   "metadata": {},
   "outputs": [],
   "source": []
  },
  {
   "cell_type": "code",
   "execution_count": 7,
   "metadata": {
    "ExecuteTime": {
     "end_time": "2021-04-28T09:20:46.957645Z",
     "start_time": "2021-04-28T09:20:45.026858Z"
    }
   },
   "outputs": [
    {
     "name": "stderr",
     "output_type": "stream",
     "text": [
      "C:\\Users\\cri98\\anaconda3\\lib\\site-packages\\tslearn\\clustering\\kmeans.py:16: UserWarning: Scikit-learn <0.24 will be deprecated in a future release of tslearn\n",
      "  warnings.warn(\n"
     ]
    }
   ],
   "source": [
    "from keras.optimizers import Adagrad\n",
    "from tslearn.shapelets import ShapeletModel\n",
    "from tslearn.shapelets import grabocka_params_to_shapelet_size_dict"
   ]
  },
  {
   "cell_type": "code",
   "execution_count": 8,
   "metadata": {
    "ExecuteTime": {
     "end_time": "2021-04-28T09:20:47.004152Z",
     "start_time": "2021-04-28T09:20:46.990650Z"
    }
   },
   "outputs": [
    {
     "name": "stdout",
     "output_type": "stream",
     "text": [
      "n_ts 49229\n",
      "ts_sz 1292\n",
      "n_classes 2\n",
      "shapelet_sizes {43: 7}\n"
     ]
    }
   ],
   "source": [
    "n_ts, ts_sz = X.shape\n",
    "n_classes = len(set(y))\n",
    "\n",
    "# Set the number of shapelets per size as done in the original paper\n",
    "shapelet_sizes = grabocka_params_to_shapelet_size_dict(n_ts=n_ts,\n",
    "                                                       ts_sz=ts_sz,\n",
    "                                                       n_classes=n_classes,\n",
    "                                                       l=1/30, #1s\n",
    "                                                       r=1)\n",
    "\n",
    "print('n_ts', n_ts)\n",
    "print('ts_sz', ts_sz)\n",
    "print('n_classes', n_classes)\n",
    "print('shapelet_sizes', shapelet_sizes)"
   ]
  },
  {
   "cell_type": "markdown",
   "metadata": {},
   "source": [
    "def prova(reg):\n",
    "    print(reg)\n",
    "    shp_clf = ShapeletModel(n_shapelets_per_size=shapelet_sizes,\n",
    "                            optimizer=\"AdaDelta\",\n",
    "                            weight_regularizer=reg,\n",
    "                            max_iter=50, #.01 f .86 <--> .025 t .82\n",
    "                            scale = True,\n",
    "                            verbose=1)\n",
    "\n",
    "    shp_clf.fit(X_res, y_res)\n",
    "    \n",
    "    y_pred = shp_clf.predict(X_test)\n",
    "    return accuracy_score(y_test, y_pred)\n",
    "\n",
    "#result = {}\n",
    "for i in range(30, 30+1, 5):\n",
    "    result[i/1000.0] = prova(i/1000.0)"
   ]
  },
  {
   "cell_type": "markdown",
   "metadata": {},
   "source": [
    "result"
   ]
  },
  {
   "cell_type": "code",
   "execution_count": 9,
   "metadata": {
    "ExecuteTime": {
     "end_time": "2021-04-28T09:21:58.245387Z",
     "start_time": "2021-04-28T09:20:51.302793Z"
    },
    "scrolled": true
   },
   "outputs": [
    {
     "name": "stderr",
     "output_type": "stream",
     "text": [
      "C:\\Users\\cri98\\anaconda3\\lib\\site-packages\\tslearn\\shapelets\\shapelets.py:354: FutureWarning: The default value for 'scale' is set to False in version 0.4 to ensure backward compatibility, but is likely to change in a future version.\n",
      "  warnings.warn(\"The default value for 'scale' is set to False \"\n"
     ]
    },
    {
     "name": "stdout",
     "output_type": "stream",
     "text": [
      "Epoch 1/50\n",
      "100/100 [==============================] - 3s 11ms/step - loss: 0.6960 - binary_accuracy: 0.6300 - binary_crossentropy: 0.6878\n",
      "Epoch 2/50\n",
      "100/100 [==============================] - 1s 10ms/step - loss: 0.6963 - binary_accuracy: 0.6225 - binary_crossentropy: 0.6882\n",
      "Epoch 3/50\n",
      "100/100 [==============================] - 1s 10ms/step - loss: 0.6960 - binary_accuracy: 0.6249 - binary_crossentropy: 0.6878\n",
      "Epoch 4/50\n",
      "100/100 [==============================] - 1s 10ms/step - loss: 0.6963 - binary_accuracy: 0.6232 - binary_crossentropy: 0.6881\n",
      "Epoch 5/50\n",
      "100/100 [==============================] - 1s 10ms/step - loss: 0.6962 - binary_accuracy: 0.6249 - binary_crossentropy: 0.6881\n",
      "Epoch 6/50\n",
      "100/100 [==============================] - 1s 10ms/step - loss: 0.6958 - binary_accuracy: 0.6329 - binary_crossentropy: 0.6876\n",
      "Epoch 7/50\n",
      "100/100 [==============================] - 1s 10ms/step - loss: 0.6960 - binary_accuracy: 0.6272 - binary_crossentropy: 0.6878\n",
      "Epoch 8/50\n",
      "100/100 [==============================] - 1s 10ms/step - loss: 0.6961 - binary_accuracy: 0.6284 - binary_crossentropy: 0.6880\n",
      "Epoch 9/50\n",
      "100/100 [==============================] - 1s 10ms/step - loss: 0.6962 - binary_accuracy: 0.6232 - binary_crossentropy: 0.6881\n",
      "Epoch 10/50\n",
      "100/100 [==============================] - 1s 10ms/step - loss: 0.6961 - binary_accuracy: 0.6256 - binary_crossentropy: 0.6880\n",
      "Epoch 11/50\n",
      "100/100 [==============================] - 1s 10ms/step - loss: 0.6960 - binary_accuracy: 0.6299 - binary_crossentropy: 0.6879\n",
      "Epoch 12/50\n",
      "100/100 [==============================] - 1s 10ms/step - loss: 0.6959 - binary_accuracy: 0.6283 - binary_crossentropy: 0.6878\n",
      "Epoch 13/50\n",
      "100/100 [==============================] - 1s 10ms/step - loss: 0.6961 - binary_accuracy: 0.6305 - binary_crossentropy: 0.6880\n",
      "Epoch 14/50\n",
      "100/100 [==============================] - 1s 10ms/step - loss: 0.6959 - binary_accuracy: 0.6301 - binary_crossentropy: 0.6878\n",
      "Epoch 15/50\n",
      "100/100 [==============================] - 1s 10ms/step - loss: 0.6960 - binary_accuracy: 0.6273 - binary_crossentropy: 0.6879\n",
      "Epoch 16/50\n",
      "100/100 [==============================] - 1s 10ms/step - loss: 0.6960 - binary_accuracy: 0.6290 - binary_crossentropy: 0.6879\n",
      "Epoch 17/50\n",
      "100/100 [==============================] - 1s 10ms/step - loss: 0.6959 - binary_accuracy: 0.6271 - binary_crossentropy: 0.6878\n",
      "Epoch 18/50\n",
      "100/100 [==============================] - 1s 10ms/step - loss: 0.6961 - binary_accuracy: 0.6238 - binary_crossentropy: 0.6881\n",
      "Epoch 19/50\n",
      "100/100 [==============================] - 1s 10ms/step - loss: 0.6956 - binary_accuracy: 0.6334 - binary_crossentropy: 0.6876\n",
      "Epoch 20/50\n",
      "100/100 [==============================] - 1s 10ms/step - loss: 0.6957 - binary_accuracy: 0.6279 - binary_crossentropy: 0.6877\n",
      "Epoch 21/50\n",
      "100/100 [==============================] - 1s 10ms/step - loss: 0.6961 - binary_accuracy: 0.6271 - binary_crossentropy: 0.6881\n",
      "Epoch 22/50\n",
      "100/100 [==============================] - 1s 10ms/step - loss: 0.6961 - binary_accuracy: 0.6239 - binary_crossentropy: 0.6881\n",
      "Epoch 23/50\n",
      "100/100 [==============================] - 1s 10ms/step - loss: 0.6956 - binary_accuracy: 0.6331 - binary_crossentropy: 0.6876\n",
      "Epoch 24/50\n",
      "100/100 [==============================] - 1s 10ms/step - loss: 0.6959 - binary_accuracy: 0.6276 - binary_crossentropy: 0.6879\n",
      "Epoch 25/50\n",
      "100/100 [==============================] - 1s 10ms/step - loss: 0.6960 - binary_accuracy: 0.6232 - binary_crossentropy: 0.6880\n",
      "Epoch 26/50\n",
      "100/100 [==============================] - 1s 10ms/step - loss: 0.6957 - binary_accuracy: 0.6279 - binary_crossentropy: 0.6877\n",
      "Epoch 27/50\n",
      "100/100 [==============================] - 1s 10ms/step - loss: 0.6960 - binary_accuracy: 0.6219 - binary_crossentropy: 0.6880\n",
      "Epoch 28/50\n",
      "100/100 [==============================] - 1s 10ms/step - loss: 0.6960 - binary_accuracy: 0.6278 - binary_crossentropy: 0.6880\n",
      "Epoch 29/50\n",
      "100/100 [==============================] - 1s 10ms/step - loss: 0.6960 - binary_accuracy: 0.6272 - binary_crossentropy: 0.6880\n",
      "Epoch 30/50\n",
      "100/100 [==============================] - 1s 10ms/step - loss: 0.6960 - binary_accuracy: 0.6238 - binary_crossentropy: 0.6880\n",
      "Epoch 31/50\n",
      "100/100 [==============================] - 1s 10ms/step - loss: 0.6959 - binary_accuracy: 0.6260 - binary_crossentropy: 0.6880\n",
      "Epoch 32/50\n",
      "100/100 [==============================] - 1s 10ms/step - loss: 0.6959 - binary_accuracy: 0.6279 - binary_crossentropy: 0.6879\n",
      "Epoch 33/50\n",
      "100/100 [==============================] - 1s 10ms/step - loss: 0.6957 - binary_accuracy: 0.6240 - binary_crossentropy: 0.6878\n",
      "Epoch 34/50\n",
      "100/100 [==============================] - 1s 11ms/step - loss: 0.6958 - binary_accuracy: 0.6264 - binary_crossentropy: 0.6879\n",
      "Epoch 35/50\n",
      "100/100 [==============================] - 1s 11ms/step - loss: 0.6957 - binary_accuracy: 0.6267 - binary_crossentropy: 0.6878\n",
      "Epoch 36/50\n",
      "100/100 [==============================] - 1s 10ms/step - loss: 0.6954 - binary_accuracy: 0.6328 - binary_crossentropy: 0.6875\n",
      "Epoch 37/50\n",
      "100/100 [==============================] - 1s 10ms/step - loss: 0.6959 - binary_accuracy: 0.6270 - binary_crossentropy: 0.6880\n",
      "Epoch 38/50\n",
      "100/100 [==============================] - 1s 10ms/step - loss: 0.6958 - binary_accuracy: 0.6300 - binary_crossentropy: 0.6879\n",
      "Epoch 39/50\n",
      "100/100 [==============================] - 1s 11ms/step - loss: 0.6958 - binary_accuracy: 0.6266 - binary_crossentropy: 0.6879\n",
      "Epoch 40/50\n",
      "100/100 [==============================] - 1s 10ms/step - loss: 0.6957 - binary_accuracy: 0.6261 - binary_crossentropy: 0.6878\n",
      "Epoch 41/50\n",
      "100/100 [==============================] - 1s 10ms/step - loss: 0.6957 - binary_accuracy: 0.6303 - binary_crossentropy: 0.6878\n",
      "Epoch 42/50\n",
      "100/100 [==============================] - 1s 10ms/step - loss: 0.6958 - binary_accuracy: 0.6305 - binary_crossentropy: 0.6879\n",
      "Epoch 43/50\n",
      "100/100 [==============================] - 1s 10ms/step - loss: 0.6957 - binary_accuracy: 0.6267 - binary_crossentropy: 0.6879\n",
      "Epoch 44/50\n",
      "100/100 [==============================] - 1s 11ms/step - loss: 0.6959 - binary_accuracy: 0.6261 - binary_crossentropy: 0.6881\n",
      "Epoch 45/50\n",
      "100/100 [==============================] - 1s 10ms/step - loss: 0.6958 - binary_accuracy: 0.6266 - binary_crossentropy: 0.6880\n",
      "Epoch 46/50\n",
      "100/100 [==============================] - 1s 10ms/step - loss: 0.6956 - binary_accuracy: 0.6297 - binary_crossentropy: 0.6878\n",
      "Epoch 47/50\n",
      "100/100 [==============================] - 1s 10ms/step - loss: 0.6954 - binary_accuracy: 0.6320 - binary_crossentropy: 0.6876\n",
      "Epoch 48/50\n",
      "100/100 [==============================] - 1s 10ms/step - loss: 0.6955 - binary_accuracy: 0.6298 - binary_crossentropy: 0.6877\n",
      "Epoch 49/50\n",
      "100/100 [==============================] - 1s 11ms/step - loss: 0.6956 - binary_accuracy: 0.6273 - binary_crossentropy: 0.6878\n",
      "Epoch 50/50\n",
      "100/100 [==============================] - 1s 10ms/step - loss: 0.6957 - binary_accuracy: 0.6252 - binary_crossentropy: 0.6880\n",
      "20/20 [==============================] - 0s 6ms/step\n"
     ]
    }
   ],
   "source": [
    "#migliore .01 f .86\n",
    "shp_clf = ShapeletModel(n_shapelets_per_size=shapelet_sizes,\n",
    "                            optimizer=\"AdaDelta\",\n",
    "                            weight_regularizer=.01,\n",
    "                            max_iter=50,\n",
    "                            verbose=1)\n",
    "\n",
    "shp_clf.fit(X_res, y_res)\n",
    "\n",
    "y_pred = shp_clf.predict(X_test)"
   ]
  },
  {
   "cell_type": "code",
   "execution_count": 10,
   "metadata": {
    "ExecuteTime": {
     "end_time": "2021-04-28T09:23:35.013899Z",
     "start_time": "2021-04-28T09:23:35.000396Z"
    }
   },
   "outputs": [
    {
     "name": "stdout",
     "output_type": "stream",
     "text": [
      "Accuracy 0.5805403209425147\n",
      "F1-score [0.63483643 0.5072775 ]\n",
      "              precision    recall  f1-score   support\n",
      "\n",
      "           0       0.84      0.51      0.63      3508\n",
      "           1       0.38      0.75      0.51      1415\n",
      "\n",
      "    accuracy                           0.58      4923\n",
      "   macro avg       0.61      0.63      0.57      4923\n",
      "weighted avg       0.71      0.58      0.60      4923\n",
      "\n"
     ]
    }
   ],
   "source": [
    "print('Accuracy %s' % accuracy_score(y_test, y_pred))\n",
    "print('F1-score %s' % f1_score(y_test, y_pred, average=None))\n",
    "print(classification_report(y_test, y_pred))"
   ]
  },
  {
   "cell_type": "code",
   "execution_count": null,
   "metadata": {
    "ExecuteTime": {
     "end_time": "2021-04-28T09:24:58.046670Z",
     "start_time": "2021-04-28T09:24:57.912650Z"
    }
   },
   "outputs": [],
   "source": []
  },
  {
   "cell_type": "code",
   "execution_count": null,
   "metadata": {},
   "outputs": [],
   "source": []
  },
  {
   "cell_type": "code",
   "execution_count": 11,
   "metadata": {
    "ExecuteTime": {
     "end_time": "2021-04-28T09:23:49.122282Z",
     "start_time": "2021-04-28T09:23:40.600516Z"
    }
   },
   "outputs": [
    {
     "name": "stdout",
     "output_type": "stream",
     "text": [
      "193/193 [==============================] - 1s 6ms/step\n",
      "193/193 [==============================] - 1s 5ms/step\n",
      "Correct classification rate: 0.5751894208698125\n"
     ]
    }
   ],
   "source": [
    "from sklearn.metrics import accuracy_score\n",
    "\n",
    "predicted_labels = shp_clf.predict(X)\n",
    "predicted_locations = shp_clf.locate(X)\n",
    "print(\"Correct classification rate:\", accuracy_score(y, predicted_labels))"
   ]
  },
  {
   "cell_type": "code",
   "execution_count": 12,
   "metadata": {
    "ExecuteTime": {
     "end_time": "2021-04-28T09:23:49.323819Z",
     "start_time": "2021-04-28T09:23:49.171290Z"
    }
   },
   "outputs": [
    {
     "data": {
      "image/png": "[encoded data removed]",
      "text/plain": [
       "<Figure size 432x288 with 1 Axes>"
      ]
     },
     "metadata": {
      "needs_background": "light"
     },
     "output_type": "display_data"
    }
   ],
   "source": [
    "ts_id = 0\n",
    "plt.figure()\n",
    "n_shapelets = sum(shapelet_sizes.values())\n",
    "plt.title(\"Example locations of shapelet matches \"\n",
    "          \"(%d shapelets extracted)\".format(n_shapelets))\n",
    "\n",
    "plt.plot(X[ts_id].ravel())\n",
    "for idx_shp, shp in enumerate(shp_clf.shapelets_):\n",
    "    t0 = predicted_locations[ts_id, idx_shp]\n",
    "    plt.plot(np.arange(t0, t0 + len(shp)), shp, linewidth=2)"
   ]
  },
  {
   "cell_type": "code",
   "execution_count": 13,
   "metadata": {
    "ExecuteTime": {
     "end_time": "2021-04-28T09:23:50.052420Z",
     "start_time": "2021-04-28T09:23:49.372328Z"
    },
    "scrolled": false
   },
   "outputs": [
    {
     "name": "stdout",
     "output_type": "stream",
     "text": [
      "0\n"
     ]
    },
    {
     "data": {
      "image/png": "[encoded data removed]",
      "text/plain": [
       "<Figure size 432x288 with 1 Axes>"
      ]
     },
     "metadata": {
      "needs_background": "light"
     },
     "output_type": "display_data"
    },
    {
     "name": "stdout",
     "output_type": "stream",
     "text": [
      "1\n"
     ]
    },
    {
     "data": {
      "image/png": "[encoded data removed]",
      "text/plain": [
       "<Figure size 432x288 with 1 Axes>"
      ]
     },
     "metadata": {
      "needs_background": "light"
     },
     "output_type": "display_data"
    },
    {
     "name": "stdout",
     "output_type": "stream",
     "text": [
      "2\n"
     ]
    },
    {
     "data": {
      "image/png": "[encoded data removed]",
      "text/plain": [
       "<Figure size 432x288 with 1 Axes>"
      ]
     },
     "metadata": {
      "needs_background": "light"
     },
     "output_type": "display_data"
    },
    {
     "name": "stdout",
     "output_type": "stream",
     "text": [
      "3\n"
     ]
    },
    {
     "data": {
      "image/png": "[encoded data removed]",
      "text/plain": [
       "<Figure size 432x288 with 1 Axes>"
      ]
     },
     "metadata": {
      "needs_background": "light"
     },
     "output_type": "display_data"
    },
    {
     "name": "stdout",
     "output_type": "stream",
     "text": [
      "4\n"
     ]
    },
    {
     "data": {
      "image/png": "[encoded data removed]",
      "text/plain": [
       "<Figure size 432x288 with 1 Axes>"
      ]
     },
     "metadata": {
      "needs_background": "light"
     },
     "output_type": "display_data"
    },
    {
     "name": "stdout",
     "output_type": "stream",
     "text": [
      "5\n"
     ]
    },
    {
     "data": {
      "image/png": "[encoded data removed]",
      "text/plain": [
       "<Figure size 432x288 with 1 Axes>"
      ]
     },
     "metadata": {
      "needs_background": "light"
     },
     "output_type": "display_data"
    },
    {
     "name": "stdout",
     "output_type": "stream",
     "text": [
      "6\n"
     ]
    },
    {
     "data": {
      "image/png": "[encoded data removed]",
      "text/plain": [
       "<Figure size 432x288 with 1 Axes>"
      ]
     },
     "metadata": {
      "needs_background": "light"
     },
     "output_type": "display_data"
    }
   ],
   "source": [
    "for idx_shp, shp in enumerate(shp_clf.shapelets_):\n",
    "    plt.plot(X[ts_id].ravel())\n",
    "    t0 = predicted_locations[ts_id, idx_shp]\n",
    "    plt.plot(np.arange(t0, t0 + len(shp)), shp, linewidth=2)\n",
    "    print(idx_shp)\n",
    "    plt.show()"
   ]
  },
  {
   "cell_type": "code",
   "execution_count": null,
   "metadata": {},
   "outputs": [],
   "source": []
  },
  {
   "cell_type": "markdown",
   "metadata": {},
   "source": [
    "# Shaplet-distances-based Classifier\n"
   ]
  },
  {
   "cell_type": "markdown",
   "metadata": {},
   "source": [
    "## KNN"
   ]
  },
  {
   "cell_type": "code",
   "execution_count": 14,
   "metadata": {
    "ExecuteTime": {
     "end_time": "2021-04-28T09:24:01.414388Z",
     "start_time": "2021-04-28T09:24:01.398885Z"
    }
   },
   "outputs": [],
   "source": [
    "from sklearn.neighbors import KNeighborsClassifier"
   ]
  },
  {
   "cell_type": "code",
   "execution_count": 15,
   "metadata": {
    "ExecuteTime": {
     "end_time": "2021-04-28T09:24:06.731640Z",
     "start_time": "2021-04-28T09:24:01.690382Z"
    }
   },
   "outputs": [
    {
     "name": "stdout",
     "output_type": "stream",
     "text": [
      "174/174 [==============================] - 1s 6ms/step\n",
      "100/100 [==============================] - 1s 6ms/step\n",
      "20/20 [==============================] - 0s 6ms/step\n"
     ]
    },
    {
     "data": {
      "text/plain": [
       "(44306, 7)"
      ]
     },
     "execution_count": 15,
     "metadata": {},
     "output_type": "execute_result"
    }
   ],
   "source": [
    "X_train2 = shp_clf.transform(X_train)\n",
    "X_res2 = shp_clf.transform(X_res)\n",
    "X_test2 = shp_clf.transform(X_test)\n",
    "\n",
    "X_train2.shape"
   ]
  },
  {
   "cell_type": "raw",
   "metadata": {
    "ExecuteTime": {
     "end_time": "2021-04-28T09:31:20.430892Z",
     "start_time": "2021-04-28T09:30:16.851774Z"
    }
   },
   "source": [
    "param_grid = {'weights': ['uniform', 'distance'],\n",
    "              'n_neighbors': range(80, 135 +1, 1), #range originale 1 --> 200 +1\n",
    "              'p': [1, 2]\n",
    "             }\n",
    "\n",
    "clf = KNeighborsClassifier()\n",
    "\n",
    "\n",
    "grid_search = GridSearchCV(clf, param_grid, n_jobs=-1, verbose=10, scoring='accuracy', cv=5)\n",
    "grid_search.fit(X_train2, y_train)"
   ]
  },
  {
   "cell_type": "raw",
   "metadata": {
    "ExecuteTime": {
     "end_time": "2021-04-28T09:41:37.370780Z",
     "start_time": "2021-04-28T09:41:37.367279Z"
    }
   },
   "source": [
    "report(grid_search.cv_results_, n_top=10)"
   ]
  },
  {
   "cell_type": "code",
   "execution_count": 28,
   "metadata": {
    "ExecuteTime": {
     "end_time": "2021-04-28T09:41:56.499678Z",
     "start_time": "2021-04-28T09:41:56.101614Z"
    }
   },
   "outputs": [
    {
     "name": "stdout",
     "output_type": "stream",
     "text": [
      "Accuracy 0.7265894779605931\n",
      "F1-score [0.82831633 0.32901296]\n",
      "              precision    recall  f1-score   support\n",
      "\n",
      "           0       0.75      0.93      0.83      3508\n",
      "           1       0.56      0.23      0.33      1415\n",
      "\n",
      "    accuracy                           0.73      4923\n",
      "   macro avg       0.65      0.58      0.58      4923\n",
      "weighted avg       0.69      0.73      0.68      4923\n",
      "\n"
     ]
    }
   ],
   "source": [
    "#clf = KNeighborsClassifier(n_neighbors=91, p=1, weights='distance') #migliore bilanciato (.653)\n",
    "\n",
    "clf = KNeighborsClassifier(n_neighbors=109, p=1, weights='distance', n_jobs=-1) #migliore sbilanciato (.719)\n",
    "\n",
    "clf.fit(X_train2, y_train)\n",
    "\n",
    "y_pred = clf.predict(X_test2)\n",
    "\n",
    "print('Accuracy %s' % accuracy_score(y_test, y_pred))\n",
    "print('F1-score %s' % f1_score(y_test, y_pred, average=None))\n",
    "print(classification_report(y_test, y_pred))\n"
   ]
  },
  {
   "cell_type": "raw",
   "metadata": {
    "ExecuteTime": {
     "end_time": "2021-04-28T09:54:47.610794Z",
     "start_time": "2021-04-28T09:51:04.242305Z"
    }
   },
   "source": [
    "param_grid = {'criterion': ['gini', 'entropy'],\n",
    "              'max_depth': [None] + list(range(5, 15 +1, 1)), #range originale 4, 40+1, 4\n",
    "              'min_samples_split': range(2, 40 +1, 5), #2, 150+1, 10\n",
    "              'min_samples_leaf': range(110, 140 +1, 2), #2, 150+1, 10\n",
    "              'class_weight': ['balanced']\n",
    "             }\n",
    "\n",
    "clf = DecisionTreeClassifier()\n",
    "\n",
    "\n",
    "grid_search = GridSearchCV(clf, param_grid, n_jobs=-1, verbose=10, scoring='accuracy', cv=5)\n",
    "grid_search.fit(X_train2, y_train)"
   ]
  },
  {
   "cell_type": "raw",
   "metadata": {
    "ExecuteTime": {
     "end_time": "2021-04-28T09:54:52.093220Z",
     "start_time": "2021-04-28T09:54:52.078719Z"
    }
   },
   "source": [
    "report(grid_search.cv_results_, n_top=10)"
   ]
  },
  {
   "cell_type": "code",
   "execution_count": 35,
   "metadata": {
    "ExecuteTime": {
     "end_time": "2021-04-28T09:55:23.665672Z",
     "start_time": "2021-04-28T09:55:23.508147Z"
    }
   },
   "outputs": [
    {
     "name": "stdout",
     "output_type": "stream",
     "text": [
      "Accuracy 0.6270566727605119\n",
      "F1-score [0.69307924 0.52484472]\n",
      "              precision    recall  f1-score   support\n",
      "\n",
      "           0       0.84      0.59      0.69      3508\n",
      "           1       0.41      0.72      0.52      1415\n",
      "\n",
      "    accuracy                           0.63      4923\n",
      "   macro avg       0.63      0.65      0.61      4923\n",
      "weighted avg       0.72      0.63      0.64      4923\n",
      "\n"
     ]
    }
   ],
   "source": [
    "from sklearn.tree import DecisionTreeClassifier\n",
    "\n",
    "#clf = DecisionTreeClassifier(max_depth=None, random_state=42, class_weight='balanced', criterion='entropy', min_samples_leaf=136, min_samples_split=2) #migliore sbilanciato .634\n",
    "clf = DecisionTreeClassifier(max_depth=6, random_state=42, criterion='entropy', min_samples_leaf=112, min_samples_split=2) #migliore bilanciato 652\n",
    "\n",
    "clf.fit(X_res2, y_res)\n",
    "\n",
    "y_pred = clf.predict(X_test2)\n",
    "\n",
    "print('Accuracy %s' % accuracy_score(y_test, y_pred))\n",
    "print('F1-score %s' % f1_score(y_test, y_pred, average=None))\n",
    "print(classification_report(y_test, y_pred))"
   ]
  },
  {
   "cell_type": "markdown",
   "metadata": {},
   "source": [
    "# Feature-based Classifier"
   ]
  },
  {
   "cell_type": "code",
   "execution_count": 36,
   "metadata": {
    "ExecuteTime": {
     "end_time": "2021-04-28T09:56:42.517950Z",
     "start_time": "2021-04-28T09:55:32.552021Z"
    }
   },
   "outputs": [
    {
     "data": {
      "text/plain": [
       "(44306, 12)"
      ]
     },
     "execution_count": 36,
     "metadata": {},
     "output_type": "execute_result"
    }
   ],
   "source": [
    "import scipy.stats as stats\n",
    "\n",
    "def calculate_features(values):\n",
    "    features = {\n",
    "        'avg': np.mean(values),\n",
    "        'std': np.std(values),\n",
    "        'var': np.var(values),\n",
    "        'med': np.median(values),\n",
    "        '10p': np.percentile(values, 10),\n",
    "        '25p': np.percentile(values, 25),\n",
    "        '50p': np.percentile(values, 50),\n",
    "        '75p': np.percentile(values, 75),\n",
    "        '90p': np.percentile(values, 90),\n",
    "        'iqr': np.percentile(values, 75) - np.percentile(values, 25),\n",
    "        #'cov': 1.0 * np.mean(values) / np.std(values),\n",
    "        'skw': stats.skew(values),\n",
    "        'kur': stats.kurtosis(values)\n",
    "    }\n",
    "\n",
    "    return features\n",
    "\n",
    "X_train3 = np.array([list(calculate_features(x).values()) for x in X_train])\n",
    "X_res3 = np.array([list(calculate_features(x).values()) for x in X_res])\n",
    "X_test3 = np.array([list(calculate_features(x).values()) for x in X_test])\n",
    "\n",
    "X_train3.shape"
   ]
  },
  {
   "cell_type": "code",
   "execution_count": null,
   "metadata": {
    "ExecuteTime": {
     "end_time": "2021-04-28T10:01:26.816314Z",
     "start_time": "2021-04-28T10:00:25.493797Z"
    }
   },
   "outputs": [],
   "source": [
    "param_grid = {'criterion': ['gini', 'entropy'],\n",
    "              'max_depth': [None] + list(range(1, 10 +1, 1)), #range originale 4, 40+1, 4\n",
    "              'min_samples_split': range(2, 20 +1, 5), #2, 150+1, 10\n",
    "              'min_samples_leaf': range(130, 200 +1, 5), #2, 150+1, 10\n",
    "              'class_weight': ['balanced']\n",
    "             }\n",
    "\n",
    "clf = DecisionTreeClassifier()\n",
    "\n",
    "\n",
    "grid_search = GridSearchCV(clf, param_grid, n_jobs=-1, verbose=10, scoring='accuracy', cv=5)\n",
    "grid_search.fit(X_res3, y_res)"
   ]
  },
  {
   "cell_type": "raw",
   "metadata": {
    "ExecuteTime": {
     "end_time": "2021-04-28T10:01:26.878059Z",
     "start_time": "2021-04-28T10:01:26.864557Z"
    }
   },
   "source": [
    "report(grid_search.cv_results_, n_top=10)"
   ]
  },
  {
   "cell_type": "code",
   "execution_count": 42,
   "metadata": {
    "ExecuteTime": {
     "end_time": "2021-04-28T10:02:49.015943Z",
     "start_time": "2021-04-28T10:02:48.676388Z"
    }
   },
   "outputs": [
    {
     "name": "stdout",
     "output_type": "stream",
     "text": [
      "Accuracy 0.6630103595368677\n",
      "F1-score [0.73745846 0.52962858]\n",
      "              precision    recall  f1-score   support\n",
      "\n",
      "           0       0.83      0.66      0.74      3508\n",
      "           1       0.44      0.66      0.53      1415\n",
      "\n",
      "    accuracy                           0.66      4923\n",
      "   macro avg       0.64      0.66      0.63      4923\n",
      "weighted avg       0.72      0.66      0.68      4923\n",
      "\n"
     ]
    }
   ],
   "source": [
    "#clf = DecisionTreeClassifier(criterion='entropy', max_depth=8, min_samples_leaf=185, min_samples_split=2) #Migliore bilanciato 0.658\n",
    "clf = DecisionTreeClassifier(class_weight='balanced', criterion='entropy', max_depth=4, min_samples_leaf=185, min_samples_split=2) #Migliore sbilanciato .665\n",
    "clf.fit(X_train3, y_train)\n",
    "\n",
    "y_pred = clf.predict(X_test3)\n",
    "\n",
    "print('Accuracy %s' % accuracy_score(y_test, y_pred))\n",
    "print('F1-score %s' % f1_score(y_test, y_pred, average=None))\n",
    "print(classification_report(y_test, y_pred))"
   ]
  },
  {
   "cell_type": "code",
   "execution_count": null,
   "metadata": {},
   "outputs": [],
   "source": []
  },
  {
   "cell_type": "markdown",
   "metadata": {},
   "source": [
    "# Time Series Classifier"
   ]
  },
  {
   "cell_type": "markdown",
   "metadata": {},
   "source": [
    "## KNN"
   ]
  },
  {
   "cell_type": "raw",
   "metadata": {
    "ExecuteTime": {
     "start_time": "2021-04-27T17:24:02.388Z"
    }
   },
   "source": [
    "param_grid = {'weights': ['distance'],\n",
    "              'n_neighbors': [50, 100, 150], #range originale 1 --> 200 +1\n",
    "              'p': [1, 2]\n",
    "             }\n",
    "\n",
    "clf = KNeighborsClassifier(n_jobs=11)\n",
    "\n",
    "\n",
    "grid_search = GridSearchCV(clf, param_grid, n_jobs=2, verbose=10, scoring='accuracy', cv=5)\n",
    "grid_search.fit(X_res, y_res)"
   ]
  },
  {
   "cell_type": "code",
   "execution_count": 67,
   "metadata": {
    "ExecuteTime": {
     "end_time": "2021-04-28T12:07:22.450486Z",
     "start_time": "2021-04-28T12:05:37.504271Z"
    }
   },
   "outputs": [
    {
     "name": "stdout",
     "output_type": "stream",
     "text": [
      "Accuracy 0.7154174283973187\n",
      "F1-score [0.83175213 0.07768269]\n",
      "              precision    recall  f1-score   support\n",
      "\n",
      "           0       0.72      0.99      0.83      3508\n",
      "           1       0.57      0.04      0.08      1415\n",
      "\n",
      "    accuracy                           0.72      4923\n",
      "   macro avg       0.64      0.51      0.45      4923\n",
      "weighted avg       0.68      0.72      0.62      4923\n",
      "\n"
     ]
    }
   ],
   "source": [
    "#clf = KNeighborsClassifier(n_neighbors=8, weights='uniform', n_jobs=-1) #.58 con uniforme e 8 vicini bilanciato\n",
    "clf = KNeighborsClassifier(n_neighbors=100, weights='distance', n_jobs=22) #.716 con distance e 100 vicini sbilanciato\n",
    "\n",
    "clf.fit(X_train, y_train)\n",
    "\n",
    "y_pred = clf.predict(X_test)\n",
    "\n",
    "print('Accuracy %s' % accuracy_score(y_test, y_pred))\n",
    "print('F1-score %s' % f1_score(y_test, y_pred, average=None))\n",
    "print(classification_report(y_test, y_pred))"
   ]
  },
  {
   "cell_type": "markdown",
   "metadata": {},
   "source": [
    "## DT"
   ]
  },
  {
   "cell_type": "code",
   "execution_count": 30,
   "metadata": {
    "ExecuteTime": {
     "end_time": "2021-04-27T22:15:18.767871Z",
     "start_time": "2021-04-27T22:13:44.750610Z"
    }
   },
   "outputs": [
    {
     "name": "stdout",
     "output_type": "stream",
     "text": [
      "Fitting 3 folds for each of 7 candidates, totalling 21 fits\n"
     ]
    },
    {
     "name": "stderr",
     "output_type": "stream",
     "text": [
      "[Parallel(n_jobs=-1)]: Using backend LokyBackend with 24 concurrent workers.\n",
      "[Parallel(n_jobs=-1)]: Done   4 out of  21 | elapsed:   33.5s remaining:  2.4min\n",
      "[Parallel(n_jobs=-1)]: Done   7 out of  21 | elapsed:   35.8s remaining:  1.2min\n",
      "[Parallel(n_jobs=-1)]: Done  10 out of  21 | elapsed:   39.8s remaining:   43.7s\n",
      "[Parallel(n_jobs=-1)]: Done  13 out of  21 | elapsed:   41.8s remaining:   25.7s\n",
      "[Parallel(n_jobs=-1)]: Done  16 out of  21 | elapsed:   43.8s remaining:   13.6s\n",
      "[Parallel(n_jobs=-1)]: Done  19 out of  21 | elapsed:   48.4s remaining:    5.0s\n",
      "[Parallel(n_jobs=-1)]: Done  21 out of  21 | elapsed:   50.4s finished\n"
     ]
    },
    {
     "data": {
      "text/plain": [
       "GridSearchCV(cv=3, estimator=DecisionTreeClassifier(), n_jobs=-1,\n",
       "             param_grid={'criterion': ['gini'],\n",
       "                         'max_depth': [None, 5, 6, 7, 8, 9, 10],\n",
       "                         'min_samples_leaf': [100], 'min_samples_split': [42]},\n",
       "             scoring='accuracy', verbose=10)"
      ]
     },
     "execution_count": 30,
     "metadata": {},
     "output_type": "execute_result"
    }
   ],
   "source": [
    "param_grid = {'criterion': ['gini'],\n",
    "              'max_depth': [None] + list(range(5, 10 +1, 1)), #[None] + list(range(5, 15 +1, 3))\n",
    "              'min_samples_split': [42], #range(2, 40 +1, 10)\n",
    "              'min_samples_leaf': [100], #100, 140+1, 20\n",
    "              #'class_weight': ['balanced'] #non conviene\n",
    "             }\n",
    "\n",
    "clf = DecisionTreeClassifier()\n",
    "\n",
    "\n",
    "grid_search = GridSearchCV(clf, param_grid, n_jobs=-1, verbose=10, scoring='accuracy', cv=3)\n",
    "grid_search.fit(X_train, y_train)"
   ]
  },
  {
   "cell_type": "code",
   "execution_count": 31,
   "metadata": {
    "ExecuteTime": {
     "end_time": "2021-04-27T22:15:18.876390Z",
     "start_time": "2021-04-27T22:15:18.863388Z"
    }
   },
   "outputs": [
    {
     "name": "stdout",
     "output_type": "stream",
     "text": [
      "Model with rank: 1\n",
      "Mean validation score: 0.714 (std: 0.002)\n",
      "Parameters: {'criterion': 'gini', 'max_depth': 8, 'min_samples_leaf': 100, 'min_samples_split': 42}\n",
      "\n",
      "Model with rank: 2\n",
      "Mean validation score: 0.713 (std: 0.002)\n",
      "Parameters: {'criterion': 'gini', 'max_depth': 7, 'min_samples_leaf': 100, 'min_samples_split': 42}\n",
      "\n",
      "Model with rank: 3\n",
      "Mean validation score: 0.713 (std: 0.007)\n",
      "Parameters: {'criterion': 'gini', 'max_depth': 9, 'min_samples_leaf': 100, 'min_samples_split': 42}\n",
      "\n",
      "Model with rank: 4\n",
      "Mean validation score: 0.711 (std: 0.002)\n",
      "Parameters: {'criterion': 'gini', 'max_depth': 6, 'min_samples_leaf': 100, 'min_samples_split': 42}\n",
      "\n",
      "Model with rank: 5\n",
      "Mean validation score: 0.709 (std: 0.003)\n",
      "Parameters: {'criterion': 'gini', 'max_depth': 5, 'min_samples_leaf': 100, 'min_samples_split': 42}\n",
      "\n",
      "Model with rank: 6\n",
      "Mean validation score: 0.708 (std: 0.002)\n",
      "Parameters: {'criterion': 'gini', 'max_depth': 10, 'min_samples_leaf': 100, 'min_samples_split': 42}\n",
      "\n",
      "Model with rank: 7\n",
      "Mean validation score: 0.694 (std: 0.002)\n",
      "Parameters: {'criterion': 'gini', 'max_depth': None, 'min_samples_leaf': 100, 'min_samples_split': 42}\n",
      "\n"
     ]
    }
   ],
   "source": [
    "report(grid_search.cv_results_, n_top=10) #sbil = .715 {'criterion': 'gini', 'max_depth': 8, 'min_samples_leaf': 140, 'min_samples_split': 2}"
   ]
  },
  {
   "cell_type": "code",
   "execution_count": 32,
   "metadata": {
    "ExecuteTime": {
     "end_time": "2021-04-27T22:18:39.509177Z",
     "start_time": "2021-04-27T22:17:57.066733Z"
    }
   },
   "outputs": [
    {
     "name": "stdout",
     "output_type": "stream",
     "text": [
      "Accuracy 0.7139955311801747\n",
      "F1-score [0.81728523 0.34205607]\n",
      "              precision    recall  f1-score   support\n",
      "\n",
      "           0       0.75      0.90      0.82      3508\n",
      "           1       0.50      0.26      0.34      1415\n",
      "\n",
      "    accuracy                           0.71      4923\n",
      "   macro avg       0.63      0.58      0.58      4923\n",
      "weighted avg       0.68      0.71      0.68      4923\n",
      "\n"
     ]
    }
   ],
   "source": [
    "clf = DecisionTreeClassifier(max_depth=8, min_samples_leaf=140, min_samples_split=2)\n",
    "clf.fit(X_train, y_train)\n",
    "\n",
    "y_pred = clf.predict(X_test)\n",
    "\n",
    "print('Accuracy %s' % accuracy_score(y_test, y_pred))\n",
    "print('F1-score %s' % f1_score(y_test, y_pred, average=None))\n",
    "print(classification_report(y_test, y_pred))"
   ]
  },
  {
   "cell_type": "markdown",
   "metadata": {},
   "source": [
    "## KNN pyts"
   ]
  },
  {
   "cell_type": "code",
   "execution_count": null,
   "metadata": {
    "ExecuteTime": {
     "start_time": "2021-04-28T08:49:44.191Z"
    }
   },
   "outputs": [],
   "source": [
    "from pyts.classification import KNeighborsClassifier\n",
    "\n",
    "clf = KNeighborsClassifier(metric='dtw_sakoechiba', n_jobs=22)\n",
    "clf.fit(X_res, y_res)\n",
    "\n",
    "y_pred = clf.predict(X_test)\n",
    "\n",
    "print('Accuracy %s' % accuracy_score(y_test, y_pred))\n",
    "print('F1-score %s' % f1_score(y_test, y_pred, average=None))\n",
    "print(classification_report(y_test, y_pred))"
   ]
  },
  {
   "cell_type": "code",
   "execution_count": null,
   "metadata": {},
   "outputs": [],
   "source": []
  },
  {
   "cell_type": "code",
   "execution_count": null,
   "metadata": {},
   "outputs": [],
   "source": []
  },
  {
   "cell_type": "code",
   "execution_count": null,
   "metadata": {},
   "outputs": [],
   "source": []
  },
  {
   "cell_type": "markdown",
   "metadata": {},
   "source": [
    "# Da Qui è OPZIONALE\n",
    "\n",
    "## CNN Classifier\n"
   ]
  },
  {
   "cell_type": "code",
   "execution_count": 39,
   "metadata": {
    "ExecuteTime": {
     "end_time": "2021-04-27T22:30:11.044254Z",
     "start_time": "2021-04-27T22:30:10.818714Z"
    }
   },
   "outputs": [
    {
     "name": "stdout",
     "output_type": "stream",
     "text": [
      "TIMESTEPS:  1292\n",
      "N. LABELS:  2\n",
      "Model: \"sequential_1\"\n",
      "_________________________________________________________________\n",
      "Layer (type)                 Output Shape              Param #   \n",
      "=================================================================\n",
      "conv1d_3 (Conv1D)            (None, 1285, 16)          144       \n",
      "_________________________________________________________________\n",
      "batch_normalization_3 (Batch (None, 1285, 16)          64        \n",
      "_________________________________________________________________\n",
      "activation_3 (Activation)    (None, 1285, 16)          0         \n",
      "_________________________________________________________________\n",
      "dropout_3 (Dropout)          (None, 1285, 16)          0         \n",
      "_________________________________________________________________\n",
      "conv1d_4 (Conv1D)            (None, 1281, 32)          2592      \n",
      "_________________________________________________________________\n",
      "batch_normalization_4 (Batch (None, 1281, 32)          128       \n",
      "_________________________________________________________________\n",
      "activation_4 (Activation)    (None, 1281, 32)          0         \n",
      "_________________________________________________________________\n",
      "dropout_4 (Dropout)          (None, 1281, 32)          0         \n",
      "_________________________________________________________________\n",
      "conv1d_5 (Conv1D)            (None, 1279, 64)          6208      \n",
      "_________________________________________________________________\n",
      "batch_normalization_5 (Batch (None, 1279, 64)          256       \n",
      "_________________________________________________________________\n",
      "activation_5 (Activation)    (None, 1279, 64)          0         \n",
      "_________________________________________________________________\n",
      "dropout_5 (Dropout)          (None, 1279, 64)          0         \n",
      "_________________________________________________________________\n",
      "global_average_pooling1d_1 ( (None, 64)                0         \n",
      "_________________________________________________________________\n",
      "dense_1 (Dense)              (None, 2)                 130       \n",
      "=================================================================\n",
      "Total params: 9,522\n",
      "Trainable params: 9,298\n",
      "Non-trainable params: 224\n",
      "_________________________________________________________________\n"
     ]
    }
   ],
   "source": [
    "from keras.models import Sequential\n",
    "from keras.layers import Dense, Dropout, GlobalAveragePooling1D\n",
    "from keras.layers import Conv1D, Activation, Conv1D, BatchNormalization\n",
    "from keras.callbacks import ReduceLROnPlateau, ModelCheckpoint, EarlyStopping\n",
    "\n",
    "def build_simple_cnn(n_timesteps, n_outputs):\n",
    "    model = Sequential()\n",
    "    \n",
    "    model.add(Conv1D(filters=16, kernel_size=8, activation='relu', input_shape=(n_timesteps, 1)))\n",
    "    model.add(BatchNormalization())\n",
    "    model.add(Activation('relu'))\n",
    "    \n",
    "    model.add(Dropout(0.3))\n",
    "    \n",
    "    model.add(Conv1D(filters=32, kernel_size=5, activation='relu'))\n",
    "    model.add(BatchNormalization())\n",
    "    model.add(Activation('relu'))\n",
    "    \n",
    "    model.add(Dropout(0.3))\n",
    "    \n",
    "    model.add(Conv1D(filters=64, kernel_size=3, activation='relu'))\n",
    "    model.add(BatchNormalization())\n",
    "    model.add(Activation('relu'))\n",
    "    \n",
    "    model.add(Dropout(0.3))\n",
    "    \n",
    "    model.add(GlobalAveragePooling1D())\n",
    "    \n",
    "    model.add(Dense(n_outputs, activation='sigmoid'))\n",
    "    model.compile(loss='sparse_categorical_crossentropy', optimizer='adam', metrics=['accuracy'])\n",
    "    \n",
    "    return model\n",
    "\n",
    "\n",
    "X_train_cnn = X_train.reshape((X_train.shape[0], X_train.shape[1], 1))\n",
    "X_test_cnn = X_test.reshape((X_test.shape[0], X_test.shape[1], 1))\n",
    "\n",
    "X_train_cnn, X_val_cnn, y_train_cnn, y_val_cnn = train_test_split(X_train_cnn, y_train, test_size=0.2, stratify=y_train)\n",
    "\n",
    "n_timesteps, n_outputs, n_features = X_train_cnn.shape[1], len(np.unique(y_train_cnn)), 1 \n",
    "print(\"TIMESTEPS: \", n_timesteps)\n",
    "print(\"N. LABELS: \", n_outputs)\n",
    "\n",
    "cnn = build_simple_cnn(n_timesteps, n_outputs)\n",
    "\n",
    "cnn.summary()"
   ]
  },
  {
   "cell_type": "code",
   "execution_count": 40,
   "metadata": {
    "ExecuteTime": {
     "end_time": "2021-04-27T22:38:57.356589Z",
     "start_time": "2021-04-27T22:30:11.728701Z"
    }
   },
   "outputs": [
    {
     "name": "stdout",
     "output_type": "stream",
     "text": [
      "Epoch 1/1000\n",
      "1108/1108 [==============================] - 18s 15ms/step - loss: 0.5314 - accuracy: 0.7438 - val_loss: 0.5586 - val_accuracy: 0.7138\n",
      "Epoch 2/1000\n",
      "1108/1108 [==============================] - 16s 15ms/step - loss: 0.4782 - accuracy: 0.7807 - val_loss: 0.4891 - val_accuracy: 0.7786\n",
      "Epoch 3/1000\n",
      "1108/1108 [==============================] - 16s 15ms/step - loss: 0.4683 - accuracy: 0.7888 - val_loss: 0.4735 - val_accuracy: 0.7883\n",
      "Epoch 4/1000\n",
      "1108/1108 [==============================] - 16s 15ms/step - loss: 0.4643 - accuracy: 0.7882 - val_loss: 0.4739 - val_accuracy: 0.7949\n",
      "Epoch 5/1000\n",
      "1108/1108 [==============================] - 16s 15ms/step - loss: 0.4617 - accuracy: 0.7916 - val_loss: 0.4654 - val_accuracy: 0.7921\n",
      "Epoch 6/1000\n",
      "1108/1108 [==============================] - 16s 15ms/step - loss: 0.4590 - accuracy: 0.7923 - val_loss: 0.5015 - val_accuracy: 0.7814\n",
      "Epoch 7/1000\n",
      "1108/1108 [==============================] - 16s 15ms/step - loss: 0.4593 - accuracy: 0.7963 - val_loss: 0.4821 - val_accuracy: 0.7871\n",
      "Epoch 8/1000\n",
      "1108/1108 [==============================] - 16s 15ms/step - loss: 0.4591 - accuracy: 0.7953 - val_loss: 0.4716 - val_accuracy: 0.7856\n",
      "Epoch 9/1000\n",
      "1108/1108 [==============================] - 16s 15ms/step - loss: 0.4617 - accuracy: 0.7911 - val_loss: 0.4802 - val_accuracy: 0.7854\n",
      "Epoch 10/1000\n",
      "1108/1108 [==============================] - 16s 15ms/step - loss: 0.4552 - accuracy: 0.7937 - val_loss: 0.4945 - val_accuracy: 0.7838\n",
      "Epoch 11/1000\n",
      "1108/1108 [==============================] - 17s 15ms/step - loss: 0.4520 - accuracy: 0.7963 - val_loss: 0.4586 - val_accuracy: 0.7956\n",
      "Epoch 12/1000\n",
      "1108/1108 [==============================] - 16s 15ms/step - loss: 0.4492 - accuracy: 0.7988 - val_loss: 0.4541 - val_accuracy: 0.7996\n",
      "Epoch 13/1000\n",
      "1108/1108 [==============================] - 16s 15ms/step - loss: 0.4474 - accuracy: 0.7993 - val_loss: 0.5159 - val_accuracy: 0.7268\n",
      "Epoch 14/1000\n",
      "1108/1108 [==============================] - 16s 15ms/step - loss: 0.4509 - accuracy: 0.7957 - val_loss: 0.5097 - val_accuracy: 0.7364\n",
      "Epoch 15/1000\n",
      "1108/1108 [==============================] - 16s 15ms/step - loss: 0.4468 - accuracy: 0.8004 - val_loss: 0.4986 - val_accuracy: 0.7765\n",
      "Epoch 16/1000\n",
      "1108/1108 [==============================] - 16s 15ms/step - loss: 0.4459 - accuracy: 0.7999 - val_loss: 0.4710 - val_accuracy: 0.7961\n",
      "Epoch 17/1000\n",
      "1108/1108 [==============================] - 16s 15ms/step - loss: 0.4451 - accuracy: 0.8005 - val_loss: 0.4592 - val_accuracy: 0.7997\n",
      "Epoch 18/1000\n",
      "1108/1108 [==============================] - 16s 15ms/step - loss: 0.4438 - accuracy: 0.8028 - val_loss: 0.4801 - val_accuracy: 0.7941\n",
      "Epoch 19/1000\n",
      "1108/1108 [==============================] - 16s 15ms/step - loss: 0.4445 - accuracy: 0.8031 - val_loss: 0.5125 - val_accuracy: 0.7692\n",
      "Epoch 20/1000\n",
      "1108/1108 [==============================] - 16s 15ms/step - loss: 0.4443 - accuracy: 0.8018 - val_loss: 0.4965 - val_accuracy: 0.7788\n",
      "Epoch 21/1000\n",
      "1108/1108 [==============================] - 16s 15ms/step - loss: 0.4432 - accuracy: 0.8001 - val_loss: 0.4638 - val_accuracy: 0.8038\n",
      "Epoch 22/1000\n",
      "1108/1108 [==============================] - 16s 15ms/step - loss: 0.4409 - accuracy: 0.8033 - val_loss: 0.4660 - val_accuracy: 0.8067\n",
      "Epoch 23/1000\n",
      "1108/1108 [==============================] - 16s 15ms/step - loss: 0.4355 - accuracy: 0.8046 - val_loss: 0.4945 - val_accuracy: 0.7850\n",
      "Epoch 24/1000\n",
      "1108/1108 [==============================] - 16s 15ms/step - loss: 0.4415 - accuracy: 0.8022 - val_loss: 0.4869 - val_accuracy: 0.7903\n",
      "Epoch 25/1000\n",
      "1108/1108 [==============================] - 16s 15ms/step - loss: 0.4418 - accuracy: 0.8050 - val_loss: 0.4731 - val_accuracy: 0.7896\n",
      "Epoch 26/1000\n",
      "1108/1108 [==============================] - 17s 15ms/step - loss: 0.4362 - accuracy: 0.8067 - val_loss: 0.4724 - val_accuracy: 0.8006\n",
      "Epoch 27/1000\n",
      "1108/1108 [==============================] - 17s 15ms/step - loss: 0.4397 - accuracy: 0.8050 - val_loss: 0.4838 - val_accuracy: 0.7928\n",
      "Epoch 28/1000\n",
      "1108/1108 [==============================] - 16s 15ms/step - loss: 0.4372 - accuracy: 0.8073 - val_loss: 0.4564 - val_accuracy: 0.8072\n",
      "Epoch 29/1000\n",
      "1108/1108 [==============================] - 16s 15ms/step - loss: 0.4371 - accuracy: 0.8045 - val_loss: 0.4720 - val_accuracy: 0.8000\n",
      "Epoch 30/1000\n",
      "1108/1108 [==============================] - 16s 15ms/step - loss: 0.4393 - accuracy: 0.8044 - val_loss: 0.4704 - val_accuracy: 0.7806\n",
      "Epoch 31/1000\n",
      "1108/1108 [==============================] - 16s 15ms/step - loss: 0.4390 - accuracy: 0.8042 - val_loss: 0.4849 - val_accuracy: 0.7743\n",
      "Epoch 32/1000\n",
      "1108/1108 [==============================] - 16s 15ms/step - loss: 0.4374 - accuracy: 0.8048 - val_loss: 0.5117 - val_accuracy: 0.7647\n"
     ]
    }
   ],
   "source": [
    "rlr = ReduceLROnPlateau(monitor='loss', factor=0.5, patience=5, min_lr=0.0001)\n",
    "mc = ModelCheckpoint('best_model_cnn.h5', monitor='val_loss', save_best_only=True)\n",
    "es = EarlyStopping(monitor='val_loss', patience=20)\n",
    "\n",
    "callbacks = [rlr, mc, es]\n",
    "\n",
    "batch_size = 32\n",
    "mini_batch_size = int(min(X_train_cnn.shape[0]/10, batch_size))\n",
    "\n",
    "\n",
    "history_cnn = cnn.fit(X_train_cnn, y_train_cnn, epochs=1000, batch_size=mini_batch_size, callbacks=callbacks,\n",
    "                      validation_data=(X_val_cnn, y_val_cnn)).history\n",
    "\n"
   ]
  },
  {
   "cell_type": "code",
   "execution_count": 41,
   "metadata": {
    "ExecuteTime": {
     "end_time": "2021-04-27T22:49:36.399688Z",
     "start_time": "2021-04-27T22:49:35.898894Z"
    }
   },
   "outputs": [
    {
     "name": "stdout",
     "output_type": "stream",
     "text": [
      "Accuracy 0.759699370302661\n",
      "F1-score [0.85404072 0.32050546]\n",
      "              precision    recall  f1-score   support\n",
      "\n",
      "           0       0.75      0.99      0.85      3508\n",
      "           1       0.86      0.20      0.32      1415\n",
      "\n",
      "    accuracy                           0.76      4923\n",
      "   macro avg       0.80      0.59      0.59      4923\n",
      "weighted avg       0.78      0.76      0.70      4923\n",
      "\n"
     ]
    }
   ],
   "source": [
    "y_pred = np.argmax(cnn.predict(X_test_cnn), axis=1)\n",
    "\n",
    "print('Accuracy %s' % accuracy_score(y_test, y_pred))\n",
    "print('F1-score %s' % f1_score(y_test, y_pred, average=None))\n",
    "print(classification_report(y_test, y_pred))"
   ]
  },
  {
   "cell_type": "code",
   "execution_count": null,
   "metadata": {},
   "outputs": [],
   "source": []
  },
  {
   "cell_type": "markdown",
   "metadata": {},
   "source": [
    "# LSTM Classifier"
   ]
  },
  {
   "cell_type": "code",
   "execution_count": 42,
   "metadata": {
    "ExecuteTime": {
     "end_time": "2021-04-27T22:49:59.201213Z",
     "start_time": "2021-04-27T22:49:58.937794Z"
    }
   },
   "outputs": [
    {
     "name": "stdout",
     "output_type": "stream",
     "text": [
      "Model: \"sequential_2\"\n",
      "_________________________________________________________________\n",
      "Layer (type)                 Output Shape              Param #   \n",
      "=================================================================\n",
      "lstm (LSTM)                  (None, 256)               264192    \n",
      "_________________________________________________________________\n",
      "dropout_6 (Dropout)          (None, 256)               0         \n",
      "_________________________________________________________________\n",
      "dense_2 (Dense)              (None, 64)                16448     \n",
      "_________________________________________________________________\n",
      "dropout_7 (Dropout)          (None, 64)                0         \n",
      "_________________________________________________________________\n",
      "dense_3 (Dense)              (None, 2)                 130       \n",
      "=================================================================\n",
      "Total params: 280,770\n",
      "Trainable params: 280,770\n",
      "Non-trainable params: 0\n",
      "_________________________________________________________________\n"
     ]
    }
   ],
   "source": [
    "from keras.layers import LSTM\n",
    "\n",
    "def build_lstm(n_timesteps, n_outputs):\n",
    "    model = Sequential()\n",
    "    model.add(LSTM(256, input_shape=(n_timesteps, 1)))\n",
    "    model.add(Dropout(0.5))\n",
    "    model.add(Dense(64, activation='relu'))\n",
    "    model.add(Dropout(0.2))\n",
    "    model.add(Dense(n_outputs, activation='sigmoid'))\n",
    "    \n",
    "    model.compile(loss='sparse_categorical_crossentropy', optimizer='adam', metrics=['accuracy'])\n",
    "    \n",
    "    return model\n",
    "\n",
    "lstm = build_lstm(n_timesteps, n_outputs)\n",
    "\n",
    "lstm.summary()"
   ]
  },
  {
   "cell_type": "code",
   "execution_count": 43,
   "metadata": {
    "ExecuteTime": {
     "end_time": "2021-04-27T23:03:49.179293Z",
     "start_time": "2021-04-27T22:50:13.999966Z"
    }
   },
   "outputs": [
    {
     "name": "stdout",
     "output_type": "stream",
     "text": [
      "Epoch 1/50\n",
      "1108/1108 [==============================] - 17s 15ms/step - loss: 0.4361 - accuracy: 0.8061 - val_loss: 0.4697 - val_accuracy: 0.7925\n",
      "Epoch 2/50\n",
      "1108/1108 [==============================] - 16s 15ms/step - loss: 0.4377 - accuracy: 0.8057 - val_loss: 0.4643 - val_accuracy: 0.7901\n",
      "Epoch 3/50\n",
      "1108/1108 [==============================] - 16s 15ms/step - loss: 0.4357 - accuracy: 0.8071 - val_loss: 0.4490 - val_accuracy: 0.8006\n",
      "Epoch 4/50\n",
      "1108/1108 [==============================] - 16s 15ms/step - loss: 0.4341 - accuracy: 0.8067 - val_loss: 0.4521 - val_accuracy: 0.8095\n",
      "Epoch 5/50\n",
      "1108/1108 [==============================] - 16s 15ms/step - loss: 0.4338 - accuracy: 0.8072 - val_loss: 0.4635 - val_accuracy: 0.7924\n",
      "Epoch 6/50\n",
      "1108/1108 [==============================] - 16s 15ms/step - loss: 0.4338 - accuracy: 0.8100 - val_loss: 0.5085 - val_accuracy: 0.7590\n",
      "Epoch 7/50\n",
      "1108/1108 [==============================] - 16s 15ms/step - loss: 0.4346 - accuracy: 0.8079 - val_loss: 0.4587 - val_accuracy: 0.7986\n",
      "Epoch 8/50\n",
      "1108/1108 [==============================] - 16s 15ms/step - loss: 0.4349 - accuracy: 0.8081 - val_loss: 0.4685 - val_accuracy: 0.7924\n",
      "Epoch 9/50\n",
      "1108/1108 [==============================] - 16s 15ms/step - loss: 0.4358 - accuracy: 0.8074 - val_loss: 0.4602 - val_accuracy: 0.8002\n",
      "Epoch 10/50\n",
      "1108/1108 [==============================] - 16s 15ms/step - loss: 0.4325 - accuracy: 0.8079 - val_loss: 0.4733 - val_accuracy: 0.7830\n",
      "Epoch 11/50\n",
      "1108/1108 [==============================] - 16s 15ms/step - loss: 0.4367 - accuracy: 0.8047 - val_loss: 0.5038 - val_accuracy: 0.7648\n",
      "Epoch 12/50\n",
      "1108/1108 [==============================] - 16s 15ms/step - loss: 0.4323 - accuracy: 0.8081 - val_loss: 0.4480 - val_accuracy: 0.8105\n",
      "Epoch 13/50\n",
      "1108/1108 [==============================] - 16s 15ms/step - loss: 0.4330 - accuracy: 0.8087 - val_loss: 0.4671 - val_accuracy: 0.7959\n",
      "Epoch 14/50\n",
      "1108/1108 [==============================] - 16s 15ms/step - loss: 0.4337 - accuracy: 0.8086 - val_loss: 0.4514 - val_accuracy: 0.8076\n",
      "Epoch 15/50\n",
      "1108/1108 [==============================] - 16s 15ms/step - loss: 0.4327 - accuracy: 0.8089 - val_loss: 0.4617 - val_accuracy: 0.7988\n",
      "Epoch 16/50\n",
      "1108/1108 [==============================] - 16s 15ms/step - loss: 0.4341 - accuracy: 0.8083 - val_loss: 0.4480 - val_accuracy: 0.8016\n",
      "Epoch 17/50\n",
      "1108/1108 [==============================] - 16s 15ms/step - loss: 0.4313 - accuracy: 0.8085 - val_loss: 0.4532 - val_accuracy: 0.8066\n",
      "Epoch 18/50\n",
      "1108/1108 [==============================] - 16s 15ms/step - loss: 0.4324 - accuracy: 0.8088 - val_loss: 0.4574 - val_accuracy: 0.7969\n",
      "Epoch 19/50\n",
      "1108/1108 [==============================] - 16s 15ms/step - loss: 0.4307 - accuracy: 0.8080 - val_loss: 0.4724 - val_accuracy: 0.7866\n",
      "Epoch 20/50\n",
      "1108/1108 [==============================] - 16s 15ms/step - loss: 0.4312 - accuracy: 0.8098 - val_loss: 0.4663 - val_accuracy: 0.7963\n",
      "Epoch 21/50\n",
      "1108/1108 [==============================] - 16s 15ms/step - loss: 0.4303 - accuracy: 0.8094 - val_loss: 0.4864 - val_accuracy: 0.7770\n",
      "Epoch 22/50\n",
      "1108/1108 [==============================] - 16s 15ms/step - loss: 0.4316 - accuracy: 0.8094 - val_loss: 0.4444 - val_accuracy: 0.8107\n",
      "Epoch 23/50\n",
      "1108/1108 [==============================] - 16s 15ms/step - loss: 0.4313 - accuracy: 0.8096 - val_loss: 0.4636 - val_accuracy: 0.8025\n",
      "Epoch 24/50\n",
      "1108/1108 [==============================] - 16s 15ms/step - loss: 0.4318 - accuracy: 0.8092 - val_loss: 0.4597 - val_accuracy: 0.8040\n",
      "Epoch 25/50\n",
      "1108/1108 [==============================] - 16s 15ms/step - loss: 0.4310 - accuracy: 0.8087 - val_loss: 0.4638 - val_accuracy: 0.8017\n",
      "Epoch 26/50\n",
      "1108/1108 [==============================] - 16s 15ms/step - loss: 0.4299 - accuracy: 0.8098 - val_loss: 0.4682 - val_accuracy: 0.7993\n",
      "Epoch 27/50\n",
      "1108/1108 [==============================] - 16s 15ms/step - loss: 0.4308 - accuracy: 0.8097 - val_loss: 0.4526 - val_accuracy: 0.8040\n",
      "Epoch 28/50\n",
      "1108/1108 [==============================] - 16s 15ms/step - loss: 0.4285 - accuracy: 0.8113 - val_loss: 0.4746 - val_accuracy: 0.7954\n",
      "Epoch 29/50\n",
      "1108/1108 [==============================] - 16s 15ms/step - loss: 0.4298 - accuracy: 0.8083 - val_loss: 0.4539 - val_accuracy: 0.8046\n",
      "Epoch 30/50\n",
      "1108/1108 [==============================] - 16s 15ms/step - loss: 0.4282 - accuracy: 0.8093 - val_loss: 0.4427 - val_accuracy: 0.8070\n",
      "Epoch 31/50\n",
      "1108/1108 [==============================] - 16s 15ms/step - loss: 0.4295 - accuracy: 0.8105 - val_loss: 0.4693 - val_accuracy: 0.7952\n",
      "Epoch 32/50\n",
      "1108/1108 [==============================] - 16s 15ms/step - loss: 0.4288 - accuracy: 0.8105 - val_loss: 0.4787 - val_accuracy: 0.7950\n",
      "Epoch 33/50\n",
      "1108/1108 [==============================] - 16s 15ms/step - loss: 0.4280 - accuracy: 0.8105 - val_loss: 0.4549 - val_accuracy: 0.8019\n",
      "Epoch 34/50\n",
      "1108/1108 [==============================] - 16s 15ms/step - loss: 0.4294 - accuracy: 0.8107 - val_loss: 0.4600 - val_accuracy: 0.8008\n",
      "Epoch 35/50\n",
      "1108/1108 [==============================] - 16s 15ms/step - loss: 0.4284 - accuracy: 0.8114 - val_loss: 0.4703 - val_accuracy: 0.7903\n",
      "Epoch 36/50\n",
      "1108/1108 [==============================] - 16s 15ms/step - loss: 0.4287 - accuracy: 0.8103 - val_loss: 0.4509 - val_accuracy: 0.8049\n",
      "Epoch 37/50\n",
      "1108/1108 [==============================] - 16s 15ms/step - loss: 0.4293 - accuracy: 0.8107 - val_loss: 0.4507 - val_accuracy: 0.8063\n",
      "Epoch 38/50\n",
      "1108/1108 [==============================] - 15s 14ms/step - loss: 0.4277 - accuracy: 0.8105 - val_loss: 0.4580 - val_accuracy: 0.8059\n",
      "Epoch 39/50\n",
      "1108/1108 [==============================] - 16s 14ms/step - loss: 0.4290 - accuracy: 0.8118 - val_loss: 0.4504 - val_accuracy: 0.8075\n",
      "Epoch 40/50\n",
      "1108/1108 [==============================] - 17s 15ms/step - loss: 0.4270 - accuracy: 0.8105 - val_loss: 0.4674 - val_accuracy: 0.7941\n",
      "Epoch 41/50\n",
      "1108/1108 [==============================] - 16s 14ms/step - loss: 0.4280 - accuracy: 0.8131 - val_loss: 0.4662 - val_accuracy: 0.8011\n",
      "Epoch 42/50\n",
      "1108/1108 [==============================] - 17s 15ms/step - loss: 0.4281 - accuracy: 0.8085 - val_loss: 0.4465 - val_accuracy: 0.8104\n",
      "Epoch 43/50\n",
      "1108/1108 [==============================] - 16s 15ms/step - loss: 0.4283 - accuracy: 0.8118 - val_loss: 0.4404 - val_accuracy: 0.8082\n",
      "Epoch 44/50\n",
      "1108/1108 [==============================] - 17s 15ms/step - loss: 0.4271 - accuracy: 0.8111 - val_loss: 0.4506 - val_accuracy: 0.7977\n",
      "Epoch 45/50\n",
      "1108/1108 [==============================] - 17s 15ms/step - loss: 0.4266 - accuracy: 0.8109 - val_loss: 0.4417 - val_accuracy: 0.8094\n",
      "Epoch 46/50\n",
      "1108/1108 [==============================] - 16s 14ms/step - loss: 0.4259 - accuracy: 0.8116 - val_loss: 0.4574 - val_accuracy: 0.8021\n",
      "Epoch 47/50\n",
      "1108/1108 [==============================] - 16s 14ms/step - loss: 0.4269 - accuracy: 0.8133 - val_loss: 0.4576 - val_accuracy: 0.8023\n",
      "Epoch 48/50\n",
      "1108/1108 [==============================] - 17s 15ms/step - loss: 0.4268 - accuracy: 0.8109 - val_loss: 0.4868 - val_accuracy: 0.7716\n",
      "Epoch 49/50\n",
      "1108/1108 [==============================] - 16s 15ms/step - loss: 0.4260 - accuracy: 0.8121 - val_loss: 0.4793 - val_accuracy: 0.7826\n",
      "Epoch 50/50\n",
      "1108/1108 [==============================] - 16s 14ms/step - loss: 0.4256 - accuracy: 0.8133 - val_loss: 0.4638 - val_accuracy: 0.8014\n"
     ]
    }
   ],
   "source": [
    "history_lstm = cnn.fit(X_train_cnn, y_train_cnn, epochs=1000, batch_size=mini_batch_size, callbacks=callbacks,\n",
    "                       validation_data=(X_val_cnn, y_val_cnn)).history"
   ]
  },
  {
   "cell_type": "code",
   "execution_count": 45,
   "metadata": {
    "ExecuteTime": {
     "end_time": "2021-04-27T23:04:12.529710Z",
     "start_time": "2021-04-27T23:04:09.098104Z"
    }
   },
   "outputs": [
    {
     "name": "stdout",
     "output_type": "stream",
     "text": [
      "Accuracy 0.3053016453382084\n",
      "F1-score [0.05888828 0.44945267]\n",
      "              precision    recall  f1-score   support\n",
      "\n",
      "           0       0.85      0.03      0.06      3508\n",
      "           1       0.29      0.99      0.45      1415\n",
      "\n",
      "    accuracy                           0.31      4923\n",
      "   macro avg       0.57      0.51      0.25      4923\n",
      "weighted avg       0.69      0.31      0.17      4923\n",
      "\n"
     ]
    }
   ],
   "source": [
    "y_pred = np.argmax(lstm.predict(X_test_cnn), axis=1)\n",
    "\n",
    "print('Accuracy %s' % accuracy_score(y_test, y_pred))\n",
    "print('F1-score %s' % f1_score(y_test, y_pred, average=None))\n",
    "print(classification_report(y_test, y_pred))"
   ]
  },
  {
   "cell_type": "code",
   "execution_count": null,
   "metadata": {},
   "outputs": [],
   "source": []
  },
  {
   "cell_type": "markdown",
   "metadata": {},
   "source": [
    "# Multivariate Time Series Classifiers"
   ]
  },
  {
   "cell_type": "code",
   "execution_count": 46,
   "metadata": {
    "ExecuteTime": {
     "end_time": "2021-04-27T23:05:44.000067Z",
     "start_time": "2021-04-27T23:05:43.972063Z"
    }
   },
   "outputs": [],
   "source": [
    "from pyts.datasets import load_basic_motions\n",
    "\n",
    "from tslearn.preprocessing import TimeSeriesScalerMinMax\n",
    "from sklearn.model_selection import train_test_split, cross_val_score \n",
    "\n",
    "from sklearn.metrics import accuracy_score, f1_score, classification_report\n",
    "from sklearn.metrics import roc_curve, auc, roc_auc_score\n"
   ]
  },
  {
   "cell_type": "raw",
   "metadata": {
    "ExecuteTime": {
     "end_time": "2021-04-27T23:05:48.339672Z",
     "start_time": "2021-04-27T23:05:44.806422Z"
    }
   },
   "source": [
    "scaler = TimeSeriesScalerMinMax()\n",
    "X_train = scaler.fit_transform(X_train)\n",
    "X_test = scaler.transform(X_test)\n",
    "\n",
    "y_train.shape"
   ]
  },
  {
   "cell_type": "code",
   "execution_count": 48,
   "metadata": {
    "ExecuteTime": {
     "end_time": "2021-04-27T23:05:50.492284Z",
     "start_time": "2021-04-27T23:05:50.324570Z"
    }
   },
   "outputs": [],
   "source": [
    "n_timesteps, n_outputs, n_features = X_train.shape[1], len(np.unique(y_train)), X_train.shape[2] \n",
    "\n",
    "X_train_cnn, X_val_cnn, y_train_cnn, y_val_cnn = train_test_split(X_train, y_train, test_size=0.2, stratify=y_train)"
   ]
  },
  {
   "cell_type": "code",
   "execution_count": 49,
   "metadata": {
    "ExecuteTime": {
     "end_time": "2021-04-27T23:05:53.818361Z",
     "start_time": "2021-04-27T23:05:52.688213Z"
    }
   },
   "outputs": [
    {
     "name": "stdout",
     "output_type": "stream",
     "text": [
      "Model: \"sequential_3\"\n",
      "_________________________________________________________________\n",
      "Layer (type)                 Output Shape              Param #   \n",
      "=================================================================\n",
      "lstm_1 (LSTM)                (None, 1292, 4)           96        \n",
      "_________________________________________________________________\n",
      "batch_normalization_6 (Batch (None, 1292, 4)           16        \n",
      "_________________________________________________________________\n",
      "leaky_re_lu (LeakyReLU)      (None, 1292, 4)           0         \n",
      "_________________________________________________________________\n",
      "dropout_8 (Dropout)          (None, 1292, 4)           0         \n",
      "_________________________________________________________________\n",
      "lstm_2 (LSTM)                (None, 1292, 4)           144       \n",
      "_________________________________________________________________\n",
      "batch_normalization_7 (Batch (None, 1292, 4)           16        \n",
      "_________________________________________________________________\n",
      "leaky_re_lu_1 (LeakyReLU)    (None, 1292, 4)           0         \n",
      "_________________________________________________________________\n",
      "dropout_9 (Dropout)          (None, 1292, 4)           0         \n",
      "_________________________________________________________________\n",
      "lstm_3 (LSTM)                (None, 1292, 4)           144       \n",
      "_________________________________________________________________\n",
      "batch_normalization_8 (Batch (None, 1292, 4)           16        \n",
      "_________________________________________________________________\n",
      "leaky_re_lu_2 (LeakyReLU)    (None, 1292, 4)           0         \n",
      "_________________________________________________________________\n",
      "dropout_10 (Dropout)         (None, 1292, 4)           0         \n",
      "_________________________________________________________________\n",
      "lstm_4 (LSTM)                (None, 32)                4736      \n",
      "_________________________________________________________________\n",
      "batch_normalization_9 (Batch (None, 32)                128       \n",
      "_________________________________________________________________\n",
      "leaky_re_lu_3 (LeakyReLU)    (None, 32)                0         \n",
      "_________________________________________________________________\n",
      "dropout_11 (Dropout)         (None, 32)                0         \n",
      "_________________________________________________________________\n",
      "dense_4 (Dense)              (None, 256)               8448      \n",
      "_________________________________________________________________\n",
      "batch_normalization_10 (Batc (None, 256)               1024      \n",
      "_________________________________________________________________\n",
      "leaky_re_lu_4 (LeakyReLU)    (None, 256)               0         \n",
      "_________________________________________________________________\n",
      "dropout_12 (Dropout)         (None, 256)               0         \n",
      "_________________________________________________________________\n",
      "dense_5 (Dense)              (None, 256)               65792     \n",
      "_________________________________________________________________\n",
      "batch_normalization_11 (Batc (None, 256)               1024      \n",
      "_________________________________________________________________\n",
      "leaky_re_lu_5 (LeakyReLU)    (None, 256)               0         \n",
      "_________________________________________________________________\n",
      "dropout_13 (Dropout)         (None, 256)               0         \n",
      "_________________________________________________________________\n",
      "dense_6 (Dense)              (None, 64)                16448     \n",
      "_________________________________________________________________\n",
      "batch_normalization_12 (Batc (None, 64)                256       \n",
      "_________________________________________________________________\n",
      "leaky_re_lu_6 (LeakyReLU)    (None, 64)                0         \n",
      "_________________________________________________________________\n",
      "dropout_14 (Dropout)         (None, 64)                0         \n",
      "_________________________________________________________________\n",
      "dense_7 (Dense)              (None, 32)                2080      \n",
      "_________________________________________________________________\n",
      "batch_normalization_13 (Batc (None, 32)                128       \n",
      "_________________________________________________________________\n",
      "leaky_re_lu_7 (LeakyReLU)    (None, 32)                0         \n",
      "_________________________________________________________________\n",
      "dropout_15 (Dropout)         (None, 32)                0         \n",
      "_________________________________________________________________\n",
      "dense_8 (Dense)              (None, 2)                 66        \n",
      "=================================================================\n",
      "Total params: 100,562\n",
      "Trainable params: 99,258\n",
      "Non-trainable params: 1,304\n",
      "_________________________________________________________________\n"
     ]
    }
   ],
   "source": [
    "from keras.models import Sequential\n",
    "from keras.layers.core import Dense, Activation, Dropout, Flatten\n",
    "from keras.layers import TimeDistributed\n",
    "from keras.layers.recurrent import LSTM\n",
    "from keras.layers import Dense, Conv1D, Conv2D, MaxPool2D, Flatten, Dropout, LeakyReLU, GlobalAveragePooling1D\n",
    "from keras.callbacks import EarlyStopping, ModelCheckpoint\n",
    "from keras.layers.normalization import BatchNormalization\n",
    "from keras.callbacks import ReduceLROnPlateau, ModelCheckpoint\n",
    "\n",
    "\n",
    "\n",
    "def build_lstm2(n_timesteps, n_outputs, n_features):\n",
    "    model = Sequential()\n",
    "    model.add(LSTM(4, input_shape=(n_timesteps, n_features), return_sequences=True, \n",
    "                        kernel_initializer='TruncatedNormal'))\n",
    "    model.add(BatchNormalization())\n",
    "    model.add(LeakyReLU())\n",
    "    model.add(Dropout(0.3))\n",
    "    \n",
    "    #1\n",
    "    for _ in range(2):\n",
    "        model.add(LSTM(4, kernel_initializer='TruncatedNormal', return_sequences=True))\n",
    "        model.add(BatchNormalization())\n",
    "        model.add(LeakyReLU())\n",
    "        model.add(Dropout(0.04))   \n",
    "\n",
    "    #2\n",
    "    model.add(LSTM(32, kernel_initializer='TruncatedNormal', return_sequences=False))\n",
    "    model.add(BatchNormalization())\n",
    "    model.add(LeakyReLU())\n",
    "    model.add(Dropout(0.7))\n",
    "    \n",
    "    #3\n",
    "    for _ in range(2):\n",
    "        model.add(Dense(256, kernel_initializer='TruncatedNormal'))\n",
    "        model.add(BatchNormalization())\n",
    "        model.add(LeakyReLU())\n",
    "        model.add(Dropout(0.2))\n",
    "    #4\n",
    "    for _ in range(1):\n",
    "        model.add(Dense(64, kernel_initializer='TruncatedNormal'))\n",
    "        model.add(BatchNormalization())\n",
    "        model.add(LeakyReLU())\n",
    "        model.add(Dropout(0.7))\n",
    "\n",
    "    #5\n",
    "    model.add(Dense(32, kernel_initializer='TruncatedNormal'))\n",
    "    model.add(BatchNormalization())\n",
    "    model.add(LeakyReLU())\n",
    "    model.add(Dropout(0.4))\n",
    "        \n",
    "    model.add(Dense(n_outputs, activation='sigmoid'))\n",
    "    \n",
    "    model.compile(loss='sparse_categorical_crossentropy', optimizer='adam', metrics=['accuracy'])\n",
    "    \n",
    "    return model\n",
    "\n",
    "\n",
    "lstm2 = build_lstm2(n_timesteps, n_outputs, n_features)\n",
    "\n",
    "lstm2.summary()"
   ]
  },
  {
   "cell_type": "code",
   "execution_count": null,
   "metadata": {
    "ExecuteTime": {
     "end_time": "2021-04-27T23:20:20.045934Z",
     "start_time": "2021-04-27T23:18:36.506146Z"
    }
   },
   "outputs": [],
   "source": []
  },
  {
   "cell_type": "code",
   "execution_count": 52,
   "metadata": {
    "ExecuteTime": {
     "end_time": "2021-04-27T23:18:35.007151Z",
     "start_time": "2021-04-27T23:16:06.814898Z"
    }
   },
   "outputs": [
    {
     "name": "stdout",
     "output_type": "stream",
     "text": [
      "Epoch 1/50\n",
      "35/35 [==============================] - 10s 290ms/step - loss: 0.5627 - accuracy: 0.7120 - val_loss: 0.9034 - val_accuracy: 0.3099\n",
      "Epoch 2/50\n",
      "35/35 [==============================] - 10s 290ms/step - loss: 0.5677 - accuracy: 0.7108 - val_loss: 0.9061 - val_accuracy: 0.7127\n",
      "Epoch 3/50\n",
      "35/35 [==============================] - 10s 291ms/step - loss: 0.5622 - accuracy: 0.7115 - val_loss: 0.6111 - val_accuracy: 0.7127\n",
      "Epoch 4/50\n",
      "35/35 [==============================] - 10s 292ms/step - loss: 0.5620 - accuracy: 0.7115 - val_loss: 0.5750 - val_accuracy: 0.7127\n",
      "Epoch 5/50\n",
      "35/35 [==============================] - 10s 300ms/step - loss: 0.5657 - accuracy: 0.7115 - val_loss: 0.5640 - val_accuracy: 0.7127\n",
      "Epoch 6/50\n",
      "35/35 [==============================] - 11s 303ms/step - loss: 0.5618 - accuracy: 0.7120 - val_loss: 0.6503 - val_accuracy: 0.5334\n",
      "Epoch 7/50\n",
      "35/35 [==============================] - 10s 300ms/step - loss: 0.5620 - accuracy: 0.7120 - val_loss: 0.6245 - val_accuracy: 0.7127\n",
      "Epoch 8/50\n",
      "35/35 [==============================] - 10s 293ms/step - loss: 0.5618 - accuracy: 0.7113 - val_loss: 0.5914 - val_accuracy: 0.6678\n",
      "Epoch 9/50\n",
      "35/35 [==============================] - 11s 303ms/step - loss: 0.5685 - accuracy: 0.7110 - val_loss: 0.7806 - val_accuracy: 0.7127\n",
      "Epoch 10/50\n",
      "35/35 [==============================] - 10s 297ms/step - loss: 0.5654 - accuracy: 0.7115 - val_loss: 0.8283 - val_accuracy: 0.7127\n",
      "Epoch 11/50\n",
      "35/35 [==============================] - 11s 308ms/step - loss: 0.5618 - accuracy: 0.7088 - val_loss: 0.6794 - val_accuracy: 0.7127\n",
      "Epoch 12/50\n",
      "35/35 [==============================] - 10s 297ms/step - loss: 0.5620 - accuracy: 0.7119 - val_loss: 0.6198 - val_accuracy: 0.7127\n",
      "Epoch 13/50\n",
      "35/35 [==============================] - 10s 294ms/step - loss: 0.5637 - accuracy: 0.7121 - val_loss: 0.5900 - val_accuracy: 0.7127\n",
      "Epoch 14/50\n",
      "35/35 [==============================] - 10s 297ms/step - loss: 0.5583 - accuracy: 0.7128 - val_loss: 0.6078 - val_accuracy: 0.7127\n",
      "Epoch 15/50\n",
      " 9/35 [======>.......................] - ETA: 7s - loss: 0.5651 - accuracy: 0.7055"
     ]
    },
    {
     "ename": "KeyboardInterrupt",
     "evalue": "",
     "output_type": "error",
     "traceback": [
      "\u001b[1;31m---------------------------------------------------------------------------\u001b[0m",
      "\u001b[1;31mKeyboardInterrupt\u001b[0m                         Traceback (most recent call last)",
      "\u001b[1;32m<ipython-input-52-e3ef5e98e6f8>\u001b[0m in \u001b[0;36m<module>\u001b[1;34m\u001b[0m\n\u001b[0;32m      8\u001b[0m \u001b[0mmini_batch_size\u001b[0m \u001b[1;33m=\u001b[0m \u001b[0mint\u001b[0m\u001b[1;33m(\u001b[0m\u001b[0mmin\u001b[0m\u001b[1;33m(\u001b[0m\u001b[0mX_train\u001b[0m\u001b[1;33m.\u001b[0m\u001b[0mshape\u001b[0m\u001b[1;33m[\u001b[0m\u001b[1;36m0\u001b[0m\u001b[1;33m]\u001b[0m\u001b[1;33m/\u001b[0m\u001b[1;36m10\u001b[0m\u001b[1;33m,\u001b[0m \u001b[0mbatch_size\u001b[0m\u001b[1;33m)\u001b[0m\u001b[1;33m)\u001b[0m\u001b[1;33m\u001b[0m\u001b[1;33m\u001b[0m\u001b[0m\n\u001b[0;32m      9\u001b[0m \u001b[1;33m\u001b[0m\u001b[0m\n\u001b[1;32m---> 10\u001b[1;33m history_lstm2 = lstm2.fit(X_train_cnn, y_train_cnn, epochs=50, batch_size=mini_batch_size, callbacks=callbacks,\n\u001b[0m\u001b[0;32m     11\u001b[0m                           validation_data=(X_val_cnn, y_val_cnn)).history\n",
      "\u001b[1;32m~\\anaconda3\\lib\\site-packages\\tensorflow\\python\\keras\\engine\\training.py\u001b[0m in \u001b[0;36mfit\u001b[1;34m(self, x, y, batch_size, epochs, verbose, callbacks, validation_split, validation_data, shuffle, class_weight, sample_weight, initial_epoch, steps_per_epoch, validation_steps, validation_batch_size, validation_freq, max_queue_size, workers, use_multiprocessing)\u001b[0m\n\u001b[0;32m   1098\u001b[0m                 _r=1):\n\u001b[0;32m   1099\u001b[0m               \u001b[0mcallbacks\u001b[0m\u001b[1;33m.\u001b[0m\u001b[0mon_train_batch_begin\u001b[0m\u001b[1;33m(\u001b[0m\u001b[0mstep\u001b[0m\u001b[1;33m)\u001b[0m\u001b[1;33m\u001b[0m\u001b[1;33m\u001b[0m\u001b[0m\n\u001b[1;32m-> 1100\u001b[1;33m               \u001b[0mtmp_logs\u001b[0m \u001b[1;33m=\u001b[0m \u001b[0mself\u001b[0m\u001b[1;33m.\u001b[0m\u001b[0mtrain_function\u001b[0m\u001b[1;33m(\u001b[0m\u001b[0miterator\u001b[0m\u001b[1;33m)\u001b[0m\u001b[1;33m\u001b[0m\u001b[1;33m\u001b[0m\u001b[0m\n\u001b[0m\u001b[0;32m   1101\u001b[0m               \u001b[1;32mif\u001b[0m \u001b[0mdata_handler\u001b[0m\u001b[1;33m.\u001b[0m\u001b[0mshould_sync\u001b[0m\u001b[1;33m:\u001b[0m\u001b[1;33m\u001b[0m\u001b[1;33m\u001b[0m\u001b[0m\n\u001b[0;32m   1102\u001b[0m                 \u001b[0mcontext\u001b[0m\u001b[1;33m.\u001b[0m\u001b[0masync_wait\u001b[0m\u001b[1;33m(\u001b[0m\u001b[1;33m)\u001b[0m\u001b[1;33m\u001b[0m\u001b[1;33m\u001b[0m\u001b[0m\n",
      "\u001b[1;32m~\\anaconda3\\lib\\site-packages\\tensorflow\\python\\eager\\def_function.py\u001b[0m in \u001b[0;36m__call__\u001b[1;34m(self, *args, **kwds)\u001b[0m\n\u001b[0;32m    826\u001b[0m     \u001b[0mtracing_count\u001b[0m \u001b[1;33m=\u001b[0m \u001b[0mself\u001b[0m\u001b[1;33m.\u001b[0m\u001b[0mexperimental_get_tracing_count\u001b[0m\u001b[1;33m(\u001b[0m\u001b[1;33m)\u001b[0m\u001b[1;33m\u001b[0m\u001b[1;33m\u001b[0m\u001b[0m\n\u001b[0;32m    827\u001b[0m     \u001b[1;32mwith\u001b[0m \u001b[0mtrace\u001b[0m\u001b[1;33m.\u001b[0m\u001b[0mTrace\u001b[0m\u001b[1;33m(\u001b[0m\u001b[0mself\u001b[0m\u001b[1;33m.\u001b[0m\u001b[0m_name\u001b[0m\u001b[1;33m)\u001b[0m \u001b[1;32mas\u001b[0m \u001b[0mtm\u001b[0m\u001b[1;33m:\u001b[0m\u001b[1;33m\u001b[0m\u001b[1;33m\u001b[0m\u001b[0m\n\u001b[1;32m--> 828\u001b[1;33m       \u001b[0mresult\u001b[0m \u001b[1;33m=\u001b[0m \u001b[0mself\u001b[0m\u001b[1;33m.\u001b[0m\u001b[0m_call\u001b[0m\u001b[1;33m(\u001b[0m\u001b[1;33m*\u001b[0m\u001b[0margs\u001b[0m\u001b[1;33m,\u001b[0m \u001b[1;33m**\u001b[0m\u001b[0mkwds\u001b[0m\u001b[1;33m)\u001b[0m\u001b[1;33m\u001b[0m\u001b[1;33m\u001b[0m\u001b[0m\n\u001b[0m\u001b[0;32m    829\u001b[0m       \u001b[0mcompiler\u001b[0m \u001b[1;33m=\u001b[0m \u001b[1;34m\"xla\"\u001b[0m \u001b[1;32mif\u001b[0m \u001b[0mself\u001b[0m\u001b[1;33m.\u001b[0m\u001b[0m_experimental_compile\u001b[0m \u001b[1;32melse\u001b[0m \u001b[1;34m\"nonXla\"\u001b[0m\u001b[1;33m\u001b[0m\u001b[1;33m\u001b[0m\u001b[0m\n\u001b[0;32m    830\u001b[0m       \u001b[0mnew_tracing_count\u001b[0m \u001b[1;33m=\u001b[0m \u001b[0mself\u001b[0m\u001b[1;33m.\u001b[0m\u001b[0mexperimental_get_tracing_count\u001b[0m\u001b[1;33m(\u001b[0m\u001b[1;33m)\u001b[0m\u001b[1;33m\u001b[0m\u001b[1;33m\u001b[0m\u001b[0m\n",
      "\u001b[1;32m~\\anaconda3\\lib\\site-packages\\tensorflow\\python\\eager\\def_function.py\u001b[0m in \u001b[0;36m_call\u001b[1;34m(self, *args, **kwds)\u001b[0m\n\u001b[0;32m    853\u001b[0m       \u001b[1;31m# In this case we have created variables on the first call, so we run the\u001b[0m\u001b[1;33m\u001b[0m\u001b[1;33m\u001b[0m\u001b[1;33m\u001b[0m\u001b[0m\n\u001b[0;32m    854\u001b[0m       \u001b[1;31m# defunned version which is guaranteed to never create variables.\u001b[0m\u001b[1;33m\u001b[0m\u001b[1;33m\u001b[0m\u001b[1;33m\u001b[0m\u001b[0m\n\u001b[1;32m--> 855\u001b[1;33m       \u001b[1;32mreturn\u001b[0m \u001b[0mself\u001b[0m\u001b[1;33m.\u001b[0m\u001b[0m_stateless_fn\u001b[0m\u001b[1;33m(\u001b[0m\u001b[1;33m*\u001b[0m\u001b[0margs\u001b[0m\u001b[1;33m,\u001b[0m \u001b[1;33m**\u001b[0m\u001b[0mkwds\u001b[0m\u001b[1;33m)\u001b[0m  \u001b[1;31m# pylint: disable=not-callable\u001b[0m\u001b[1;33m\u001b[0m\u001b[1;33m\u001b[0m\u001b[0m\n\u001b[0m\u001b[0;32m    856\u001b[0m     \u001b[1;32melif\u001b[0m \u001b[0mself\u001b[0m\u001b[1;33m.\u001b[0m\u001b[0m_stateful_fn\u001b[0m \u001b[1;32mis\u001b[0m \u001b[1;32mnot\u001b[0m \u001b[1;32mNone\u001b[0m\u001b[1;33m:\u001b[0m\u001b[1;33m\u001b[0m\u001b[1;33m\u001b[0m\u001b[0m\n\u001b[0;32m    857\u001b[0m       \u001b[1;31m# Release the lock early so that multiple threads can perform the call\u001b[0m\u001b[1;33m\u001b[0m\u001b[1;33m\u001b[0m\u001b[1;33m\u001b[0m\u001b[0m\n",
      "\u001b[1;32m~\\anaconda3\\lib\\site-packages\\tensorflow\\python\\eager\\function.py\u001b[0m in \u001b[0;36m__call__\u001b[1;34m(self, *args, **kwargs)\u001b[0m\n\u001b[0;32m   2940\u001b[0m       (graph_function,\n\u001b[0;32m   2941\u001b[0m        filtered_flat_args) = self._maybe_define_function(args, kwargs)\n\u001b[1;32m-> 2942\u001b[1;33m     return graph_function._call_flat(\n\u001b[0m\u001b[0;32m   2943\u001b[0m         filtered_flat_args, captured_inputs=graph_function.captured_inputs)  # pylint: disable=protected-access\n\u001b[0;32m   2944\u001b[0m \u001b[1;33m\u001b[0m\u001b[0m\n",
      "\u001b[1;32m~\\anaconda3\\lib\\site-packages\\tensorflow\\python\\eager\\function.py\u001b[0m in \u001b[0;36m_call_flat\u001b[1;34m(self, args, captured_inputs, cancellation_manager)\u001b[0m\n\u001b[0;32m   1916\u001b[0m         and executing_eagerly):\n\u001b[0;32m   1917\u001b[0m       \u001b[1;31m# No tape is watching; skip to running the function.\u001b[0m\u001b[1;33m\u001b[0m\u001b[1;33m\u001b[0m\u001b[1;33m\u001b[0m\u001b[0m\n\u001b[1;32m-> 1918\u001b[1;33m       return self._build_call_outputs(self._inference_function.call(\n\u001b[0m\u001b[0;32m   1919\u001b[0m           ctx, args, cancellation_manager=cancellation_manager))\n\u001b[0;32m   1920\u001b[0m     forward_backward = self._select_forward_and_backward_functions(\n",
      "\u001b[1;32m~\\anaconda3\\lib\\site-packages\\tensorflow\\python\\eager\\function.py\u001b[0m in \u001b[0;36mcall\u001b[1;34m(self, ctx, args, cancellation_manager)\u001b[0m\n\u001b[0;32m    553\u001b[0m       \u001b[1;32mwith\u001b[0m \u001b[0m_InterpolateFunctionError\u001b[0m\u001b[1;33m(\u001b[0m\u001b[0mself\u001b[0m\u001b[1;33m)\u001b[0m\u001b[1;33m:\u001b[0m\u001b[1;33m\u001b[0m\u001b[1;33m\u001b[0m\u001b[0m\n\u001b[0;32m    554\u001b[0m         \u001b[1;32mif\u001b[0m \u001b[0mcancellation_manager\u001b[0m \u001b[1;32mis\u001b[0m \u001b[1;32mNone\u001b[0m\u001b[1;33m:\u001b[0m\u001b[1;33m\u001b[0m\u001b[1;33m\u001b[0m\u001b[0m\n\u001b[1;32m--> 555\u001b[1;33m           outputs = execute.execute(\n\u001b[0m\u001b[0;32m    556\u001b[0m               \u001b[0mstr\u001b[0m\u001b[1;33m(\u001b[0m\u001b[0mself\u001b[0m\u001b[1;33m.\u001b[0m\u001b[0msignature\u001b[0m\u001b[1;33m.\u001b[0m\u001b[0mname\u001b[0m\u001b[1;33m)\u001b[0m\u001b[1;33m,\u001b[0m\u001b[1;33m\u001b[0m\u001b[1;33m\u001b[0m\u001b[0m\n\u001b[0;32m    557\u001b[0m               \u001b[0mnum_outputs\u001b[0m\u001b[1;33m=\u001b[0m\u001b[0mself\u001b[0m\u001b[1;33m.\u001b[0m\u001b[0m_num_outputs\u001b[0m\u001b[1;33m,\u001b[0m\u001b[1;33m\u001b[0m\u001b[1;33m\u001b[0m\u001b[0m\n",
      "\u001b[1;32m~\\anaconda3\\lib\\site-packages\\tensorflow\\python\\eager\\execute.py\u001b[0m in \u001b[0;36mquick_execute\u001b[1;34m(op_name, num_outputs, inputs, attrs, ctx, name)\u001b[0m\n\u001b[0;32m     57\u001b[0m   \u001b[1;32mtry\u001b[0m\u001b[1;33m:\u001b[0m\u001b[1;33m\u001b[0m\u001b[1;33m\u001b[0m\u001b[0m\n\u001b[0;32m     58\u001b[0m     \u001b[0mctx\u001b[0m\u001b[1;33m.\u001b[0m\u001b[0mensure_initialized\u001b[0m\u001b[1;33m(\u001b[0m\u001b[1;33m)\u001b[0m\u001b[1;33m\u001b[0m\u001b[1;33m\u001b[0m\u001b[0m\n\u001b[1;32m---> 59\u001b[1;33m     tensors = pywrap_tfe.TFE_Py_Execute(ctx._handle, device_name, op_name,\n\u001b[0m\u001b[0;32m     60\u001b[0m                                         inputs, attrs, num_outputs)\n\u001b[0;32m     61\u001b[0m   \u001b[1;32mexcept\u001b[0m \u001b[0mcore\u001b[0m\u001b[1;33m.\u001b[0m\u001b[0m_NotOkStatusException\u001b[0m \u001b[1;32mas\u001b[0m \u001b[0me\u001b[0m\u001b[1;33m:\u001b[0m\u001b[1;33m\u001b[0m\u001b[1;33m\u001b[0m\u001b[0m\n",
      "\u001b[1;31mKeyboardInterrupt\u001b[0m: "
     ]
    }
   ],
   "source": [
    "rlr = ReduceLROnPlateau(monitor='loss', factor=0.5, patience=3, min_lr=0.0001)\n",
    "mc = ModelCheckpoint('best_model_lstm2.h5', monitor='val_loss', save_best_only=True)\n",
    "es = EarlyStopping(monitor='val_loss', patience=10)\n",
    "\n",
    "callbacks = [rlr, mc, es]\n",
    "\n",
    "batch_size = 1024\n",
    "mini_batch_size = int(min(X_train.shape[0]/10, batch_size))\n",
    "\n",
    "history_lstm2 = lstm2.fit(X_train_cnn, y_train_cnn, epochs=50, batch_size=mini_batch_size, callbacks=callbacks,\n",
    "                          validation_data=(X_val_cnn, y_val_cnn)).history"
   ]
  },
  {
   "cell_type": "code",
   "execution_count": null,
   "metadata": {},
   "outputs": [],
   "source": [
    "y_pred = np.argmax(lstm2.predict(X_test), axis=1)\n",
    "\n",
    "print('Accuracy %s' % accuracy_score(y_test, y_pred))\n",
    "print('F1-score %s' % f1_score(y_test, y_pred, average=None))\n",
    "print(classification_report(y_test, y_pred))"
   ]
  },
  {
   "cell_type": "code",
   "execution_count": null,
   "metadata": {},
   "outputs": [],
   "source": []
  },
  {
   "cell_type": "code",
   "execution_count": null,
   "metadata": {},
   "outputs": [],
   "source": []
  },
  {
   "cell_type": "code",
   "execution_count": 54,
   "metadata": {
    "ExecuteTime": {
     "end_time": "2021-04-27T23:21:47.779208Z",
     "start_time": "2021-04-27T23:21:47.759205Z"
    }
   },
   "outputs": [
    {
     "data": {
      "text/plain": [
       "(35444, 1292, 1, 1)"
      ]
     },
     "execution_count": 54,
     "metadata": {},
     "output_type": "execute_result"
    }
   ],
   "source": [
    "X_train_cnn2 = X_train_cnn.reshape(X_train_cnn.shape[0], X_train_cnn.shape[1], X_train_cnn.shape[2], 1)\n",
    "X_val_cnn2 = X_val_cnn.reshape(X_val_cnn.shape[0], X_val_cnn.shape[1], X_val_cnn.shape[2], 1)\n",
    "X_test_cnn2 = X_test.reshape(X_test.shape[0], X_test.shape[1], X_test.shape[2], 1)\n",
    "\n",
    "X_train_cnn2.shape"
   ]
  },
  {
   "cell_type": "code",
   "execution_count": 55,
   "metadata": {
    "ExecuteTime": {
     "end_time": "2021-04-27T23:22:01.601092Z",
     "start_time": "2021-04-27T23:22:01.243144Z"
    }
   },
   "outputs": [
    {
     "name": "stdout",
     "output_type": "stream",
     "text": [
      "Model: \"sequential_4\"\n",
      "_________________________________________________________________\n",
      "Layer (type)                 Output Shape              Param #   \n",
      "=================================================================\n",
      "conv2d (Conv2D)              (None, 1292, 1, 3)        30        \n",
      "_________________________________________________________________\n",
      "batch_normalization_14 (Batc (None, 1292, 1, 3)        12        \n",
      "_________________________________________________________________\n",
      "leaky_re_lu_8 (LeakyReLU)    (None, 1292, 1, 3)        0         \n",
      "_________________________________________________________________\n",
      "dropout_16 (Dropout)         (None, 1292, 1, 3)        0         \n",
      "_________________________________________________________________\n",
      "conv2d_1 (Conv2D)            (None, 1292, 1, 4)        196       \n",
      "_________________________________________________________________\n",
      "batch_normalization_15 (Batc (None, 1292, 1, 4)        16        \n",
      "_________________________________________________________________\n",
      "leaky_re_lu_9 (LeakyReLU)    (None, 1292, 1, 4)        0         \n",
      "_________________________________________________________________\n",
      "dropout_17 (Dropout)         (None, 1292, 1, 4)        0         \n",
      "_________________________________________________________________\n",
      "conv2d_2 (Conv2D)            (None, 1292, 1, 4)        260       \n",
      "_________________________________________________________________\n",
      "batch_normalization_16 (Batc (None, 1292, 1, 4)        16        \n",
      "_________________________________________________________________\n",
      "leaky_re_lu_10 (LeakyReLU)   (None, 1292, 1, 4)        0         \n",
      "_________________________________________________________________\n",
      "dropout_18 (Dropout)         (None, 1292, 1, 4)        0         \n",
      "_________________________________________________________________\n",
      "flatten (Flatten)            (None, 5168)              0         \n",
      "_________________________________________________________________\n",
      "dense_9 (Dense)              (None, 64)                330816    \n",
      "_________________________________________________________________\n",
      "batch_normalization_17 (Batc (None, 64)                256       \n",
      "_________________________________________________________________\n",
      "leaky_re_lu_11 (LeakyReLU)   (None, 64)                0         \n",
      "_________________________________________________________________\n",
      "dropout_19 (Dropout)         (None, 64)                0         \n",
      "_________________________________________________________________\n",
      "dense_10 (Dense)             (None, 64)                4160      \n",
      "_________________________________________________________________\n",
      "batch_normalization_18 (Batc (None, 64)                256       \n",
      "_________________________________________________________________\n",
      "leaky_re_lu_12 (LeakyReLU)   (None, 64)                0         \n",
      "_________________________________________________________________\n",
      "dropout_20 (Dropout)         (None, 64)                0         \n",
      "_________________________________________________________________\n",
      "dense_11 (Dense)             (None, 64)                4160      \n",
      "_________________________________________________________________\n",
      "batch_normalization_19 (Batc (None, 64)                256       \n",
      "_________________________________________________________________\n",
      "leaky_re_lu_13 (LeakyReLU)   (None, 64)                0         \n",
      "_________________________________________________________________\n",
      "dropout_21 (Dropout)         (None, 64)                0         \n",
      "_________________________________________________________________\n",
      "dense_12 (Dense)             (None, 64)                4160      \n",
      "_________________________________________________________________\n",
      "batch_normalization_20 (Batc (None, 64)                256       \n",
      "_________________________________________________________________\n",
      "leaky_re_lu_14 (LeakyReLU)   (None, 64)                0         \n",
      "_________________________________________________________________\n",
      "dropout_22 (Dropout)         (None, 64)                0         \n",
      "_________________________________________________________________\n",
      "dense_13 (Dense)             (None, 128)               8320      \n",
      "_________________________________________________________________\n",
      "batch_normalization_21 (Batc (None, 128)               512       \n",
      "_________________________________________________________________\n",
      "leaky_re_lu_15 (LeakyReLU)   (None, 128)               0         \n",
      "_________________________________________________________________\n",
      "dropout_23 (Dropout)         (None, 128)               0         \n",
      "_________________________________________________________________\n",
      "dense_14 (Dense)             (None, 128)               16512     \n",
      "_________________________________________________________________\n",
      "batch_normalization_22 (Batc (None, 128)               512       \n",
      "_________________________________________________________________\n",
      "leaky_re_lu_16 (LeakyReLU)   (None, 128)               0         \n",
      "_________________________________________________________________\n",
      "dropout_24 (Dropout)         (None, 128)               0         \n",
      "_________________________________________________________________\n",
      "dense_15 (Dense)             (None, 128)               16512     \n",
      "_________________________________________________________________\n",
      "batch_normalization_23 (Batc (None, 128)               512       \n",
      "_________________________________________________________________\n",
      "leaky_re_lu_17 (LeakyReLU)   (None, 128)               0         \n",
      "_________________________________________________________________\n",
      "dropout_25 (Dropout)         (None, 128)               0         \n",
      "_________________________________________________________________\n",
      "dense_16 (Dense)             (None, 1024)              132096    \n",
      "_________________________________________________________________\n",
      "batch_normalization_24 (Batc (None, 1024)              4096      \n",
      "_________________________________________________________________\n",
      "leaky_re_lu_18 (LeakyReLU)   (None, 1024)              0         \n",
      "_________________________________________________________________\n",
      "dropout_26 (Dropout)         (None, 1024)              0         \n",
      "_________________________________________________________________\n",
      "dense_17 (Dense)             (None, 2)                 2050      \n",
      "=================================================================\n",
      "Total params: 525,972\n",
      "Trainable params: 522,622\n",
      "Non-trainable params: 3,350\n",
      "_________________________________________________________________\n"
     ]
    }
   ],
   "source": [
    "def build_cnn2(n_timesteps, n_features, n_outputs):\n",
    "    input_shape = (n_timesteps, n_features, 1)\n",
    "\n",
    "    model = Sequential()\n",
    "    \n",
    "    ks1_first = 3\n",
    "    ks1_second = 3\n",
    "    \n",
    "    ks2_first = 4\n",
    "    ks2_second = 4\n",
    "    \n",
    "    model.add(Conv2D(filters=(3), \n",
    "                     kernel_size=(ks1_first, ks1_second),\n",
    "                     input_shape=input_shape, \n",
    "                     padding='same',\n",
    "                     kernel_initializer='TruncatedNormal'))\n",
    "    model.add(BatchNormalization())\n",
    "    model.add(LeakyReLU())\n",
    "    model.add(Dropout(0.02))\n",
    "    \n",
    "    for _ in range(2):\n",
    "        model.add(Conv2D(filters=(4), \n",
    "                     kernel_size= (ks2_first, ks2_second), \n",
    "                         padding='same',\n",
    "                     kernel_initializer='TruncatedNormal'))\n",
    "        model.add(BatchNormalization())\n",
    "        model.add(LeakyReLU())\n",
    "        model.add(Dropout(0.2))  \n",
    "    \n",
    "    model.add(Flatten())\n",
    "    \n",
    "    for _ in range(4):\n",
    "        model.add(Dense(64 , kernel_initializer='TruncatedNormal'))\n",
    "        model.add(BatchNormalization())\n",
    "        model.add(LeakyReLU())\n",
    "        model.add(Dropout(0.4))\n",
    "    \n",
    "    for _ in range(3):\n",
    "        model.add(Dense(128 , kernel_initializer='TruncatedNormal'))\n",
    "        model.add(BatchNormalization())\n",
    "        model.add(LeakyReLU())\n",
    "        model.add(Dropout(0.3))\n",
    "  \n",
    "    model.add(Dense(1024 , kernel_initializer='TruncatedNormal'))\n",
    "    model.add(BatchNormalization())\n",
    "    model.add(LeakyReLU())\n",
    "    model.add(Dropout(0.7))\n",
    "        \n",
    "    model.add(Dense(n_outputs, activation='sigmoid'))\n",
    "    model.compile(loss='sparse_categorical_crossentropy', optimizer='adam', metrics=['accuracy'])\n",
    "    \n",
    "    return model\n",
    "\n",
    "\n",
    "cnn2 = build_cnn2(n_timesteps, n_features, n_outputs)\n",
    "\n",
    "cnn2.summary()"
   ]
  },
  {
   "cell_type": "code",
   "execution_count": 58,
   "metadata": {
    "ExecuteTime": {
     "end_time": "2021-04-27T23:22:41.048426Z",
     "start_time": "2021-04-27T23:22:41.043925Z"
    }
   },
   "outputs": [],
   "source": [
    "rlr = ReduceLROnPlateau(monitor='loss', factor=0.5, patience=3, min_lr=0.0001)\n",
    "mc = ModelCheckpoint('best_model_lstm2.h5', monitor='val_loss', save_best_only=True)\n",
    "es = EarlyStopping(monitor='val_loss', patience=10)\n",
    "\n",
    "callbacks = [rlr, mc, es]\n",
    "\n",
    "batch_size = 64\n",
    "mini_batch_size = int(min(X_train.shape[0]/10, batch_size))"
   ]
  },
  {
   "cell_type": "code",
   "execution_count": 59,
   "metadata": {
    "ExecuteTime": {
     "end_time": "2021-04-27T23:29:14.548581Z",
     "start_time": "2021-04-27T23:22:41.199953Z"
    }
   },
   "outputs": [
    {
     "name": "stdout",
     "output_type": "stream",
     "text": [
      "Epoch 1/1000\n",
      "554/554 [==============================] - 10s 18ms/step - loss: 0.6041 - accuracy: 0.7019 - val_loss: 0.5700 - val_accuracy: 0.7127\n",
      "Epoch 2/1000\n",
      "554/554 [==============================] - 10s 17ms/step - loss: 0.5851 - accuracy: 0.7057 - val_loss: 0.5609 - val_accuracy: 0.7127\n",
      "Epoch 3/1000\n",
      "554/554 [==============================] - 9s 17ms/step - loss: 0.5835 - accuracy: 0.7059 - val_loss: 0.5623 - val_accuracy: 0.7127\n",
      "Epoch 4/1000\n",
      "554/554 [==============================] - 10s 17ms/step - loss: 0.5854 - accuracy: 0.7051 - val_loss: 0.5952 - val_accuracy: 0.7127\n",
      "Epoch 5/1000\n",
      "554/554 [==============================] - 10s 17ms/step - loss: 0.5805 - accuracy: 0.7060 - val_loss: 0.5707 - val_accuracy: 0.7179\n",
      "Epoch 6/1000\n",
      "554/554 [==============================] - 10s 17ms/step - loss: 0.5707 - accuracy: 0.7134 - val_loss: 0.5787 - val_accuracy: 0.7235\n",
      "Epoch 7/1000\n",
      "554/554 [==============================] - 9s 17ms/step - loss: 0.5663 - accuracy: 0.7194 - val_loss: 0.5493 - val_accuracy: 0.7513\n",
      "Epoch 8/1000\n",
      "554/554 [==============================] - 10s 17ms/step - loss: 0.5437 - accuracy: 0.7351 - val_loss: 0.8854 - val_accuracy: 0.7126\n",
      "Epoch 9/1000\n",
      "554/554 [==============================] - 10s 17ms/step - loss: 0.5249 - accuracy: 0.7520 - val_loss: 0.6784 - val_accuracy: 0.5819\n",
      "Epoch 10/1000\n",
      "554/554 [==============================] - 10s 17ms/step - loss: 0.5153 - accuracy: 0.7605 - val_loss: 1.2494 - val_accuracy: 0.7130\n",
      "Epoch 11/1000\n",
      "554/554 [==============================] - 10s 17ms/step - loss: 0.5011 - accuracy: 0.7670 - val_loss: 0.5410 - val_accuracy: 0.7425\n",
      "Epoch 12/1000\n",
      "554/554 [==============================] - 10s 17ms/step - loss: 0.5015 - accuracy: 0.7708 - val_loss: 0.5466 - val_accuracy: 0.7202\n",
      "Epoch 13/1000\n",
      "554/554 [==============================] - 9s 17ms/step - loss: 0.4930 - accuracy: 0.7766 - val_loss: 0.6476 - val_accuracy: 0.7585\n",
      "Epoch 14/1000\n",
      "554/554 [==============================] - 9s 17ms/step - loss: 0.4952 - accuracy: 0.7747 - val_loss: 0.6016 - val_accuracy: 0.7230\n",
      "Epoch 15/1000\n",
      "554/554 [==============================] - 9s 17ms/step - loss: 0.4810 - accuracy: 0.7803 - val_loss: 0.5018 - val_accuracy: 0.7730\n",
      "Epoch 16/1000\n",
      "554/554 [==============================] - 10s 17ms/step - loss: 0.4806 - accuracy: 0.7827 - val_loss: 0.8220 - val_accuracy: 0.7128\n",
      "Epoch 17/1000\n",
      "554/554 [==============================] - 10s 17ms/step - loss: 0.4791 - accuracy: 0.7855 - val_loss: 0.5006 - val_accuracy: 0.7749\n",
      "Epoch 18/1000\n",
      "554/554 [==============================] - 10s 17ms/step - loss: 0.4833 - accuracy: 0.7833 - val_loss: 0.5431 - val_accuracy: 0.7439\n",
      "Epoch 19/1000\n",
      "554/554 [==============================] - 10s 17ms/step - loss: 0.4701 - accuracy: 0.7900 - val_loss: 0.5015 - val_accuracy: 0.7648\n",
      "Epoch 20/1000\n",
      "554/554 [==============================] - 10s 17ms/step - loss: 0.4687 - accuracy: 0.7915 - val_loss: 0.5947 - val_accuracy: 0.7024\n",
      "Epoch 21/1000\n",
      "554/554 [==============================] - 10s 17ms/step - loss: 0.4667 - accuracy: 0.7923 - val_loss: 0.6634 - val_accuracy: 0.7267\n",
      "Epoch 22/1000\n",
      "554/554 [==============================] - 10s 17ms/step - loss: 0.4606 - accuracy: 0.7928 - val_loss: 0.6173 - val_accuracy: 0.7397\n",
      "Epoch 23/1000\n",
      "554/554 [==============================] - 10s 17ms/step - loss: 0.4593 - accuracy: 0.7947 - val_loss: 0.5332 - val_accuracy: 0.7417\n",
      "Epoch 24/1000\n",
      "554/554 [==============================] - 10s 17ms/step - loss: 0.4577 - accuracy: 0.7934 - val_loss: 0.4864 - val_accuracy: 0.7714\n",
      "Epoch 25/1000\n",
      "554/554 [==============================] - 10s 17ms/step - loss: 0.4479 - accuracy: 0.8021 - val_loss: 0.5249 - val_accuracy: 0.7548\n",
      "Epoch 26/1000\n",
      "554/554 [==============================] - 10s 17ms/step - loss: 0.4492 - accuracy: 0.8019 - val_loss: 0.7047 - val_accuracy: 0.5143\n",
      "Epoch 27/1000\n",
      "554/554 [==============================] - 10s 17ms/step - loss: 0.4552 - accuracy: 0.7965 - val_loss: 0.5250 - val_accuracy: 0.7701\n",
      "Epoch 28/1000\n",
      "554/554 [==============================] - 10s 17ms/step - loss: 0.4495 - accuracy: 0.8022 - val_loss: 0.5823 - val_accuracy: 0.7413\n",
      "Epoch 29/1000\n",
      "554/554 [==============================] - 10s 17ms/step - loss: 0.4362 - accuracy: 0.8075 - val_loss: 0.5318 - val_accuracy: 0.7689\n",
      "Epoch 30/1000\n",
      "554/554 [==============================] - 10s 17ms/step - loss: 0.4275 - accuracy: 0.8099 - val_loss: 0.5642 - val_accuracy: 0.7718\n",
      "Epoch 31/1000\n",
      "554/554 [==============================] - 10s 17ms/step - loss: 0.4268 - accuracy: 0.8117 - val_loss: 0.4713 - val_accuracy: 0.7872\n",
      "Epoch 32/1000\n",
      "554/554 [==============================] - 9s 17ms/step - loss: 0.4236 - accuracy: 0.8131 - val_loss: 0.4994 - val_accuracy: 0.7795\n",
      "Epoch 33/1000\n",
      "554/554 [==============================] - 10s 17ms/step - loss: 0.4206 - accuracy: 0.8154 - val_loss: 0.6645 - val_accuracy: 0.7261\n",
      "Epoch 34/1000\n",
      "554/554 [==============================] - 10s 17ms/step - loss: 0.4184 - accuracy: 0.8176 - val_loss: 0.4792 - val_accuracy: 0.7829\n",
      "Epoch 35/1000\n",
      "554/554 [==============================] - 10s 17ms/step - loss: 0.4169 - accuracy: 0.8155 - val_loss: 0.5328 - val_accuracy: 0.7763\n",
      "Epoch 36/1000\n",
      "554/554 [==============================] - 10s 17ms/step - loss: 0.4158 - accuracy: 0.8190 - val_loss: 0.5514 - val_accuracy: 0.7688\n",
      "Epoch 37/1000\n",
      "554/554 [==============================] - 10s 17ms/step - loss: 0.4115 - accuracy: 0.8188 - val_loss: 0.4843 - val_accuracy: 0.7848\n",
      "Epoch 38/1000\n",
      "554/554 [==============================] - 10s 17ms/step - loss: 0.4106 - accuracy: 0.8201 - val_loss: 0.4909 - val_accuracy: 0.7752\n",
      "Epoch 39/1000\n",
      "554/554 [==============================] - 10s 18ms/step - loss: 0.4087 - accuracy: 0.8219 - val_loss: 0.4799 - val_accuracy: 0.7885\n",
      "Epoch 40/1000\n",
      "554/554 [==============================] - 10s 17ms/step - loss: 0.4067 - accuracy: 0.8225 - val_loss: 0.4767 - val_accuracy: 0.7863\n",
      "Epoch 41/1000\n",
      "554/554 [==============================] - 10s 18ms/step - loss: 0.4064 - accuracy: 0.8229 - val_loss: 0.5527 - val_accuracy: 0.7316\n"
     ]
    }
   ],
   "source": [
    "history_cnn2 = cnn2.fit(X_train_cnn2, y_train_cnn, epochs=1000, batch_size=mini_batch_size, callbacks=callbacks,\n",
    "                      validation_data=(X_val_cnn2, y_val_cnn)).history"
   ]
  },
  {
   "cell_type": "code",
   "execution_count": 60,
   "metadata": {
    "ExecuteTime": {
     "end_time": "2021-04-27T23:29:15.323252Z",
     "start_time": "2021-04-27T23:29:14.643598Z"
    }
   },
   "outputs": [
    {
     "name": "stdout",
     "output_type": "stream",
     "text": [
      "Accuracy 0.732480195003047\n",
      "F1-score [0.80514869 0.57337221]\n",
      "              precision    recall  f1-score   support\n",
      "\n",
      "           0       0.84      0.78      0.81      3508\n",
      "           1       0.53      0.63      0.57      1415\n",
      "\n",
      "    accuracy                           0.73      4923\n",
      "   macro avg       0.68      0.70      0.69      4923\n",
      "weighted avg       0.75      0.73      0.74      4923\n",
      "\n"
     ]
    }
   ],
   "source": [
    "y_pred = np.argmax(cnn2.predict(X_test_cnn2), axis=1)\n",
    "\n",
    "print('Accuracy %s' % accuracy_score(y_test, y_pred))\n",
    "print('F1-score %s' % f1_score(y_test, y_pred, average=None))\n",
    "print(classification_report(y_test, y_pred))"
   ]
  },
  {
   "cell_type": "code",
   "execution_count": null,
   "metadata": {},
   "outputs": [],
   "source": []
  },
  {
   "cell_type": "code",
   "execution_count": 61,
   "metadata": {
    "ExecuteTime": {
     "end_time": "2021-04-27T23:29:15.524788Z",
     "start_time": "2021-04-27T23:29:15.417769Z"
    }
   },
   "outputs": [
    {
     "name": "stdout",
     "output_type": "stream",
     "text": [
      "Model: \"sequential_5\"\n",
      "_________________________________________________________________\n",
      "Layer (type)                 Output Shape              Param #   \n",
      "=================================================================\n",
      "conv1d_6 (Conv1D)            (None, 1285, 16)          144       \n",
      "_________________________________________________________________\n",
      "batch_normalization_25 (Batc (None, 1285, 16)          64        \n",
      "_________________________________________________________________\n",
      "activation_6 (Activation)    (None, 1285, 16)          0         \n",
      "_________________________________________________________________\n",
      "dropout_27 (Dropout)         (None, 1285, 16)          0         \n",
      "_________________________________________________________________\n",
      "conv1d_7 (Conv1D)            (None, 1281, 32)          2592      \n",
      "_________________________________________________________________\n",
      "batch_normalization_26 (Batc (None, 1281, 32)          128       \n",
      "_________________________________________________________________\n",
      "activation_7 (Activation)    (None, 1281, 32)          0         \n",
      "_________________________________________________________________\n",
      "dropout_28 (Dropout)         (None, 1281, 32)          0         \n",
      "_________________________________________________________________\n",
      "conv1d_8 (Conv1D)            (None, 1279, 64)          6208      \n",
      "_________________________________________________________________\n",
      "batch_normalization_27 (Batc (None, 1279, 64)          256       \n",
      "_________________________________________________________________\n",
      "activation_8 (Activation)    (None, 1279, 64)          0         \n",
      "_________________________________________________________________\n",
      "dropout_29 (Dropout)         (None, 1279, 64)          0         \n",
      "_________________________________________________________________\n",
      "global_average_pooling1d_2 ( (None, 64)                0         \n",
      "_________________________________________________________________\n",
      "dense_18 (Dense)             (None, 2)                 130       \n",
      "=================================================================\n",
      "Total params: 9,522\n",
      "Trainable params: 9,298\n",
      "Non-trainable params: 224\n",
      "_________________________________________________________________\n"
     ]
    }
   ],
   "source": [
    "def build_cnn3(n_timesteps, n_outputs, n_features):\n",
    "    model = Sequential()\n",
    "    \n",
    "    model.add(Conv1D(filters=16, kernel_size=8, activation='relu', input_shape=(n_timesteps, n_features)))\n",
    "    model.add(BatchNormalization())\n",
    "    model.add(Activation('relu'))\n",
    "    \n",
    "    model.add(Dropout(0.3))\n",
    "    \n",
    "    model.add(Conv1D(filters=32, kernel_size=5, activation='relu'))\n",
    "    model.add(BatchNormalization())\n",
    "    model.add(Activation('relu'))\n",
    "    \n",
    "    model.add(Dropout(0.3))\n",
    "    \n",
    "    model.add(Conv1D(filters=64, kernel_size=3, activation='relu'))\n",
    "    model.add(BatchNormalization())\n",
    "    model.add(Activation('relu'))\n",
    "    \n",
    "    model.add(Dropout(0.3))\n",
    "    \n",
    "    model.add(GlobalAveragePooling1D())\n",
    "    \n",
    "    model.add(Dense(n_outputs, activation='sigmoid'))\n",
    "    model.compile(loss='sparse_categorical_crossentropy', optimizer='adam', metrics=['accuracy'])\n",
    "    \n",
    "    return model\n",
    "\n",
    "\n",
    "cnn3 = build_cnn3(n_timesteps, n_outputs, n_features)\n",
    "\n",
    "cnn3.summary()"
   ]
  },
  {
   "cell_type": "code",
   "execution_count": 62,
   "metadata": {
    "ExecuteTime": {
     "end_time": "2021-04-27T23:32:48.668675Z",
     "start_time": "2021-04-27T23:29:15.619305Z"
    }
   },
   "outputs": [
    {
     "name": "stdout",
     "output_type": "stream",
     "text": [
      "Epoch 1/1000\n",
      "1108/1108 [==============================] - 18s 15ms/step - loss: 0.5246 - accuracy: 0.7512 - val_loss: 0.5065 - val_accuracy: 0.7483\n",
      "Epoch 2/1000\n",
      "1108/1108 [==============================] - 16s 15ms/step - loss: 0.4770 - accuracy: 0.7827 - val_loss: 0.5081 - val_accuracy: 0.7405\n",
      "Epoch 3/1000\n",
      "1108/1108 [==============================] - 16s 15ms/step - loss: 0.4688 - accuracy: 0.7884 - val_loss: 0.4596 - val_accuracy: 0.7949\n",
      "Epoch 4/1000\n",
      "1108/1108 [==============================] - 16s 15ms/step - loss: 0.4686 - accuracy: 0.7895 - val_loss: 0.4882 - val_accuracy: 0.7804\n",
      "Epoch 5/1000\n",
      "1108/1108 [==============================] - 16s 15ms/step - loss: 0.4618 - accuracy: 0.7936 - val_loss: 0.4860 - val_accuracy: 0.7595\n",
      "Epoch 6/1000\n",
      "1108/1108 [==============================] - 16s 15ms/step - loss: 0.4766 - accuracy: 0.7854 - val_loss: 0.4782 - val_accuracy: 0.7852\n",
      "Epoch 7/1000\n",
      "1108/1108 [==============================] - 16s 15ms/step - loss: 0.4634 - accuracy: 0.7902 - val_loss: 0.4978 - val_accuracy: 0.7467\n",
      "Epoch 8/1000\n",
      "1108/1108 [==============================] - 16s 15ms/step - loss: 0.4608 - accuracy: 0.7907 - val_loss: 0.4620 - val_accuracy: 0.7987\n",
      "Epoch 9/1000\n",
      "1108/1108 [==============================] - 16s 15ms/step - loss: 0.4572 - accuracy: 0.7962 - val_loss: 0.4663 - val_accuracy: 0.7933\n",
      "Epoch 10/1000\n",
      "1108/1108 [==============================] - 16s 15ms/step - loss: 0.4571 - accuracy: 0.7964 - val_loss: 0.4653 - val_accuracy: 0.8006\n",
      "Epoch 11/1000\n",
      "1108/1108 [==============================] - 16s 15ms/step - loss: 0.4507 - accuracy: 0.7984 - val_loss: 0.4735 - val_accuracy: 0.7945\n",
      "Epoch 12/1000\n",
      "1108/1108 [==============================] - 16s 15ms/step - loss: 0.4584 - accuracy: 0.7953 - val_loss: 0.4943 - val_accuracy: 0.7789\n",
      "Epoch 13/1000\n",
      "1108/1108 [==============================] - 16s 15ms/step - loss: 0.4524 - accuracy: 0.7967 - val_loss: 0.4883 - val_accuracy: 0.7842\n"
     ]
    }
   ],
   "source": [
    "rlr = ReduceLROnPlateau(monitor='loss', factor=0.5, patience=3, min_lr=0.0001)\n",
    "mc = ModelCheckpoint('best_model_lstm2.h5', monitor='val_loss', save_best_only=True)\n",
    "es = EarlyStopping(monitor='val_loss', patience=10)\n",
    "\n",
    "callbacks = [rlr, mc, es]\n",
    "\n",
    "batch_size = 32\n",
    "mini_batch_size = int(min(X_train.shape[0]/10, batch_size))\n",
    "\n",
    "\n",
    "history_cnn3 = cnn3.fit(X_train_cnn, y_train_cnn, epochs=1000, batch_size=mini_batch_size, callbacks=callbacks,\n",
    "                      validation_data=(X_val_cnn, y_val_cnn)).history"
   ]
  },
  {
   "cell_type": "code",
   "execution_count": 63,
   "metadata": {
    "ExecuteTime": {
     "end_time": "2021-04-27T23:32:49.304288Z",
     "start_time": "2021-04-27T23:32:48.763192Z"
    }
   },
   "outputs": [
    {
     "name": "stdout",
     "output_type": "stream",
     "text": [
      "Accuracy 0.7844810075157425\n",
      "F1-score [0.84731616 0.63375906]\n",
      "              precision    recall  f1-score   support\n",
      "\n",
      "           0       0.86      0.84      0.85      3508\n",
      "           1       0.62      0.65      0.63      1415\n",
      "\n",
      "    accuracy                           0.78      4923\n",
      "   macro avg       0.74      0.74      0.74      4923\n",
      "weighted avg       0.79      0.78      0.79      4923\n",
      "\n"
     ]
    }
   ],
   "source": [
    "y_pred = np.argmax(cnn3.predict(X_test), axis=1)\n",
    "\n",
    "print('Accuracy %s' % accuracy_score(y_test, y_pred))\n",
    "print('F1-score %s' % f1_score(y_test, y_pred, average=None))\n",
    "print(classification_report(y_test, y_pred))"
   ]
  },
  {
   "cell_type": "code",
   "execution_count": null,
   "metadata": {},
   "outputs": [],
   "source": []
  }
 ],
 "metadata": {
  "kernelspec": {
   "display_name": "Python 3",
   "language": "python",
   "name": "python3"
  },
  "language_info": {
   "codemirror_mode": {
    "name": "ipython",
    "version": 3
   },
   "file_extension": ".py",
   "mimetype": "text/x-python",
   "name": "python",
   "nbconvert_exporter": "python",
   "pygments_lexer": "ipython3",
   "version": "3.8.5"
  },
  "toc": {
   "base_numbering": 1,
   "nav_menu": {
    "height": "454px",
    "width": "270px"
   },
   "number_sections": true,
   "sideBar": true,
   "skip_h1_title": false,
   "title_cell": "Table of Contents",
   "title_sidebar": "Contents",
   "toc_cell": false,
   "toc_position": {
    "height": "calc(100% - 180px)",
    "left": "10px",
    "top": "150px",
    "width": "282.6px"
   },
   "toc_section_display": true,
   "toc_window_display": true
  },
  "varInspector": {
   "cols": {
    "lenName": 16,
    "lenType": 16,
    "lenVar": 40
   },
   "kernels_config": {
    "python": {
     "delete_cmd_postfix": "",
     "delete_cmd_prefix": "del ",
     "library": "var_list.py",
     "varRefreshCmd": "print(var_dic_list())"
    },
    "r": {
     "delete_cmd_postfix": ") ",
     "delete_cmd_prefix": "rm(",
     "library": "var_list.r",
     "varRefreshCmd": "cat(var_dic_list()) "
    }
   },
   "oldHeight": 890.4,
   "position": {
    "height": "40px",
    "left": "1604px",
    "right": "20px",
    "top": "113px",
    "width": "423px"
   },
   "types_to_exclude": [
    "module",
    "function",
    "builtin_function_or_method",
    "instance",
    "_Feature"
   ],
   "varInspector_section_display": "none",
   "window_display": true
  }
 },
 "nbformat": 4,
 "nbformat_minor": 4
}
