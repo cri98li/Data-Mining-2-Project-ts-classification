{
 "cells": [
  {
   "cell_type": "code",
   "execution_count": 1,
   "metadata": {
    "ExecuteTime": {
     "end_time": "2021-05-27T08:20:44.136697Z",
     "start_time": "2021-05-27T08:20:42.887599Z"
    }
   },
   "outputs": [],
   "source": [
    "%matplotlib inline\n",
    "\n",
    "import numpy as np\n",
    "import pandas as pd\n",
    "import matplotlib.pyplot as plt\n",
    "\n",
    "from collections import defaultdict\n",
    "\n",
    "from sklearn.metrics import accuracy_score, f1_score\n",
    "from sklearn.model_selection import train_test_split\n",
    "from tqdm.notebook import tqdm\n",
    "\n",
    "\n",
    "def report(results, n_top=3):\n",
    "    for i in range(1, n_top + 1):\n",
    "        candidates = np.flatnonzero(results['rank_test_score'] == i)\n",
    "        for candidate in candidates:\n",
    "            print(\"Model with rank: {0}\".format(i))\n",
    "            print(\"Mean validation score: {0:.3f} (std: {1:.3f})\".format(\n",
    "                  results['mean_test_score'][candidate],\n",
    "                  results['std_test_score'][candidate]))\n",
    "            print(\"Parameters: {0}\".format(results['params'][candidate]))\n",
    "            print(\"\")"
   ]
  },
  {
   "cell_type": "code",
   "execution_count": 2,
   "metadata": {
    "ExecuteTime": {
     "end_time": "2021-05-27T08:20:45.748865Z",
     "start_time": "2021-05-27T08:20:44.200091Z"
    }
   },
   "outputs": [
    {
     "data": {
      "text/html": [
       "<div>\n",
       "<style scoped>\n",
       "    .dataframe tbody tr th:only-of-type {\n",
       "        vertical-align: middle;\n",
       "    }\n",
       "\n",
       "    .dataframe tbody tr th {\n",
       "        vertical-align: top;\n",
       "    }\n",
       "\n",
       "    .dataframe thead th {\n",
       "        text-align: right;\n",
       "    }\n",
       "</style>\n",
       "<table border=\"1\" class=\"dataframe\">\n",
       "  <thead>\n",
       "    <tr style=\"text-align: right;\">\n",
       "      <th></th>\n",
       "      <th>track_id</th>\n",
       "      <th>ALBUM_date_released_year</th>\n",
       "      <th>ALBUM_favorites</th>\n",
       "      <th>ALBUM_type</th>\n",
       "      <th>ALBUM_tags</th>\n",
       "      <th>ALBUM_tracks</th>\n",
       "      <th>ALBUM_listens</th>\n",
       "      <th>ALBUM_title</th>\n",
       "      <th>SET_subset</th>\n",
       "      <th>ARTIST_favorites</th>\n",
       "      <th>...</th>\n",
       "      <th>spectral_contraststd</th>\n",
       "      <th>tonnetzkurtosis</th>\n",
       "      <th>tonnetzmax</th>\n",
       "      <th>tonnetzmean</th>\n",
       "      <th>tonnetzmedian</th>\n",
       "      <th>tonnetzmin</th>\n",
       "      <th>tonnetzskew</th>\n",
       "      <th>tonnetzstd</th>\n",
       "      <th>ARTIST_location_</th>\n",
       "      <th>TRACK_genre_top_num</th>\n",
       "    </tr>\n",
       "  </thead>\n",
       "  <tbody>\n",
       "    <tr>\n",
       "      <th>0</th>\n",
       "      <td>2</td>\n",
       "      <td>2009.0</td>\n",
       "      <td>4.0</td>\n",
       "      <td>Album</td>\n",
       "      <td>[]</td>\n",
       "      <td>7.0</td>\n",
       "      <td>6073.0</td>\n",
       "      <td>AWOL - A Way Of Life</td>\n",
       "      <td>small</td>\n",
       "      <td>2.302585</td>\n",
       "      <td>...</td>\n",
       "      <td>0.746760</td>\n",
       "      <td>1.335255</td>\n",
       "      <td>-0.069000</td>\n",
       "      <td>0.063224</td>\n",
       "      <td>-0.055764</td>\n",
       "      <td>0.206749</td>\n",
       "      <td>-0.152102</td>\n",
       "      <td>-0.075675</td>\n",
       "      <td>North America</td>\n",
       "      <td>0</td>\n",
       "    </tr>\n",
       "    <tr>\n",
       "      <th>1</th>\n",
       "      <td>3</td>\n",
       "      <td>2009.0</td>\n",
       "      <td>4.0</td>\n",
       "      <td>Album</td>\n",
       "      <td>[]</td>\n",
       "      <td>7.0</td>\n",
       "      <td>6073.0</td>\n",
       "      <td>AWOL - A Way Of Life</td>\n",
       "      <td>medium</td>\n",
       "      <td>2.302585</td>\n",
       "      <td>...</td>\n",
       "      <td>1.221668</td>\n",
       "      <td>0.087193</td>\n",
       "      <td>-0.092808</td>\n",
       "      <td>-0.029543</td>\n",
       "      <td>0.014404</td>\n",
       "      <td>0.106603</td>\n",
       "      <td>-0.251621</td>\n",
       "      <td>-0.060280</td>\n",
       "      <td>North America</td>\n",
       "      <td>0</td>\n",
       "    </tr>\n",
       "    <tr>\n",
       "      <th>2</th>\n",
       "      <td>5</td>\n",
       "      <td>2009.0</td>\n",
       "      <td>4.0</td>\n",
       "      <td>Album</td>\n",
       "      <td>[]</td>\n",
       "      <td>7.0</td>\n",
       "      <td>6073.0</td>\n",
       "      <td>AWOL - A Way Of Life</td>\n",
       "      <td>small</td>\n",
       "      <td>2.302585</td>\n",
       "      <td>...</td>\n",
       "      <td>1.546327</td>\n",
       "      <td>3.707580</td>\n",
       "      <td>-0.159586</td>\n",
       "      <td>0.005594</td>\n",
       "      <td>-0.004815</td>\n",
       "      <td>0.052547</td>\n",
       "      <td>-0.209312</td>\n",
       "      <td>-0.052692</td>\n",
       "      <td>North America</td>\n",
       "      <td>0</td>\n",
       "    </tr>\n",
       "    <tr>\n",
       "      <th>3</th>\n",
       "      <td>10</td>\n",
       "      <td>2008.0</td>\n",
       "      <td>4.0</td>\n",
       "      <td>Album</td>\n",
       "      <td>[]</td>\n",
       "      <td>2.0</td>\n",
       "      <td>47632.0</td>\n",
       "      <td>Constant Hitmaker</td>\n",
       "      <td>small</td>\n",
       "      <td>4.317488</td>\n",
       "      <td>...</td>\n",
       "      <td>1.987875</td>\n",
       "      <td>1.841458</td>\n",
       "      <td>-0.089548</td>\n",
       "      <td>-0.084626</td>\n",
       "      <td>0.077173</td>\n",
       "      <td>-0.015011</td>\n",
       "      <td>-0.360596</td>\n",
       "      <td>-0.026267</td>\n",
       "      <td>NaN</td>\n",
       "      <td>0</td>\n",
       "    </tr>\n",
       "    <tr>\n",
       "      <th>9</th>\n",
       "      <td>134</td>\n",
       "      <td>2009.0</td>\n",
       "      <td>4.0</td>\n",
       "      <td>Album</td>\n",
       "      <td>[]</td>\n",
       "      <td>7.0</td>\n",
       "      <td>6073.0</td>\n",
       "      <td>AWOL - A Way Of Life</td>\n",
       "      <td>medium</td>\n",
       "      <td>2.302585</td>\n",
       "      <td>...</td>\n",
       "      <td>2.088149</td>\n",
       "      <td>6.580380</td>\n",
       "      <td>-0.146649</td>\n",
       "      <td>-0.041780</td>\n",
       "      <td>0.039949</td>\n",
       "      <td>0.023004</td>\n",
       "      <td>-1.213183</td>\n",
       "      <td>-0.056095</td>\n",
       "      <td>North America</td>\n",
       "      <td>0</td>\n",
       "    </tr>\n",
       "    <tr>\n",
       "      <th>...</th>\n",
       "      <td>...</td>\n",
       "      <td>...</td>\n",
       "      <td>...</td>\n",
       "      <td>...</td>\n",
       "      <td>...</td>\n",
       "      <td>...</td>\n",
       "      <td>...</td>\n",
       "      <td>...</td>\n",
       "      <td>...</td>\n",
       "      <td>...</td>\n",
       "      <td>...</td>\n",
       "      <td>...</td>\n",
       "      <td>...</td>\n",
       "      <td>...</td>\n",
       "      <td>...</td>\n",
       "      <td>...</td>\n",
       "      <td>...</td>\n",
       "      <td>...</td>\n",
       "      <td>...</td>\n",
       "      <td>...</td>\n",
       "      <td>...</td>\n",
       "    </tr>\n",
       "    <tr>\n",
       "      <th>104466</th>\n",
       "      <td>155315</td>\n",
       "      <td>2017.0</td>\n",
       "      <td>0.0</td>\n",
       "      <td>Live Performance</td>\n",
       "      <td>[]</td>\n",
       "      <td>6.0</td>\n",
       "      <td>1506.0</td>\n",
       "      <td>Live at Monty Hall, 2/17/2017</td>\n",
       "      <td>large</td>\n",
       "      <td>0.000000</td>\n",
       "      <td>...</td>\n",
       "      <td>0.896165</td>\n",
       "      <td>-1.260438</td>\n",
       "      <td>-0.059327</td>\n",
       "      <td>0.022795</td>\n",
       "      <td>-0.011546</td>\n",
       "      <td>0.097424</td>\n",
       "      <td>0.618452</td>\n",
       "      <td>0.003335</td>\n",
       "      <td>North America</td>\n",
       "      <td>1</td>\n",
       "    </tr>\n",
       "    <tr>\n",
       "      <th>104467</th>\n",
       "      <td>155316</td>\n",
       "      <td>2017.0</td>\n",
       "      <td>0.0</td>\n",
       "      <td>Live Performance</td>\n",
       "      <td>[]</td>\n",
       "      <td>6.0</td>\n",
       "      <td>1506.0</td>\n",
       "      <td>Live at Monty Hall, 2/17/2017</td>\n",
       "      <td>large</td>\n",
       "      <td>0.000000</td>\n",
       "      <td>...</td>\n",
       "      <td>-1.297131</td>\n",
       "      <td>-0.902569</td>\n",
       "      <td>-0.010471</td>\n",
       "      <td>0.090281</td>\n",
       "      <td>-0.104228</td>\n",
       "      <td>-0.123058</td>\n",
       "      <td>0.233260</td>\n",
       "      <td>0.021846</td>\n",
       "      <td>North America</td>\n",
       "      <td>1</td>\n",
       "    </tr>\n",
       "    <tr>\n",
       "      <th>104468</th>\n",
       "      <td>155317</td>\n",
       "      <td>2017.0</td>\n",
       "      <td>0.0</td>\n",
       "      <td>Live Performance</td>\n",
       "      <td>[]</td>\n",
       "      <td>6.0</td>\n",
       "      <td>1506.0</td>\n",
       "      <td>Live at Monty Hall, 2/17/2017</td>\n",
       "      <td>large</td>\n",
       "      <td>0.000000</td>\n",
       "      <td>...</td>\n",
       "      <td>0.528187</td>\n",
       "      <td>-1.008135</td>\n",
       "      <td>0.155377</td>\n",
       "      <td>-0.135316</td>\n",
       "      <td>0.154183</td>\n",
       "      <td>-0.131252</td>\n",
       "      <td>-0.439485</td>\n",
       "      <td>0.051446</td>\n",
       "      <td>North America</td>\n",
       "      <td>1</td>\n",
       "    </tr>\n",
       "    <tr>\n",
       "      <th>104469</th>\n",
       "      <td>155318</td>\n",
       "      <td>2017.0</td>\n",
       "      <td>0.0</td>\n",
       "      <td>Live Performance</td>\n",
       "      <td>[]</td>\n",
       "      <td>6.0</td>\n",
       "      <td>1506.0</td>\n",
       "      <td>Live at Monty Hall, 2/17/2017</td>\n",
       "      <td>large</td>\n",
       "      <td>0.000000</td>\n",
       "      <td>...</td>\n",
       "      <td>-0.882132</td>\n",
       "      <td>-0.492957</td>\n",
       "      <td>0.030095</td>\n",
       "      <td>0.042125</td>\n",
       "      <td>-0.049494</td>\n",
       "      <td>-0.081322</td>\n",
       "      <td>-0.305773</td>\n",
       "      <td>-0.001345</td>\n",
       "      <td>North America</td>\n",
       "      <td>1</td>\n",
       "    </tr>\n",
       "    <tr>\n",
       "      <th>104470</th>\n",
       "      <td>155319</td>\n",
       "      <td>2017.0</td>\n",
       "      <td>0.0</td>\n",
       "      <td>Live Performance</td>\n",
       "      <td>[]</td>\n",
       "      <td>6.0</td>\n",
       "      <td>1506.0</td>\n",
       "      <td>Live at Monty Hall, 2/17/2017</td>\n",
       "      <td>large</td>\n",
       "      <td>0.000000</td>\n",
       "      <td>...</td>\n",
       "      <td>-1.530000</td>\n",
       "      <td>-1.679687</td>\n",
       "      <td>-0.027540</td>\n",
       "      <td>0.002422</td>\n",
       "      <td>-0.012549</td>\n",
       "      <td>0.010104</td>\n",
       "      <td>-0.134360</td>\n",
       "      <td>-0.014227</td>\n",
       "      <td>North America</td>\n",
       "      <td>1</td>\n",
       "    </tr>\n",
       "  </tbody>\n",
       "</table>\n",
       "<p>48922 rows × 126 columns</p>\n",
       "</div>"
      ],
      "text/plain": [
       "        track_id  ALBUM_date_released_year  ALBUM_favorites        ALBUM_type  \\\n",
       "0              2                    2009.0              4.0             Album   \n",
       "1              3                    2009.0              4.0             Album   \n",
       "2              5                    2009.0              4.0             Album   \n",
       "3             10                    2008.0              4.0             Album   \n",
       "9            134                    2009.0              4.0             Album   \n",
       "...          ...                       ...              ...               ...   \n",
       "104466    155315                    2017.0              0.0  Live Performance   \n",
       "104467    155316                    2017.0              0.0  Live Performance   \n",
       "104468    155317                    2017.0              0.0  Live Performance   \n",
       "104469    155318                    2017.0              0.0  Live Performance   \n",
       "104470    155319                    2017.0              0.0  Live Performance   \n",
       "\n",
       "       ALBUM_tags  ALBUM_tracks  ALBUM_listens                    ALBUM_title  \\\n",
       "0              []           7.0         6073.0           AWOL - A Way Of Life   \n",
       "1              []           7.0         6073.0           AWOL - A Way Of Life   \n",
       "2              []           7.0         6073.0           AWOL - A Way Of Life   \n",
       "3              []           2.0        47632.0              Constant Hitmaker   \n",
       "9              []           7.0         6073.0           AWOL - A Way Of Life   \n",
       "...           ...           ...            ...                            ...   \n",
       "104466         []           6.0         1506.0  Live at Monty Hall, 2/17/2017   \n",
       "104467         []           6.0         1506.0  Live at Monty Hall, 2/17/2017   \n",
       "104468         []           6.0         1506.0  Live at Monty Hall, 2/17/2017   \n",
       "104469         []           6.0         1506.0  Live at Monty Hall, 2/17/2017   \n",
       "104470         []           6.0         1506.0  Live at Monty Hall, 2/17/2017   \n",
       "\n",
       "       SET_subset  ARTIST_favorites  ... spectral_contraststd tonnetzkurtosis  \\\n",
       "0           small          2.302585  ...             0.746760        1.335255   \n",
       "1          medium          2.302585  ...             1.221668        0.087193   \n",
       "2           small          2.302585  ...             1.546327        3.707580   \n",
       "3           small          4.317488  ...             1.987875        1.841458   \n",
       "9          medium          2.302585  ...             2.088149        6.580380   \n",
       "...           ...               ...  ...                  ...             ...   \n",
       "104466      large          0.000000  ...             0.896165       -1.260438   \n",
       "104467      large          0.000000  ...            -1.297131       -0.902569   \n",
       "104468      large          0.000000  ...             0.528187       -1.008135   \n",
       "104469      large          0.000000  ...            -0.882132       -0.492957   \n",
       "104470      large          0.000000  ...            -1.530000       -1.679687   \n",
       "\n",
       "       tonnetzmax  tonnetzmean  tonnetzmedian tonnetzmin tonnetzskew  \\\n",
       "0       -0.069000     0.063224      -0.055764   0.206749   -0.152102   \n",
       "1       -0.092808    -0.029543       0.014404   0.106603   -0.251621   \n",
       "2       -0.159586     0.005594      -0.004815   0.052547   -0.209312   \n",
       "3       -0.089548    -0.084626       0.077173  -0.015011   -0.360596   \n",
       "9       -0.146649    -0.041780       0.039949   0.023004   -1.213183   \n",
       "...           ...          ...            ...        ...         ...   \n",
       "104466  -0.059327     0.022795      -0.011546   0.097424    0.618452   \n",
       "104467  -0.010471     0.090281      -0.104228  -0.123058    0.233260   \n",
       "104468   0.155377    -0.135316       0.154183  -0.131252   -0.439485   \n",
       "104469   0.030095     0.042125      -0.049494  -0.081322   -0.305773   \n",
       "104470  -0.027540     0.002422      -0.012549   0.010104   -0.134360   \n",
       "\n",
       "       tonnetzstd  ARTIST_location_  TRACK_genre_top_num  \n",
       "0       -0.075675     North America                    0  \n",
       "1       -0.060280     North America                    0  \n",
       "2       -0.052692     North America                    0  \n",
       "3       -0.026267               NaN                    0  \n",
       "9       -0.056095     North America                    0  \n",
       "...           ...               ...                  ...  \n",
       "104466   0.003335     North America                    1  \n",
       "104467   0.021846     North America                    1  \n",
       "104468   0.051446     North America                    1  \n",
       "104469  -0.001345     North America                    1  \n",
       "104470  -0.014227     North America                    1  \n",
       "\n",
       "[48922 rows x 126 columns]"
      ]
     },
     "execution_count": 2,
     "metadata": {},
     "output_type": "execute_result"
    }
   ],
   "source": [
    "class_name = 'TRACK_genre_top_num'\n",
    "df = pd.read_csv('flat_df_no_nulli_no_out.csv', skipinitialspace=True, na_values='?', keep_default_na=True)\n",
    "df = df[df.TRACK_genre_top.isna() == False] #droppo i nulli\n",
    "df['TRACK_genre_top_num'] = [1 if genre == \"Rock\" else 0 for genre in df[\"TRACK_genre_top\"]]\n",
    "\n",
    "df"
   ]
  },
  {
   "cell_type": "code",
   "execution_count": 3,
   "metadata": {
    "ExecuteTime": {
     "end_time": "2021-05-27T08:20:45.888394Z",
     "start_time": "2021-05-27T08:20:45.873891Z"
    }
   },
   "outputs": [
    {
     "data": {
      "text/plain": [
       "['ALBUM_date_released_year_',\n",
       " 'ALBUM_favorites_',\n",
       " 'ALBUM_listens_',\n",
       " 'ALBUM_tracks_',\n",
       " 'ARTIST_favorites_',\n",
       " 'TRACK_bitrate',\n",
       " 'TRACK_duration',\n",
       " 'TRACK_genre_top_num',\n",
       " 'TRACK_interest',\n",
       " 'TRACK_listens',\n",
       " 'TRACK_number']"
      ]
     },
     "execution_count": 3,
     "metadata": {},
     "output_type": "execute_result"
    }
   ],
   "source": [
    "features = [\n",
    " 'chroma_censkurtosis',\n",
    " 'chroma_censmax',\n",
    " 'chroma_censmean',\n",
    " 'chroma_censmedian',\n",
    " 'chroma_censmin',\n",
    " 'chroma_censskew',\n",
    " 'chroma_censstd',\n",
    " 'chroma_censcqtkurtosis',\n",
    " 'chroma_cqtmax',\n",
    " 'chroma_cqtmean',\n",
    " 'chroma_cqtmedian',\n",
    " 'chroma_cqtmin',\n",
    " 'chroma_cqtskew',\n",
    " 'chroma_cqtstd',\n",
    " 'chroma_stftkurtosis',\n",
    " 'chroma_stftmax',\n",
    " 'chroma_stftmean',\n",
    " 'chroma_stftmedian',\n",
    " 'chroma_stftmin',\n",
    " 'chroma_stftskew',\n",
    " 'chroma_stftstd',\n",
    " 'mfcckurtosis',\n",
    " 'mfccmax',\n",
    " 'mfccmean',\n",
    " 'mfccmedian',\n",
    " 'mfccmin',\n",
    " 'mfccskew',\n",
    " 'mfccstd',\n",
    " 'spectral_contrastkurtosis',\n",
    " 'spectral_contrastmax',\n",
    " 'spectral_contrastmean',\n",
    " 'spectral_contrastmedian',\n",
    " 'spectral_contrastmin',\n",
    " 'spectral_contrastskew',\n",
    " 'spectral_contraststd',\n",
    " 'tonnetzkurtosis',\n",
    " 'tonnetzmax',\n",
    " 'tonnetzmean',\n",
    " 'tonnetzmedian',\n",
    " 'tonnetzmin',\n",
    " 'tonnetzskew',\n",
    " 'tonnetzstd',\n",
    " 'rmsekurtosis01',\n",
    " 'rmsemax01',\n",
    " 'rmsemean01',\n",
    " 'rmsemedian01',\n",
    " 'rmsemin01',\n",
    " 'rmseskew01',\n",
    " 'rmsestd01',\n",
    " 'spectral_bandwidthkurtosis01',\n",
    " 'spectral_bandwidthmax01',\n",
    " 'spectral_bandwidthmean01',\n",
    " 'spectral_bandwidthmedian01',\n",
    " 'spectral_bandwidthmin01',\n",
    " 'spectral_bandwidthskew01',\n",
    " 'spectral_bandwidthstd01',\n",
    " 'spectral_centroidkurtosis01',\n",
    " 'spectral_centroidmax01',\n",
    " 'spectral_centroidmean01',\n",
    " 'spectral_centroidmedian01',\n",
    " 'spectral_centroidmin01',\n",
    " 'spectral_centroidskew01',\n",
    " 'spectral_centroidstd01',\n",
    " 'spectral_rolloffkurtosis01',\n",
    " 'spectral_rolloffmax01',\n",
    " 'spectral_rolloffmean01',\n",
    " 'spectral_rolloffmedian01',\n",
    " 'spectral_rolloffmin01',\n",
    " 'spectral_rolloffskew01',\n",
    " 'spectral_rolloffstd01',\n",
    " 'zcrkurtosis01',\n",
    " 'zcrmax01',\n",
    " 'zcrmean01',\n",
    " 'zcrmedian01',\n",
    " 'zcrmin01',\n",
    " 'zcrskew01',\n",
    " 'zcrstd01',\n",
    "]\n",
    "\n",
    "\n",
    "bitmap = [\n",
    "    'Blues',\n",
    " 'Classical',\n",
    " 'Country',\n",
    " 'Easy Listening',\n",
    " 'Electronic',\n",
    " 'Experimental',\n",
    " 'Folk',\n",
    " 'Hip-Hop',\n",
    " 'Instrumental',\n",
    " 'International',\n",
    " 'Jazz',\n",
    " 'Old-Time / Historic',\n",
    " 'Pop',\n",
    " 'Rock',\n",
    " 'Soul-RnB',\n",
    " 'Spoken',\n",
    "]\n",
    "\n",
    "nulli = [\n",
    "     'ALBUM_date_released_year',\n",
    "    'ALBUM_favorites',\n",
    "     'ALBUM_listens',\n",
    " 'ALBUM_tracks',\n",
    " 'ALBUM_type',\n",
    " 'ARTIST_favorites',\n",
    " 'ARTIST_location',\n",
    " 'TRACK_favorites',\n",
    "  'ARTIST_location_',\n",
    "    'TRACK_genres_soloTop'\n",
    "]\n",
    "\n",
    "nonNumerici = [\n",
    "    'ALBUM_tags',\n",
    "    'ALBUM_title',\n",
    "    'ARTIST_location_',\n",
    "    'ARTIST_name',\n",
    "    'ARTIST_tags',\n",
    "    'SET_subset',\n",
    "    'TRACK_genre_top',\n",
    "    'TRACK_genres',\n",
    "    'TRACK_genres_all',\n",
    "    'TRACK_genres_soloTop',\n",
    "    'TRACK_tags',\n",
    "    'TRACK_title',\n",
    "    'TRACK_genres_soloTop',\n",
    "    'ALBUM_type_',\n",
    "    'track_id'\n",
    "]\n",
    "\n",
    "def Diff(li1, li2):\n",
    "    return list(set(li1)-set(li2))\n",
    "\n",
    "tutti = list(df.columns)\n",
    "\n",
    "compl = Diff(tutti, features + bitmap + nonNumerici + nulli+ ['target'])\n",
    "\n",
    "compl.sort()\n",
    "\n",
    "compl"
   ]
  },
  {
   "cell_type": "raw",
   "metadata": {
    "ExecuteTime": {
     "end_time": "2021-05-24T16:11:05.448342Z",
     "start_time": "2021-05-24T16:11:03.683531Z"
    }
   },
   "source": [
    "df = pd.read_csv('flat_df_no_nulli.csv', index_col=0)\n",
    "\n",
    "from sklearn.preprocessing import LabelEncoder\n",
    "\n",
    "label_encoders = dict()\n",
    "column2encode = ['ALBUM_type_']\n",
    "\n",
    "for col in column2encode:\n",
    "    le = LabelEncoder()\n",
    "    df[col] = le.fit_transform(df[col])\n",
    "    label_encoders[col] = le\n",
    "    \n",
    "df = df[df.TRACK_genre_top.isna() == False] #droppo i nulli\n",
    "\n",
    "label_encoders = dict()\n",
    "column2encode = ['TRACK_genre_top']\n",
    "\n",
    "for col in column2encode:\n",
    "    le = LabelEncoder()\n",
    "    df['TRACK_genre_top_num'] = le.fit_transform(df[col])\n",
    "    label_encoders[col] = le\n",
    "    \n",
    "df['TRACK_genre_top_num']=[0 if genre == 3 else genre for genre in df['TRACK_genre_top_num']]\n",
    "df['TRACK_genre_top_num']=[0 if genre == 0 else genre for genre in df['TRACK_genre_top_num']]\n",
    "df['TRACK_genre_top_num']=[0 if genre == 14 else genre for genre in df['TRACK_genre_top_num']]\n",
    "df['TRACK_genre_top_num']=[0 if genre == 2 else genre for genre in df['TRACK_genre_top_num']]\n",
    "\n",
    "\n",
    "\n",
    "df['TRACK_genre_top_num']=[0 if genre == 15 else genre for genre in df['TRACK_genre_top_num']]\n",
    "df['TRACK_genre_top_num']=[0 if genre == 11 else genre for genre in df['TRACK_genre_top_num']]\n",
    "df['TRACK_genre_top_num']=[0 if genre == 10 else genre for genre in df['TRACK_genre_top_num']]\n",
    "\n",
    "\n",
    "df['TRACK_genre_top_num']=[3 if genre == 13 else genre for genre in df['TRACK_genre_top_num']] #rock 13 --> 3\n",
    "df['TRACK_genre_top_num']=[2 if genre == 12 else genre for genre in df['TRACK_genre_top_num']] #pop 12 --> 2\n",
    "\n",
    "df.TRACK_genre_top_num.value_counts().plot(kind='bar')"
   ]
  },
  {
   "cell_type": "code",
   "execution_count": 4,
   "metadata": {
    "ExecuteTime": {
     "end_time": "2021-05-27T08:20:46.027881Z",
     "start_time": "2021-05-27T08:20:46.013878Z"
    }
   },
   "outputs": [
    {
     "data": {
      "text/plain": [
       "['ALBUM_date_released_year_',\n",
       " 'ALBUM_favorites_',\n",
       " 'ALBUM_listens_',\n",
       " 'ALBUM_tracks_',\n",
       " 'ARTIST_favorites_',\n",
       " 'TRACK_bitrate',\n",
       " 'TRACK_duration',\n",
       " 'TRACK_genre_top_num',\n",
       " 'TRACK_interest',\n",
       " 'TRACK_listens',\n",
       " 'TRACK_number']"
      ]
     },
     "execution_count": 4,
     "metadata": {},
     "output_type": "execute_result"
    }
   ],
   "source": [
    "compl"
   ]
  },
  {
   "cell_type": "code",
   "execution_count": 17,
   "metadata": {
    "ExecuteTime": {
     "end_time": "2021-05-27T08:30:58.527633Z",
     "start_time": "2021-05-27T08:30:58.516631Z"
    }
   },
   "outputs": [],
   "source": [
    "attributi = [\n",
    "    \"mfccskew\",\n",
    "    \"mfccmedian\",\n",
    "    #\"ALBUM_type_\",\n",
    "    \"spectral_bandwidthmean01\",\n",
    "    \"chroma_stftmedian\",\n",
    "    \"mfccmax\",\n",
    "    \"zcrstd01\",\n",
    "    \"rmsekurtosis01\",\n",
    "    \"ARTIST_favorites_\",\n",
    "    \"spectral_centroidstd01\",\n",
    "    \"ALBUM_date_released_year_\",\n",
    "    \"zcrmedian01\",\n",
    "    \"spectral_contrastmin\",\n",
    "    \"chroma_cqtstd\"\n",
    "]"
   ]
  },
  {
   "cell_type": "code",
   "execution_count": 18,
   "metadata": {
    "ExecuteTime": {
     "end_time": "2021-05-27T08:30:58.945819Z",
     "start_time": "2021-05-27T08:30:58.924316Z"
    }
   },
   "outputs": [],
   "source": [
    "from sklearn.preprocessing import StandardScaler\n",
    "from imblearn.under_sampling import RandomUnderSampler\n",
    "from sklearn.preprocessing import RobustScaler\n",
    "\n",
    "X = df[attributi].values\n",
    "\n",
    "scaler = StandardScaler()\n",
    "X_scaled = scaler.fit_transform(X)\n"
   ]
  },
  {
   "cell_type": "code",
   "execution_count": 19,
   "metadata": {
    "ExecuteTime": {
     "end_time": "2021-05-27T08:30:59.379026Z",
     "start_time": "2021-05-27T08:30:59.364024Z"
    }
   },
   "outputs": [],
   "source": [
    "y = df[class_name]"
   ]
  },
  {
   "cell_type": "code",
   "execution_count": 20,
   "metadata": {
    "ExecuteTime": {
     "end_time": "2021-05-27T08:30:59.765750Z",
     "start_time": "2021-05-27T08:30:59.740244Z"
    }
   },
   "outputs": [],
   "source": [
    "X_train, X_test, y_train, y_test = train_test_split(X, y, test_size=0.3, random_state=100, stratify=y)"
   ]
  },
  {
   "cell_type": "code",
   "execution_count": 21,
   "metadata": {
    "ExecuteTime": {
     "end_time": "2021-05-27T08:31:00.106315Z",
     "start_time": "2021-05-27T08:31:00.087312Z"
    }
   },
   "outputs": [],
   "source": [
    "rus = RandomUnderSampler(random_state=42)\n",
    "X_rus, y_rus = rus.fit_resample(X, y)"
   ]
  },
  {
   "cell_type": "code",
   "execution_count": 23,
   "metadata": {
    "ExecuteTime": {
     "end_time": "2021-05-27T08:37:33.698001Z",
     "start_time": "2021-05-27T08:35:10.407083Z"
    }
   },
   "outputs": [
    {
     "name": "stderr",
     "output_type": "stream",
     "text": [
      "C:\\Users\\cri98\\anaconda3\\lib\\site-packages\\sklearn\\base.py:209: FutureWarning: From version 0.24, get_params will raise an AttributeError if a parameter cannot be retrieved as an instance attribute. Previously it would return None.\n",
      "  warnings.warn('From version 0.24, get_params will raise an '\n"
     ]
    },
    {
     "data": {
      "text/plain": [
       "KElbowVisualizer(ax=<AxesSubplot:>, estimator=KMeans(n_clusters=29), k=None,\n",
       "                 timings=False)"
      ]
     },
     "execution_count": 23,
     "metadata": {},
     "output_type": "execute_result"
    },
    {
     "data": {
      "image/png": "[encoded data removed]",
      "text/plain": [
       "<Figure size 576x396 with 1 Axes>"
      ]
     },
     "metadata": {},
     "output_type": "display_data"
    }
   ],
   "source": [
    "from yellowbrick.cluster import KElbowVisualizer\n",
    "from sklearn.cluster import KMeans\n",
    "\n",
    "\n",
    "model = KMeans()\n",
    "visualizer = KElbowVisualizer(model, k=(2,25), timings=False, locate_elbow=True, title=\" \")\n",
    "\n",
    "#Automatically find the “elbow” or “knee” which likely corresponds to the optimal value of k\n",
    "#using the “knee point detection algorithm”. \n",
    "visualizer.fit(X.squeeze())"
   ]
  },
  {
   "cell_type": "code",
   "execution_count": null,
   "metadata": {
    "ExecuteTime": {
     "end_time": "2021-05-27T08:30:48.443307Z",
     "start_time": "2021-05-27T08:30:48.433805Z"
    }
   },
   "outputs": [],
   "source": [
    "from yellowbrick.cluster import KElbowVisualizer\n",
    "from sklearn.cluster import KMeans\n",
    "\n",
    "\n",
    "model = KMeans()\n",
    "visualizer = KElbowVisualizer(model, k=(2,25), timings=False, locate_elbow=True, title=\" \", metric=\"silhouette\")\n",
    "\n",
    "#Automatically find the “elbow” or “knee” which likely corresponds to the optimal value of k\n",
    "#using the “knee point detection algorithm”. \n",
    "visualizer.fit(X.squeeze())"
   ]
  },
  {
   "cell_type": "code",
   "execution_count": null,
   "metadata": {
    "ExecuteTime": {
     "start_time": "2021-05-27T08:07:49.509Z"
    }
   },
   "outputs": [],
   "source": [
    "from yellowbrick.cluster import KElbowVisualizer\n",
    "from sklearn.cluster import KMeans\n",
    "\n",
    "\n",
    "model = KMeans()\n",
    "visualizer = KElbowVisualizer(model, k=(2,25), timings=False, locate_elbow=True, title=\" \")\n",
    "\n",
    "#Automatically find the “elbow” or “knee” which likely corresponds to the optimal value of k\n",
    "#using the “knee point detection algorithm”. \n",
    "visualizer.fit(X_scaled.squeeze())"
   ]
  },
  {
   "cell_type": "code",
   "execution_count": null,
   "metadata": {},
   "outputs": [],
   "source": [
    "from yellowbrick.cluster import KElbowVisualizer\n",
    "from sklearn.cluster import KMeans\n",
    "\n",
    "\n",
    "model = KMeans()\n",
    "visualizer = KElbowVisualizer(model, k=(2,25), timings=False, locate_elbow=True, title=\" \", metric=\"silhouette\")\n",
    "\n",
    "#Automatically find the “elbow” or “knee” which likely corresponds to the optimal value of k\n",
    "#using the “knee point detection algorithm”. \n",
    "visualizer.fit(X_scaled.squeeze())"
   ]
  },
  {
   "cell_type": "code",
   "execution_count": null,
   "metadata": {
    "ExecuteTime": {
     "start_time": "2021-05-27T08:08:24.524Z"
    }
   },
   "outputs": [],
   "source": [
    "from yellowbrick.cluster import KElbowVisualizer\n",
    "from sklearn.cluster import KMeans\n",
    "\n",
    "\n",
    "model = KMeans()\n",
    "visualizer = KElbowVisualizer(model, k=(2,25), timings=False, locate_elbow=True, title=\" \")\n",
    "\n",
    "#Automatically find the “elbow” or “knee” which likely corresponds to the optimal value of k\n",
    "#using the “knee point detection algorithm”. \n",
    "visualizer.fit(X_rus.squeeze())"
   ]
  },
  {
   "cell_type": "code",
   "execution_count": null,
   "metadata": {},
   "outputs": [],
   "source": [
    "from yellowbrick.cluster import KElbowVisualizer\n",
    "from sklearn.cluster import KMeans\n",
    "\n",
    "\n",
    "model = KMeans()\n",
    "visualizer = KElbowVisualizer(model, k=(2,25), timings=False, locate_elbow=True, title=\" \", metric=\"silhouette\")\n",
    "\n",
    "#Automatically find the “elbow” or “knee” which likely corresponds to the optimal value of k\n",
    "#using the “knee point detection algorithm”. \n",
    "visualizer.fit(X_rus.squeeze())"
   ]
  },
  {
   "cell_type": "markdown",
   "metadata": {},
   "source": [
    "# GaussianMixture"
   ]
  },
  {
   "cell_type": "code",
   "execution_count": 36,
   "metadata": {
    "ExecuteTime": {
     "end_time": "2021-05-25T08:25:23.772814Z",
     "start_time": "2021-05-25T08:25:23.768313Z"
    }
   },
   "outputs": [],
   "source": [
    "from sklearn.mixture import GaussianMixture"
   ]
  },
  {
   "cell_type": "markdown",
   "metadata": {},
   "source": [
    "covariance_type\n",
    "\n",
    "- 'full': each component has its own general covariance matrix\n",
    "- 'tied': all components share the same general covariance matrix\n",
    "- 'diag': each component has its own diagonal covariance matrix\n",
    "- 'spherical': each component has its own single variance"
   ]
  },
  {
   "cell_type": "code",
   "execution_count": 38,
   "metadata": {
    "ExecuteTime": {
     "end_time": "2021-05-25T08:25:35.809233Z",
     "start_time": "2021-05-25T08:25:35.214128Z"
    }
   },
   "outputs": [
    {
     "name": "stdout",
     "output_type": "stream",
     "text": [
      "Accuracy 0.08672123384969221\n",
      "F1-score [0.10195531 0.04646251 0.07925801 0.18770634 0.05274847 0.00553506\n",
      " 0.06988353 0.01057579 0.02089552 0.        ]\n"
     ]
    }
   ],
   "source": [
    "gm = GaussianMixture(n_components=10, random_state=0, covariance_type='spherical')\n",
    "gm.fit(X_train)\n",
    "\n",
    "y_pred = gm.predict(X_test)\n",
    "\n",
    "print('Accuracy %s' % accuracy_score(y_test, y_pred))\n",
    "print('F1-score %s' % f1_score(y_test, y_pred, average=None))"
   ]
  },
  {
   "cell_type": "code",
   "execution_count": 79,
   "metadata": {
    "ExecuteTime": {
     "end_time": "2021-05-25T08:48:16.178811Z",
     "start_time": "2021-05-25T08:47:42.932067Z"
    }
   },
   "outputs": [
    {
     "name": "stdout",
     "output_type": "stream",
     "text": [
      "Fitting 10 folds for each of 36 candidates, totalling 360 fits\n"
     ]
    },
    {
     "name": "stderr",
     "output_type": "stream",
     "text": [
      "[Parallel(n_jobs=-1)]: Using backend LokyBackend with 24 concurrent workers.\n",
      "[Parallel(n_jobs=-1)]: Done   2 tasks      | elapsed:    0.2s\n",
      "[Parallel(n_jobs=-1)]: Done  13 tasks      | elapsed:    1.9s\n",
      "[Parallel(n_jobs=-1)]: Done  24 tasks      | elapsed:    2.8s\n",
      "[Parallel(n_jobs=-1)]: Done  37 tasks      | elapsed:    6.2s\n",
      "[Parallel(n_jobs=-1)]: Done  50 tasks      | elapsed:   11.4s\n",
      "[Parallel(n_jobs=-1)]: Done  65 tasks      | elapsed:   17.1s\n",
      "[Parallel(n_jobs=-1)]: Done  80 tasks      | elapsed:   19.6s\n",
      "[Parallel(n_jobs=-1)]: Done  97 tasks      | elapsed:   21.0s\n",
      "[Parallel(n_jobs=-1)]: Done 114 tasks      | elapsed:   23.1s\n",
      "[Parallel(n_jobs=-1)]: Done 133 tasks      | elapsed:   24.5s\n",
      "[Parallel(n_jobs=-1)]: Done 152 tasks      | elapsed:   25.8s\n",
      "[Parallel(n_jobs=-1)]: Done 173 tasks      | elapsed:   27.0s\n",
      "[Parallel(n_jobs=-1)]: Done 194 tasks      | elapsed:   27.4s\n",
      "[Parallel(n_jobs=-1)]: Done 217 tasks      | elapsed:   27.8s\n",
      "[Parallel(n_jobs=-1)]: Done 240 tasks      | elapsed:   28.2s\n",
      "[Parallel(n_jobs=-1)]: Done 265 tasks      | elapsed:   28.7s\n",
      "[Parallel(n_jobs=-1)]: Done 290 tasks      | elapsed:   29.2s\n",
      "[Parallel(n_jobs=-1)]: Done 350 out of 360 | elapsed:   32.6s remaining:    0.8s\n",
      "[Parallel(n_jobs=-1)]: Done 360 out of 360 | elapsed:   32.8s finished\n"
     ]
    },
    {
     "data": {
      "text/plain": [
       "GridSearchCV(cv=10, estimator=GaussianMixture(), n_jobs=-1,\n",
       "             param_grid={'covariance_type': ['full', 'tied', 'diag',\n",
       "                                             'spherical'],\n",
       "                         'n_components': range(1, 10)},\n",
       "             scoring='accuracy', verbose=10)"
      ]
     },
     "execution_count": 79,
     "metadata": {},
     "output_type": "execute_result"
    }
   ],
   "source": [
    "from sklearn.model_selection import GridSearchCV\n",
    "from sklearn.ensemble import RandomForestClassifier\n",
    "\n",
    "\n",
    "param_grid = {'n_components': range(1, 10),\n",
    "              'covariance_type': ['full', 'tied', 'diag', 'spherical']\n",
    "             }\n",
    "\n",
    "clf = GaussianMixture()\n",
    "\n",
    "\n",
    "grid_search = GridSearchCV(clf, param_grid, n_jobs=-1, verbose=10, scoring='accuracy', cv=10)\n",
    "grid_search.fit(X_train, y_train)"
   ]
  },
  {
   "cell_type": "code",
   "execution_count": 80,
   "metadata": {
    "ExecuteTime": {
     "end_time": "2021-05-25T08:48:16.535375Z",
     "start_time": "2021-05-25T08:48:16.521872Z"
    }
   },
   "outputs": [
    {
     "name": "stdout",
     "output_type": "stream",
     "text": [
      "Model with rank: 1\n",
      "Mean validation score: 0.100 (std: 0.039)\n",
      "Parameters: {'covariance_type': 'tied', 'n_components': 9}\n",
      "\n",
      "Model with rank: 2\n",
      "Mean validation score: 0.093 (std: 0.036)\n",
      "Parameters: {'covariance_type': 'spherical', 'n_components': 9}\n",
      "\n",
      "Model with rank: 3\n",
      "Mean validation score: 0.091 (std: 0.038)\n",
      "Parameters: {'covariance_type': 'tied', 'n_components': 7}\n",
      "\n",
      "Model with rank: 4\n",
      "Mean validation score: 0.091 (std: 0.029)\n",
      "Parameters: {'covariance_type': 'spherical', 'n_components': 6}\n",
      "\n",
      "Model with rank: 5\n",
      "Mean validation score: 0.089 (std: 0.045)\n",
      "Parameters: {'covariance_type': 'spherical', 'n_components': 8}\n",
      "\n",
      "Model with rank: 6\n",
      "Mean validation score: 0.088 (std: 0.041)\n",
      "Parameters: {'covariance_type': 'spherical', 'n_components': 5}\n",
      "\n",
      "Model with rank: 7\n",
      "Mean validation score: 0.086 (std: 0.044)\n",
      "Parameters: {'covariance_type': 'full', 'n_components': 7}\n",
      "\n",
      "Model with rank: 8\n",
      "Mean validation score: 0.085 (std: 0.038)\n",
      "Parameters: {'covariance_type': 'full', 'n_components': 9}\n",
      "\n",
      "Model with rank: 9\n",
      "Mean validation score: 0.083 (std: 0.031)\n",
      "Parameters: {'covariance_type': 'tied', 'n_components': 8}\n",
      "\n",
      "Model with rank: 10\n",
      "Mean validation score: 0.076 (std: 0.025)\n",
      "Parameters: {'covariance_type': 'spherical', 'n_components': 4}\n",
      "\n"
     ]
    }
   ],
   "source": [
    "report(grid_search.cv_results_, n_top=10)"
   ]
  },
  {
   "cell_type": "markdown",
   "metadata": {
    "ExecuteTime": {
     "end_time": "2021-05-24T15:51:58.965204Z",
     "start_time": "2021-05-24T15:51:58.961704Z"
    }
   },
   "source": [
    "# X-means"
   ]
  },
  {
   "cell_type": "code",
   "execution_count": 81,
   "metadata": {
    "ExecuteTime": {
     "end_time": "2021-05-25T08:48:16.829927Z",
     "start_time": "2021-05-25T08:48:16.815925Z"
    }
   },
   "outputs": [],
   "source": [
    "from pyclustering.cluster import xmeans"
   ]
  },
  {
   "cell_type": "code",
   "execution_count": 82,
   "metadata": {
    "ExecuteTime": {
     "end_time": "2021-05-25T08:48:18.566235Z",
     "start_time": "2021-05-25T08:48:16.831427Z"
    }
   },
   "outputs": [
    {
     "data": {
      "text/plain": [
       "<pyclustering.cluster.xmeans.xmeans at 0x217043a9c40>"
      ]
     },
     "execution_count": 82,
     "metadata": {},
     "output_type": "execute_result"
    }
   ],
   "source": [
    "xm = xmeans.xmeans(X)\n",
    "xm.process()"
   ]
  },
  {
   "cell_type": "code",
   "execution_count": 83,
   "metadata": {
    "ExecuteTime": {
     "end_time": "2021-05-25T08:48:18.581736Z",
     "start_time": "2021-05-25T08:48:18.567734Z"
    }
   },
   "outputs": [
    {
     "data": {
      "text/plain": [
       "20"
      ]
     },
     "execution_count": 83,
     "metadata": {},
     "output_type": "execute_result"
    }
   ],
   "source": [
    "clusters = xm.get_clusters()\n",
    "centers = xm.get_centers()\n",
    "\n",
    "len(centers)"
   ]
  },
  {
   "cell_type": "code",
   "execution_count": 84,
   "metadata": {
    "ExecuteTime": {
     "end_time": "2021-05-25T08:48:39.169380Z",
     "start_time": "2021-05-25T08:48:18.583237Z"
    },
    "scrolled": true
   },
   "outputs": [
    {
     "data": {
      "text/plain": [
       "0.7747537944935687"
      ]
     },
     "execution_count": 84,
     "metadata": {},
     "output_type": "execute_result"
    }
   ],
   "source": [
    "from pyclustering.cluster.silhouette import silhouette\n",
    "\n",
    "ris = silhouette(X, clusters).process().get_score()\n",
    "somma =.0\n",
    "\n",
    "for i in ris:\n",
    "    if(str(i) == \"nan\") :\n",
    "        continue\n",
    "    somma = somma + i\n",
    "    \n",
    "    \n",
    "somma/len(ris)"
   ]
  },
  {
   "cell_type": "code",
   "execution_count": 85,
   "metadata": {
    "ExecuteTime": {
     "end_time": "2021-05-25T08:48:39.184882Z",
     "start_time": "2021-05-25T08:48:39.170880Z"
    }
   },
   "outputs": [
    {
     "data": {
      "text/plain": [
       "220252968903.63156"
      ]
     },
     "execution_count": 85,
     "metadata": {},
     "output_type": "execute_result"
    }
   ],
   "source": [
    "xm.get_total_wce()"
   ]
  },
  {
   "cell_type": "markdown",
   "metadata": {
    "ExecuteTime": {
     "end_time": "2021-05-24T15:57:59.103868Z",
     "start_time": "2021-05-24T15:57:59.088365Z"
    }
   },
   "source": [
    "# OPTICS"
   ]
  },
  {
   "cell_type": "code",
   "execution_count": 60,
   "metadata": {
    "ExecuteTime": {
     "end_time": "2021-05-25T08:30:58.652903Z",
     "start_time": "2021-05-25T08:30:58.643902Z"
    }
   },
   "outputs": [],
   "source": [
    "from sklearn.cluster import OPTICS"
   ]
  },
  {
   "cell_type": "code",
   "execution_count": 62,
   "metadata": {
    "ExecuteTime": {
     "end_time": "2021-05-25T08:32:47.618917Z",
     "start_time": "2021-05-25T08:31:17.748014Z"
    }
   },
   "outputs": [
    {
     "data": {
      "text/plain": [
       "OPTICS(n_jobs=22)"
      ]
     },
     "execution_count": 62,
     "metadata": {},
     "output_type": "execute_result"
    }
   ],
   "source": [
    "optics = OPTICS(min_samples=5, max_eps=np.inf, n_jobs=22)\n",
    "optics.fit(X_rus)"
   ]
  },
  {
   "cell_type": "code",
   "execution_count": 63,
   "metadata": {
    "ExecuteTime": {
     "end_time": "2021-05-25T08:32:49.851324Z",
     "start_time": "2021-05-25T08:32:47.899479Z"
    }
   },
   "outputs": [
    {
     "name": "stdout",
     "output_type": "stream",
     "text": [
      "Silhouette Coefficient: -0.531\n"
     ]
    }
   ],
   "source": [
    "from sklearn import metrics\n",
    "print(\"Silhouette Coefficient: %0.3f\"\n",
    "      % metrics.silhouette_score(X_rus, optics.labels_))"
   ]
  },
  {
   "cell_type": "code",
   "execution_count": 95,
   "metadata": {
    "ExecuteTime": {
     "end_time": "2021-05-25T10:07:56.693623Z",
     "start_time": "2021-05-25T09:58:55.402339Z"
    }
   },
   "outputs": [
    {
     "data": {
      "application/vnd.jupyter.widget-view+json": {
       "model_id": "20a7fc6d8b9f4f7db480bb3e6689710d",
       "version_major": 2,
       "version_minor": 0
      },
      "text/plain": [
       "HBox(children=(HTML(value=''), FloatProgress(value=0.0, max=6.0), HTML(value='')))"
      ]
     },
     "metadata": {},
     "output_type": "display_data"
    },
    {
     "name": "stdout",
     "output_type": "stream",
     "text": [
      "\n"
     ]
    },
    {
     "data": {
      "text/plain": [
       "{110: 0.981053283394671,\n",
       " 115: 0.981053283394671,\n",
       " 120: 0.9811008605718742,\n",
       " 125: 0.9812072665572572,\n",
       " 130: 0.9812072665572572,\n",
       " 135: 0.9812072665572572}"
      ]
     },
     "execution_count": 95,
     "metadata": {},
     "output_type": "execute_result"
    }
   ],
   "source": [
    "min_s = range(110, 140, 5) # 125 --> 0.9812072665572572\n",
    "\n",
    "ris = {}\n",
    "\n",
    "for i in tqdm(min_s):\n",
    "    optics = OPTICS(min_samples=i, max_eps=np.inf, n_jobs=22)\n",
    "    optics.fit(X_rus)\n",
    "    \n",
    "    ris[i] = metrics.silhouette_score(X_rus, optics.labels_)\n",
    "    \n",
    "ris"
   ]
  },
  {
   "cell_type": "code",
   "execution_count": null,
   "metadata": {
    "ExecuteTime": {
     "end_time": "2021-05-25T09:15:59.827774Z",
     "start_time": "2021-05-25T09:15:59.719255Z"
    }
   },
   "outputs": [],
   "source": []
  },
  {
   "cell_type": "markdown",
   "metadata": {},
   "source": [
    "### --------------------------------------------------------------------------------------------------------------------\n",
    "\n",
    "# PARTE 4.3"
   ]
  },
  {
   "cell_type": "markdown",
   "metadata": {},
   "source": [
    "# K-modes"
   ]
  },
  {
   "cell_type": "code",
   "execution_count": 16,
   "metadata": {
    "ExecuteTime": {
     "end_time": "2021-05-24T16:24:18.000118Z",
     "start_time": "2021-05-24T16:24:17.986112Z"
    }
   },
   "outputs": [],
   "source": [
    "from kmodes.kmodes import KModes"
   ]
  },
  {
   "cell_type": "code",
   "execution_count": 18,
   "metadata": {
    "ExecuteTime": {
     "end_time": "2021-05-24T16:35:55.577720Z",
     "start_time": "2021-05-24T16:35:23.077888Z"
    }
   },
   "outputs": [
    {
     "name": "stdout",
     "output_type": "stream",
     "text": [
      "Init: initializing centroids\n",
      "Init: initializing clusters\n",
      "Starting iterations...\n",
      "Run 1, iteration: 1/100, moves: 11926, cost: 379135.0\n",
      "Run 1, iteration: 2/100, moves: 2613, cost: 379135.0\n",
      "Init: initializing centroids\n",
      "Init: initializing clusters\n",
      "Starting iterations...\n",
      "Run 2, iteration: 1/100, moves: 16720, cost: 379458.0\n",
      "Run 2, iteration: 2/100, moves: 6, cost: 379458.0\n",
      "Init: initializing centroids\n",
      "Init: initializing clusters\n",
      "Starting iterations...\n",
      "Run 3, iteration: 1/100, moves: 8172, cost: 379226.0\n",
      "Run 3, iteration: 2/100, moves: 9, cost: 379226.0\n",
      "Init: initializing centroids\n",
      "Init: initializing clusters\n",
      "Starting iterations...\n",
      "Run 4, iteration: 1/100, moves: 13168, cost: 378589.0\n",
      "Run 4, iteration: 2/100, moves: 4, cost: 378589.0\n",
      "Init: initializing centroids\n",
      "Init: initializing clusters\n",
      "Starting iterations...\n",
      "Run 5, iteration: 1/100, moves: 4942, cost: 386976.0\n",
      "Run 5, iteration: 2/100, moves: 0, cost: 386976.0\n",
      "Best run was number 4\n"
     ]
    }
   ],
   "source": [
    "km = KModes(n_clusters=4, init='Huang', n_init=5, verbose=1)\n",
    "\n",
    "clusters = km.fit_predict(X)"
   ]
  },
  {
   "cell_type": "markdown",
   "metadata": {},
   "source": [
    "# Rock"
   ]
  },
  {
   "cell_type": "code",
   "execution_count": null,
   "metadata": {
    "ExecuteTime": {
     "end_time": "2021-05-24T16:24:18.283238Z",
     "start_time": "2021-05-24T16:10:58.914Z"
    }
   },
   "outputs": [],
   "source": [
    "from pyclustering.cluster import rock \n",
    "\n",
    "rc = rock.rock(X2[:100], eps=0.7, number_clusters=4, threshold=0.5)\n",
    "rc.process()"
   ]
  },
  {
   "cell_type": "code",
   "execution_count": null,
   "metadata": {
    "ExecuteTime": {
     "end_time": "2021-05-24T16:24:18.283739Z",
     "start_time": "2021-05-24T16:10:58.915Z"
    }
   },
   "outputs": [],
   "source": [
    "clusters = rc.get_clusters()"
   ]
  },
  {
   "cell_type": "code",
   "execution_count": null,
   "metadata": {},
   "outputs": [],
   "source": []
  }
 ],
 "metadata": {
  "kernelspec": {
   "display_name": "Python 3",
   "language": "python",
   "name": "python3"
  },
  "language_info": {
   "codemirror_mode": {
    "name": "ipython",
    "version": 3
   },
   "file_extension": ".py",
   "mimetype": "text/x-python",
   "name": "python",
   "nbconvert_exporter": "python",
   "pygments_lexer": "ipython3",
   "version": "3.8.5"
  },
  "toc": {
   "base_numbering": 1,
   "nav_menu": {},
   "number_sections": false,
   "sideBar": true,
   "skip_h1_title": false,
   "title_cell": "Table of Contents",
   "title_sidebar": "Contents",
   "toc_cell": false,
   "toc_position": {
    "height": "calc(100% - 180px)",
    "left": "10px",
    "top": "150px",
    "width": "165px"
   },
   "toc_section_display": true,
   "toc_window_display": true
  },
  "varInspector": {
   "cols": {
    "lenName": 16,
    "lenType": 16,
    "lenVar": 40
   },
   "kernels_config": {
    "python": {
     "delete_cmd_postfix": "",
     "delete_cmd_prefix": "del ",
     "library": "var_list.py",
     "varRefreshCmd": "print(var_dic_list())"
    },
    "r": {
     "delete_cmd_postfix": ") ",
     "delete_cmd_prefix": "rm(",
     "library": "var_list.r",
     "varRefreshCmd": "cat(var_dic_list()) "
    }
   },
   "types_to_exclude": [
    "module",
    "function",
    "builtin_function_or_method",
    "instance",
    "_Feature"
   ],
   "window_display": false
  }
 },
 "nbformat": 4,
 "nbformat_minor": 4
}
